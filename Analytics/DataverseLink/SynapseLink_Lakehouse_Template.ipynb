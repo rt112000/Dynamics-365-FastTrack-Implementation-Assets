{
  "cells": [
    {
      "cell_type": "markdown",
      "source": [
        "# Lakehouse architecture with Synapse Link - Facts and Dims tables\r\n",
        "Below is a small demo of a lakehouse architecture utilising delta parquet files. We use PySpark code in a notebook so the example is more programmer friendly.\r\n",
        "\r\n",
        "We will use Dynamics products and customers data from data lake to do lookups and joins to enrich this raw data or bronze delta table and create more refined tables, or silver delta table. Finally do some aggregation and create a Gold delta table and do some basic analytics right within this notebook.\r\n",
        "\r\n",
        "We first read the delta parquet data file into a data frame and display 10 rows"
      ],
      "metadata": {
        "nteract": {
          "transient": {
            "deleting": false
          }
        }
      }
    },
    {
      "cell_type": "code",
      "source": [
        "#Set up file path for delta files\r\n",
        "itempath = \"abfss://containername@datalakename.dfs.core.windows.net/deltalake/inventtable_partitioned/\"\r\n",
        "df_item = spark.read.load(itempath, format='delta')\r\n",
        "display(df_item.limit(10))"
      ],
      "outputs": [
        {
          "output_type": "display_data",
          "data": {
            "application/vnd.livy.statement-meta+json": {
              "spark_pool": "SparkNB",
              "session_id": "53",
              "statement_id": 2,
              "state": "finished",
              "livy_statement_state": "available",
              "queued_time": "2023-11-24T02:02:12.5268791Z",
              "session_start_time": "2023-11-24T02:02:12.6349291Z",
              "execution_start_time": "2023-11-24T02:05:06.6183844Z",
              "execution_finish_time": "2023-11-24T02:05:48.3208433Z",
              "spark_jobs": null,
              "parent_msg_id": "923c8e0f-332d-4e55-8375-1e8e0d01c659"
            },
            "text/plain": "StatementMeta(SparkNB, 53, 2, Finished, Available)"
          },
          "metadata": {}
        },
        {
          "output_type": "display_data",
          "data": {
            "application/vnd.synapse.widget-view+json": {
              "widget_id": "648b274e-9d8f-433a-a117-14b0bd89f28a",
              "widget_type": "Synapse.DataFrame"
            },
            "text/plain": "SynapseWidget(Synapse.DataFrame, 648b274e-9d8f-433a-a117-14b0bd89f28a)"
          },
          "metadata": {}
        }
      ],
      "execution_count": 1,
      "metadata": {
        "jupyter": {
          "source_hidden": false,
          "outputs_hidden": false
        },
        "nteract": {
          "transient": {
            "deleting": false
          }
        },
        "collapsed": false
      }
    },
    {
      "cell_type": "code",
      "source": [
        "#Set up file path for delta files\r\n",
        "productPath = \"abfss://containername@datalakename.dfs.core.windows.net/deltalake/ecoresproduct_partitioned/\"\r\n",
        "df_product = spark.read.load(productPath, format='delta')\r\n",
        "display(df_product.limit(10))"
      ],
      "outputs": [
        {
          "output_type": "display_data",
          "data": {
            "application/vnd.livy.statement-meta+json": {
              "spark_pool": "SparkNB",
              "session_id": "53",
              "statement_id": 3,
              "state": "finished",
              "livy_statement_state": "available",
              "queued_time": "2023-11-24T02:02:12.5303044Z",
              "session_start_time": null,
              "execution_start_time": "2023-11-24T02:05:48.4886082Z",
              "execution_finish_time": "2023-11-24T02:05:55.3608346Z",
              "spark_jobs": null,
              "parent_msg_id": "93c57fb5-0e01-47fd-841d-6ca54a9297c7"
            },
            "text/plain": "StatementMeta(SparkNB, 53, 3, Finished, Available)"
          },
          "metadata": {}
        },
        {
          "output_type": "display_data",
          "data": {
            "application/vnd.synapse.widget-view+json": {
              "widget_id": "c9123e62-978a-47a6-a4c2-c4ca05d3c42f",
              "widget_type": "Synapse.DataFrame"
            },
            "text/plain": "SynapseWidget(Synapse.DataFrame, c9123e62-978a-47a6-a4c2-c4ca05d3c42f)"
          },
          "metadata": {}
        }
      ],
      "execution_count": 2,
      "metadata": {
        "collapsed": false
      }
    },
    {
      "cell_type": "code",
      "source": [
        "#Set up file path for delta files\r\n",
        "productTransPath = \"abfss://containername@datalakename.dfs.core.windows.net/deltalake/ecoresproducttranslation_partitioned/\"\r\n",
        "df_productTrans = spark.read.load(productTransPath, format='delta')\r\n",
        "display(df_productTrans.limit(10))"
      ],
      "outputs": [
        {
          "output_type": "display_data",
          "data": {
            "application/vnd.livy.statement-meta+json": {
              "spark_pool": "SparkNB",
              "session_id": "53",
              "statement_id": 4,
              "state": "finished",
              "livy_statement_state": "available",
              "queued_time": "2023-11-24T02:02:12.5343704Z",
              "session_start_time": null,
              "execution_start_time": "2023-11-24T02:05:55.525153Z",
              "execution_finish_time": "2023-11-24T02:06:00.9306709Z",
              "spark_jobs": null,
              "parent_msg_id": "98b91810-497e-4a6c-97d6-27260cb34a02"
            },
            "text/plain": "StatementMeta(SparkNB, 53, 4, Finished, Available)"
          },
          "metadata": {}
        },
        {
          "output_type": "display_data",
          "data": {
            "application/vnd.synapse.widget-view+json": {
              "widget_id": "81aeb629-cf72-4a20-97fc-89b060f09947",
              "widget_type": "Synapse.DataFrame"
            },
            "text/plain": "SynapseWidget(Synapse.DataFrame, 81aeb629-cf72-4a20-97fc-89b060f09947)"
          },
          "metadata": {}
        }
      ],
      "execution_count": 3,
      "metadata": {
        "jupyter": {
          "source_hidden": false,
          "outputs_hidden": false
        },
        "nteract": {
          "transient": {
            "deleting": false
          }
        },
        "collapsed": false
      }
    },
    {
      "cell_type": "code",
      "source": [
        "#create joined dataframe \r\n",
        "df_item.createOrReplaceTempView(\"vw_items\")\r\n",
        "df_product.createOrReplaceTempView(\"vw_products\")\r\n",
        "df_productTrans.createOrReplaceTempView(\"vw_producttrans\")\r\n",
        "\r\n",
        "df_joineditem = spark.sql(\"\"\"\r\n",
        "\r\n",
        "\tselect\r\n",
        "\t\tit.Recid as ProductId, \r\n",
        "\t\tp.displayproductnumber as ProductNumber, \r\n",
        "\t\tpt.name ProductName,\r\n",
        "\t\tit.itemid as ItemNumber,\r\n",
        "\t\tit.namealias ItemShortName,\r\n",
        "\t\tit.dataareaid LegalEntity\r\n",
        "\tfrom vw_items as it\r\n",
        "\tleft outer join vw_products p on p.recid = it.product\r\n",
        "\tleft outer join vw_producttrans pt on it.product = pt.product and pt.languageid = 'en-us'\r\n",
        "\r\n",
        "\"\"\")\r\n",
        "display(df_joineditem.limit(10))"
      ],
      "outputs": [
        {
          "output_type": "display_data",
          "data": {
            "application/vnd.livy.statement-meta+json": {
              "spark_pool": "SparkNB",
              "session_id": "53",
              "statement_id": 5,
              "state": "finished",
              "livy_statement_state": "available",
              "queued_time": "2023-11-24T02:02:12.5405821Z",
              "session_start_time": null,
              "execution_start_time": "2023-11-24T02:06:01.0663697Z",
              "execution_finish_time": "2023-11-24T02:06:23.8334339Z",
              "spark_jobs": null,
              "parent_msg_id": "62769441-ba50-41bc-abe1-859220cf75a7"
            },
            "text/plain": "StatementMeta(SparkNB, 53, 5, Finished, Available)"
          },
          "metadata": {}
        },
        {
          "output_type": "display_data",
          "data": {
            "application/vnd.synapse.widget-view+json": {
              "widget_id": "f239b700-aa13-4137-9ed6-c90b4b9716d4",
              "widget_type": "Synapse.DataFrame"
            },
            "text/plain": "SynapseWidget(Synapse.DataFrame, f239b700-aa13-4137-9ed6-c90b4b9716d4)"
          },
          "metadata": {}
        }
      ],
      "execution_count": 4,
      "metadata": {
        "jupyter": {
          "source_hidden": false,
          "outputs_hidden": false
        },
        "nteract": {
          "transient": {
            "deleting": false
          }
        },
        "collapsed": false
      }
    },
    {
      "cell_type": "code",
      "source": [
        "df_joineditem.createOrReplaceTempView(\"vw_JoinedProducts\")"
      ],
      "outputs": [
        {
          "output_type": "display_data",
          "data": {
            "application/vnd.livy.statement-meta+json": {
              "spark_pool": "SparkNB",
              "session_id": "53",
              "statement_id": 6,
              "state": "finished",
              "livy_statement_state": "available",
              "queued_time": "2023-11-24T02:02:12.5457185Z",
              "session_start_time": null,
              "execution_start_time": "2023-11-24T02:06:24.0025851Z",
              "execution_finish_time": "2023-11-24T02:06:24.1827168Z",
              "spark_jobs": null,
              "parent_msg_id": "fd157b16-ded9-40a7-9c2d-a458ff9d95a9"
            },
            "text/plain": "StatementMeta(SparkNB, 53, 6, Finished, Available)"
          },
          "metadata": {}
        }
      ],
      "execution_count": 5,
      "metadata": {
        "jupyter": {
          "source_hidden": false,
          "outputs_hidden": false
        },
        "nteract": {
          "transient": {
            "deleting": false
          }
        }
      }
    },
    {
      "cell_type": "code",
      "source": [
        "%%sql\r\n",
        "select * from vw_JoinedProducts limit 10"
      ],
      "outputs": [
        {
          "output_type": "display_data",
          "data": {
            "application/vnd.livy.statement-meta+json": {
              "spark_pool": "SparkNB",
              "session_id": "53",
              "statement_id": 7,
              "state": "finished",
              "livy_statement_state": "available",
              "queued_time": "2023-11-24T02:02:12.548593Z",
              "session_start_time": null,
              "execution_start_time": "2023-11-24T02:06:24.3605019Z",
              "execution_finish_time": "2023-11-24T02:06:29.5827409Z",
              "spark_jobs": null,
              "parent_msg_id": "8ac5d5a5-28d0-4289-a263-4e0437411e4d"
            },
            "text/plain": "StatementMeta(SparkNB, 53, 7, Finished, Available)"
          },
          "metadata": {}
        },
        {
          "output_type": "execute_result",
          "execution_count": 6,
          "data": {
            "application/vnd.synapse.sparksql-result+json": {
              "schema": {
                "type": "struct",
                "fields": [
                  {
                    "name": "ProductId",
                    "type": "long",
                    "nullable": true,
                    "metadata": {}
                  },
                  {
                    "name": "ProductNumber",
                    "type": "string",
                    "nullable": true,
                    "metadata": {}
                  },
                  {
                    "name": "ProductName",
                    "type": "string",
                    "nullable": true,
                    "metadata": {}
                  },
                  {
                    "name": "ItemNumber",
                    "type": "string",
                    "nullable": true,
                    "metadata": {}
                  },
                  {
                    "name": "ItemShortName",
                    "type": "string",
                    "nullable": true,
                    "metadata": {}
                  },
                  {
                    "name": "LegalEntity",
                    "type": "string",
                    "nullable": true,
                    "metadata": {}
                  }
                ]
              },
              "data": [
                [
                  "22565431954",
                  "0111",
                  "Whistle & Lanyard (12 pc)",
                  "0111",
                  "Whistle&Lanyard(12pc",
                  "frrt"
                ],
                [
                  "22565432048",
                  "1115",
                  "Proseware Laptop12 M210",
                  "1115",
                  "Proseware Laptop12 M",
                  "frrt"
                ],
                [
                  "22565431913",
                  "0070",
                  "DVD - Intermediate Yoga",
                  "0070",
                  "DVDIntermediateYoga",
                  "frrt"
                ],
                [
                  "22565437968",
                  "M0056",
                  "Power Supply - Universal",
                  "M0056",
                  "Power Supply - Unive",
                  "usmf"
                ],
                [
                  "22565431979",
                  "0136",
                  "Barbell Mid Width Bench",
                  "0136",
                  "BarbellMidWidthBench",
                  "frrt"
                ],
                [
                  "68719483522",
                  "7006",
                  "Premium bike kit",
                  "7006",
                  "Premiumbikekit",
                  "usrt"
                ],
                [
                  "22565431873",
                  "0030",
                  "Synthetic Basketball",
                  "0030",
                  "SyntheticBasketball",
                  "frrt"
                ],
                [
                  "22565431891",
                  "0048",
                  "Aluminum Baseball Bat",
                  "0048",
                  "AluminumBaseballBat",
                  "frrt"
                ],
                [
                  "22565432146",
                  "2206",
                  "Fabrikam SLR Camera X358",
                  "2206",
                  "Fabrikam SLR Camera",
                  "frrt"
                ],
                [
                  "22565431921",
                  "0078",
                  "DVD - Advanced Pilates",
                  "0078",
                  "DVDAdvancedPilates",
                  "frrt"
                ]
              ]
            },
            "text/plain": "<Spark SQL result set with 10 rows and 6 fields>"
          },
          "metadata": {}
        }
      ],
      "execution_count": 6,
      "metadata": {
        "jupyter": {
          "source_hidden": false,
          "outputs_hidden": false
        },
        "nteract": {
          "transient": {
            "deleting": false
          }
        },
        "microsoft": {
          "language": "sparksql"
        },
        "collapsed": false
      }
    },
    {
      "cell_type": "markdown",
      "source": [
        "**Next, we save the refined dataframe as a table in lake database SL_GoldServerless**"
      ],
      "metadata": {
        "nteract": {
          "transient": {
            "deleting": false
          }
        }
      }
    },
    {
      "cell_type": "code",
      "source": [
        "#Save dataframe as Dim Table\r\n",
        "df_joineditem.write.mode(\"overwrite\").format(\"delta\").saveAsTable(\"SL_GoldServerless.Products_Dim\")"
      ],
      "outputs": [
        {
          "output_type": "display_data",
          "data": {
            "application/vnd.livy.statement-meta+json": {
              "spark_pool": "SparkNB",
              "session_id": "53",
              "statement_id": 9,
              "state": "finished",
              "livy_statement_state": "available",
              "queued_time": "2023-11-24T02:10:32.5734026Z",
              "session_start_time": null,
              "execution_start_time": "2023-11-24T02:10:32.6933681Z",
              "execution_finish_time": "2023-11-24T02:10:45.2450037Z",
              "spark_jobs": null,
              "parent_msg_id": "d1d1880b-80a6-494e-b350-eb726565dfbf"
            },
            "text/plain": "StatementMeta(SparkNB, 53, 9, Finished, Available)"
          },
          "metadata": {}
        }
      ],
      "execution_count": 8,
      "metadata": {
        "jupyter": {
          "source_hidden": false,
          "outputs_hidden": false
        },
        "nteract": {
          "transient": {
            "deleting": false
          }
        }
      }
    },
    {
      "cell_type": "markdown",
      "source": [
        "**Alternative to saving as a lake database table is to save your refined tables as delta files**"
      ],
      "metadata": {
        "nteract": {
          "transient": {
            "deleting": false
          }
        }
      }
    },
    {
      "cell_type": "code",
      "source": [
        "#set paths for silver or gold tables\r\n",
        "productSilverTablePath = 'abfss://containername@datalakename.dfs.core.windows.net/lakehouse2/productSilverTable'\r\n",
        "#Save as delta file\r\n",
        "df_joineditem.write.mode(\"overwrite\").format(\"delta\").option(\"overwriteSchema\", \"true\").save(productSilverTablePath)"
      ],
      "outputs": [
        {
          "output_type": "display_data",
          "data": {
            "application/vnd.livy.statement-meta+json": {
              "spark_pool": null,
              "session_id": null,
              "statement_id": null,
              "state": "cancelled",
              "livy_statement_state": null,
              "queued_time": "2023-11-24T02:02:12.5538578Z",
              "session_start_time": null,
              "execution_start_time": null,
              "execution_finish_time": "2023-11-24T02:06:30.8150865Z",
              "spark_jobs": null,
              "parent_msg_id": "5f15d480-390f-485c-ad41-7f89a4919503"
            },
            "text/plain": "StatementMeta(, , , Cancelled, )"
          },
          "metadata": {}
        }
      ],
      "execution_count": null,
      "metadata": {
        "jupyter": {
          "source_hidden": false,
          "outputs_hidden": false
        },
        "nteract": {
          "transient": {
            "deleting": false
          }
        }
      }
    },
    {
      "cell_type": "markdown",
      "source": [
        "**Also, we can do some aggregations and save them as tables too**"
      ],
      "metadata": {
        "nteract": {
          "transient": {
            "deleting": false
          }
        }
      }
    },
    {
      "cell_type": "code",
      "source": [
        "df_productAgg = df_joineditem.groupBy(\"LegalEntity\").count().sort(\"LegalEntity\")\r\n",
        "df_productAgg.show()"
      ],
      "outputs": [
        {
          "output_type": "display_data",
          "data": {
            "application/vnd.livy.statement-meta+json": {
              "spark_pool": null,
              "session_id": null,
              "statement_id": null,
              "state": "cancelled",
              "livy_statement_state": null,
              "queued_time": "2023-11-24T02:02:12.5568133Z",
              "session_start_time": null,
              "execution_start_time": null,
              "execution_finish_time": "2023-11-24T02:06:30.8156983Z",
              "spark_jobs": null,
              "parent_msg_id": "6e91d4ce-6671-4fb7-82cc-58828ea8fd9d"
            },
            "text/plain": "StatementMeta(, , , Cancelled, )"
          },
          "metadata": {}
        }
      ],
      "execution_count": null,
      "metadata": {
        "jupyter": {
          "source_hidden": false,
          "outputs_hidden": false
        },
        "nteract": {
          "transient": {
            "deleting": false
          }
        }
      }
    },
    {
      "cell_type": "markdown",
      "source": [
        "**Lets now do the same with customers data**"
      ],
      "metadata": {
        "nteract": {
          "transient": {
            "deleting": false
          }
        }
      }
    },
    {
      "cell_type": "code",
      "source": [
        "#Set up file path for delta files\r\n",
        "customerBronzePath = \"abfss://containername@datalakename.dfs.core.windows.net/deltalake/custtable_partitioned/\"\r\n",
        "df_cust = spark.read.load(customerBronzePath, format='delta')\r\n",
        "display(df_cust.limit(10))"
      ],
      "outputs": [
        {
          "output_type": "display_data",
          "data": {
            "application/vnd.livy.statement-meta+json": {
              "spark_pool": null,
              "session_id": null,
              "statement_id": null,
              "state": "cancelled",
              "livy_statement_state": null,
              "queued_time": "2023-11-24T02:02:12.5589022Z",
              "session_start_time": null,
              "execution_start_time": null,
              "execution_finish_time": "2023-11-24T02:06:30.8162487Z",
              "spark_jobs": null,
              "parent_msg_id": "9f78d3f3-ed6d-4844-8b3d-f9cced01698d"
            },
            "text/plain": "StatementMeta(, , , Cancelled, )"
          },
          "metadata": {}
        }
      ],
      "execution_count": null,
      "metadata": {
        "jupyter": {
          "source_hidden": false,
          "outputs_hidden": false
        },
        "nteract": {
          "transient": {
            "deleting": false
          }
        },
        "collapsed": false
      }
    },
    {
      "cell_type": "code",
      "source": [
        "#Set up file path for delta files\r\n",
        "partyTablePath = \"abfss://containername@datalakename.dfs.core.windows.net/deltalake/dirpartytable_partitioned/\"\r\n",
        "df_dirpartytable = spark.read.load(partyTablePath, format='delta')\r\n",
        "display(df_dirpartytable.limit(10))"
      ],
      "outputs": [
        {
          "output_type": "display_data",
          "data": {
            "application/vnd.livy.statement-meta+json": {
              "spark_pool": null,
              "session_id": null,
              "statement_id": null,
              "state": "cancelled",
              "livy_statement_state": null,
              "queued_time": "2023-11-24T02:02:12.5614708Z",
              "session_start_time": null,
              "execution_start_time": null,
              "execution_finish_time": "2023-11-24T02:06:30.8167813Z",
              "spark_jobs": null,
              "parent_msg_id": "400e7e08-c88b-485d-b3b0-b903a6cc6f0a"
            },
            "text/plain": "StatementMeta(, , , Cancelled, )"
          },
          "metadata": {}
        }
      ],
      "execution_count": null,
      "metadata": {
        "jupyter": {
          "source_hidden": false,
          "outputs_hidden": false
        },
        "nteract": {
          "transient": {
            "deleting": false
          }
        },
        "collapsed": false
      }
    },
    {
      "cell_type": "code",
      "source": [
        "#Set up file path for delta files\r\n",
        "partyTableLocationPath = \"abfss://containername@datalakename.dfs.core.windows.net/deltalake/dirpartylocation_partitioned/\"\r\n",
        "df_dirpartylocation = spark.read.load(partyTableLocationPath, format='delta')\r\n",
        "display(df_dirpartylocation.limit(10))"
      ],
      "outputs": [
        {
          "output_type": "display_data",
          "data": {
            "application/vnd.livy.statement-meta+json": {
              "spark_pool": null,
              "session_id": null,
              "statement_id": null,
              "state": "cancelled",
              "livy_statement_state": null,
              "queued_time": "2023-11-24T02:02:12.5658972Z",
              "session_start_time": null,
              "execution_start_time": null,
              "execution_finish_time": "2023-11-24T02:06:30.8172995Z",
              "spark_jobs": null,
              "parent_msg_id": "48925d8a-c222-4c11-b6e8-376a5d1ce5b8"
            },
            "text/plain": "StatementMeta(, , , Cancelled, )"
          },
          "metadata": {}
        }
      ],
      "execution_count": null,
      "metadata": {
        "jupyter": {
          "source_hidden": false,
          "outputs_hidden": false
        },
        "nteract": {
          "transient": {
            "deleting": false
          }
        },
        "collapsed": false
      }
    },
    {
      "cell_type": "code",
      "source": [
        "#Set up file path for delta files\r\n",
        "lpaPath = \"abfss://containername@datalakename.dfs.core.windows.net/deltalake/logisticspostaladdress_partitioned/\"\r\n",
        "df_lpa = spark.read.load(lpaPath, format='delta')\r\n",
        "display(df_lpa.limit(10))"
      ],
      "outputs": [
        {
          "output_type": "display_data",
          "data": {
            "application/vnd.livy.statement-meta+json": {
              "spark_pool": null,
              "session_id": null,
              "statement_id": null,
              "state": "cancelled",
              "livy_statement_state": null,
              "queued_time": "2023-11-24T02:02:12.570675Z",
              "session_start_time": null,
              "execution_start_time": null,
              "execution_finish_time": "2023-11-24T02:06:30.8184492Z",
              "spark_jobs": null,
              "parent_msg_id": "7f0e801f-df17-48fb-856e-6d8e0c39185b"
            },
            "text/plain": "StatementMeta(, , , Cancelled, )"
          },
          "metadata": {}
        }
      ],
      "execution_count": null,
      "metadata": {
        "jupyter": {
          "source_hidden": false,
          "outputs_hidden": false
        },
        "nteract": {
          "transient": {
            "deleting": false
          }
        },
        "collapsed": false
      }
    },
    {
      "cell_type": "code",
      "source": [
        "#Set up file path for delta files\r\n",
        "llPath = \"abfss://containername@datalakename.dfs.core.windows.net/deltalake/logisticslocation_partitioned/\"\r\n",
        "df_ll = spark.read.load(llPath, format='delta')\r\n",
        "display(df_ll.limit(10))"
      ],
      "outputs": [
        {
          "output_type": "display_data",
          "data": {
            "application/vnd.livy.statement-meta+json": {
              "spark_pool": null,
              "session_id": null,
              "statement_id": null,
              "state": "cancelled",
              "livy_statement_state": null,
              "queued_time": "2023-11-24T02:02:12.5745112Z",
              "session_start_time": null,
              "execution_start_time": null,
              "execution_finish_time": "2023-11-24T02:06:30.8189063Z",
              "spark_jobs": null,
              "parent_msg_id": "ed0f6f81-f2d9-4fda-aa95-951f7f48e954"
            },
            "text/plain": "StatementMeta(, , , Cancelled, )"
          },
          "metadata": {}
        }
      ],
      "execution_count": null,
      "metadata": {
        "jupyter": {
          "source_hidden": false,
          "outputs_hidden": false
        },
        "nteract": {
          "transient": {
            "deleting": false
          }
        },
        "collapsed": false
      }
    },
    {
      "cell_type": "code",
      "source": [
        "#Set up file path for delta files\r\n",
        "leaPath = \"abfss://containername@datalakename.dfs.core.windows.net/deltalake/logisticselectronicaddress_partitioned/\"\r\n",
        "df_lea = spark.read.load(leaPath, format='delta')\r\n",
        "display(df_lea.limit(10))"
      ],
      "outputs": [
        {
          "output_type": "display_data",
          "data": {
            "application/vnd.livy.statement-meta+json": {
              "spark_pool": null,
              "session_id": null,
              "statement_id": null,
              "state": "cancelled",
              "livy_statement_state": null,
              "queued_time": "2023-11-24T02:02:12.5788335Z",
              "session_start_time": null,
              "execution_start_time": null,
              "execution_finish_time": "2023-11-24T02:06:30.8192998Z",
              "spark_jobs": null,
              "parent_msg_id": "c335b08a-7ce6-4e17-b45a-ac3776315ea2"
            },
            "text/plain": "StatementMeta(, , , Cancelled, )"
          },
          "metadata": {}
        }
      ],
      "execution_count": null,
      "metadata": {
        "jupyter": {
          "source_hidden": false,
          "outputs_hidden": false
        },
        "nteract": {
          "transient": {
            "deleting": false
          }
        },
        "collapsed": false
      }
    },
    {
      "cell_type": "code",
      "source": [
        "#create joined dataframe \r\n",
        "df_cust.createOrReplaceTempView(\"vw_customers\")\r\n",
        "df_dirpartytable.createOrReplaceTempView(\"vw_partytable\")\r\n",
        "df_dirpartylocation.createOrReplaceTempView(\"vw_partylocation\")\r\n",
        "df_lpa.createOrReplaceTempView(\"vw_lpa\")\r\n",
        "df_ll.createOrReplaceTempView(\"vw_ll\")\r\n",
        "df_lea.createOrReplaceTempView(\"vw_lea\")\r\n",
        "\r\n",
        "df_joinedcustomers = spark.sql(\"\"\"\r\n",
        "\r\n",
        "\tselect \r\n",
        "\t\tct.RECID as CustomerId\r\n",
        "\t\t,ct.accountnum as AccountNumber\r\n",
        "\t\t,ct.dataareaid as LegalEntity\r\n",
        "\t\t,dpt.name as Name\r\n",
        "        ,dpt.namealias as SearchName\r\n",
        "        ,lpa.countryregionid as Country\r\n",
        "        ,lpa.state as State\r\n",
        "        ,lpa.city as City\r\n",
        "        ,lpa.district as District\r\n",
        "        ,lpa.street as Street\r\n",
        "        ,lpa.zipcode as ZipCode\r\n",
        "        ,lea_phone.locator as PhoneNumber\r\n",
        "        ,lea_email.locator as Email\r\n",
        "\tfrom vw_customers ct\r\n",
        "\tjoin vw_partytable dpt on ct.party = dpt.recid\r\n",
        "\tleft outer join vw_partylocation dpl_lpa on dpl_lpa.party =  dpt.recid and dpl_lpa.isprimary = 1 and dpl_lpa.ispostaladdress = 1 \r\n",
        "\tleft outer join vw_lpa lpa on dpl_lpa.location = lpa.location and lpa.validto > current_date()\r\n",
        "\tleft outer join vw_partylocation dpl_lea on dpl_lea.party =  dpt.recid and dpl_lea.isprimary = 1 and dpl_lea.ispostaladdress = 0\r\n",
        "\tleft outer join vw_ll ll_lea on ll_lea.recid = dpl_lea.location\r\n",
        "\tleft outer join vw_lea lea_phone on lea_phone.location = ll_lea.recid and lea_phone.type = 1\r\n",
        "\tleft outer join vw_lea lea_email on lea_email.location = ll_lea.recid and lea_email.type = 2\r\n",
        "\r\n",
        "\"\"\")\r\n",
        "display(df_joinedcustomers.limit(10))"
      ],
      "outputs": [
        {
          "output_type": "display_data",
          "data": {
            "application/vnd.livy.statement-meta+json": {
              "spark_pool": null,
              "session_id": null,
              "statement_id": null,
              "state": "cancelled",
              "livy_statement_state": null,
              "queued_time": "2023-11-24T02:02:12.5810063Z",
              "session_start_time": null,
              "execution_start_time": null,
              "execution_finish_time": "2023-11-24T02:06:30.8201211Z",
              "spark_jobs": null,
              "parent_msg_id": "a7947d2f-5d4d-4b7c-b903-00d6bff0ee2a"
            },
            "text/plain": "StatementMeta(, , , Cancelled, )"
          },
          "metadata": {}
        }
      ],
      "execution_count": null,
      "metadata": {
        "jupyter": {
          "source_hidden": false,
          "outputs_hidden": false
        },
        "nteract": {
          "transient": {
            "deleting": false
          }
        },
        "collapsed": false
      }
    },
    {
      "cell_type": "code",
      "source": [
        "df_joinedcustomers.createOrReplaceTempView(\"vw_JoinedCustomers\")"
      ],
      "outputs": [
        {
          "output_type": "display_data",
          "data": {
            "application/vnd.livy.statement-meta+json": {
              "spark_pool": null,
              "session_id": null,
              "statement_id": null,
              "state": "cancelled",
              "livy_statement_state": null,
              "queued_time": "2023-11-24T02:02:12.5824694Z",
              "session_start_time": null,
              "execution_start_time": null,
              "execution_finish_time": "2023-11-24T02:06:30.8209141Z",
              "spark_jobs": null,
              "parent_msg_id": "87097960-7c6c-4d6f-9a8a-77470baf5765"
            },
            "text/plain": "StatementMeta(, , , Cancelled, )"
          },
          "metadata": {}
        }
      ],
      "execution_count": null,
      "metadata": {
        "jupyter": {
          "source_hidden": false,
          "outputs_hidden": false
        },
        "nteract": {
          "transient": {
            "deleting": false
          }
        }
      }
    },
    {
      "cell_type": "code",
      "source": [
        "%%sql\r\n",
        "select * from vw_JoinedCustomers limit 10"
      ],
      "outputs": [
        {
          "output_type": "display_data",
          "data": {
            "application/vnd.livy.statement-meta+json": {
              "spark_pool": null,
              "session_id": null,
              "statement_id": null,
              "state": "cancelled",
              "livy_statement_state": null,
              "queued_time": "2023-11-24T02:02:12.5840598Z",
              "session_start_time": null,
              "execution_start_time": null,
              "execution_finish_time": "2023-11-24T02:06:30.8218547Z",
              "spark_jobs": null,
              "parent_msg_id": "950e8e3b-9f17-4f22-a431-d7f881b2428f"
            },
            "text/plain": "StatementMeta(, , , Cancelled, )"
          },
          "metadata": {}
        }
      ],
      "execution_count": null,
      "metadata": {
        "jupyter": {
          "source_hidden": false,
          "outputs_hidden": false
        },
        "nteract": {
          "transient": {
            "deleting": false
          }
        },
        "microsoft": {
          "language": "sparksql"
        },
        "collapsed": false
      }
    },
    {
      "cell_type": "code",
      "source": [
        "#Save dataframe as Dim Table\r\n",
        "df_joinedcustomers.write.mode(\"overwrite\").format(\"delta\").saveAsTable(\"SL_GoldServerless.Customers_Dim\")"
      ],
      "outputs": [
        {
          "output_type": "display_data",
          "data": {
            "application/vnd.livy.statement-meta+json": {
              "spark_pool": null,
              "session_id": null,
              "statement_id": null,
              "state": "cancelled",
              "livy_statement_state": null,
              "queued_time": "2023-11-24T02:02:12.586697Z",
              "session_start_time": null,
              "execution_start_time": null,
              "execution_finish_time": "2023-11-24T02:06:30.8226641Z",
              "spark_jobs": null,
              "parent_msg_id": "3f90e7a5-133a-4f4e-ac8b-8e4dfc72fc48"
            },
            "text/plain": "StatementMeta(, , , Cancelled, )"
          },
          "metadata": {}
        }
      ],
      "execution_count": null,
      "metadata": {
        "jupyter": {
          "source_hidden": false,
          "outputs_hidden": false
        },
        "nteract": {
          "transient": {
            "deleting": false
          }
        }
      }
    },
    {
      "cell_type": "code",
      "source": [
        "df_customerAgg = df_joinedcustomers.groupBy(\"LegalEntity\").count().sort(\"LegalEntity\")\r\n",
        "df_customerAgg.show()"
      ],
      "outputs": [
        {
          "output_type": "display_data",
          "data": {
            "application/vnd.livy.statement-meta+json": {
              "spark_pool": null,
              "session_id": null,
              "statement_id": null,
              "state": "cancelled",
              "livy_statement_state": null,
              "queued_time": "2023-11-24T02:02:12.5881926Z",
              "session_start_time": null,
              "execution_start_time": null,
              "execution_finish_time": "2023-11-24T02:06:30.8233836Z",
              "spark_jobs": null,
              "parent_msg_id": "55319d7b-4577-4c8f-bdd3-8adce475081d"
            },
            "text/plain": "StatementMeta(, , , Cancelled, )"
          },
          "metadata": {}
        }
      ],
      "execution_count": null,
      "metadata": {
        "jupyter": {
          "source_hidden": false,
          "outputs_hidden": false
        },
        "nteract": {
          "transient": {
            "deleting": false
          }
        }
      }
    },
    {
      "cell_type": "markdown",
      "source": [
        "**Another benefit of Synapse link is you get Datavese and FO data all in one workspace**"
      ],
      "metadata": {
        "nteract": {
          "transient": {
            "deleting": false
          }
        }
      }
    },
    {
      "cell_type": "code",
      "source": [
        "#Set up file path for contact table from Dataverse\r\n",
        "contactBronzePath = \"abfss://containername@datalakename.dfs.core.windows.net/deltalake/contact_partitioned/\"\r\n",
        "df_contact = spark.read.load(contactBronzePath, format='delta')\r\n",
        "display(df_contact.limit(10))"
      ],
      "outputs": [
        {
          "output_type": "display_data",
          "data": {
            "application/vnd.livy.statement-meta+json": {
              "spark_pool": null,
              "session_id": null,
              "statement_id": null,
              "state": "cancelled",
              "livy_statement_state": null,
              "queued_time": "2023-11-24T02:02:20.9655713Z",
              "session_start_time": null,
              "execution_start_time": null,
              "execution_finish_time": "2023-11-24T02:06:30.8242535Z",
              "spark_jobs": null,
              "parent_msg_id": "e285147f-82e4-47b5-96d6-8745fb67a00b"
            },
            "text/plain": "StatementMeta(, , , Cancelled, )"
          },
          "metadata": {}
        }
      ],
      "execution_count": null,
      "metadata": {
        "jupyter": {
          "source_hidden": false,
          "outputs_hidden": false
        },
        "nteract": {
          "transient": {
            "deleting": false
          }
        },
        "collapsed": false
      }
    },
    {
      "cell_type": "code",
      "source": [
        "# rename columns that we need and create a new dataframe\r\n",
        "df_contactSilver =  df_contact.selectExpr(\r\n",
        "    'msdyn_contactpersonid AS ContactID',\r\n",
        "    'address1_country AS Country',\r\n",
        "    'address1_telephone1 AS Phone',\r\n",
        "    'emailaddress1 AS Email',\r\n",
        "    'fullname AS FullName')\r\n",
        "\r\n",
        "display(df_contactSilver.limit(10))"
      ],
      "outputs": [
        {
          "output_type": "display_data",
          "data": {
            "application/vnd.livy.statement-meta+json": {
              "spark_pool": null,
              "session_id": null,
              "statement_id": null,
              "state": "cancelled",
              "livy_statement_state": null,
              "queued_time": "2023-11-24T02:02:21.352544Z",
              "session_start_time": null,
              "execution_start_time": null,
              "execution_finish_time": "2023-11-24T02:06:30.8250511Z",
              "spark_jobs": null,
              "parent_msg_id": "ea8dec9a-800e-4b32-ad59-56bee994d27e"
            },
            "text/plain": "StatementMeta(, , , Cancelled, )"
          },
          "metadata": {}
        }
      ],
      "execution_count": null,
      "metadata": {
        "jupyter": {
          "source_hidden": false,
          "outputs_hidden": false
        },
        "nteract": {
          "transient": {
            "deleting": false
          }
        },
        "collapsed": false
      }
    },
    {
      "cell_type": "code",
      "source": [
        "df_contactSilver.createOrReplaceTempView(\"vw_contacts\")\r\n",
        "df_joinedcustomers.createOrReplaceTempView(\"vw_FOcustomers\")\r\n",
        "\r\n",
        "df_unifiedcustomers = spark.sql(\"SELECT co.*, cu.* FROM vw_contacts co INNER JOIN vw_FOcustomers cu ON co.ContactID == cu.AccountNumber\") \\\r\n",
        "\r\n",
        "display(df_unifiedcustomers.limit(10))"
      ],
      "outputs": [
        {
          "output_type": "display_data",
          "data": {
            "application/vnd.livy.statement-meta+json": {
              "spark_pool": null,
              "session_id": null,
              "statement_id": null,
              "state": "cancelled",
              "livy_statement_state": null,
              "queued_time": "2023-11-24T02:02:21.7797162Z",
              "session_start_time": null,
              "execution_start_time": null,
              "execution_finish_time": "2023-11-24T02:06:30.8260655Z",
              "spark_jobs": null,
              "parent_msg_id": "1feb1f64-50ba-4d5e-981f-c157200b80e4"
            },
            "text/plain": "StatementMeta(, , , Cancelled, )"
          },
          "metadata": {}
        }
      ],
      "execution_count": null,
      "metadata": {
        "jupyter": {
          "source_hidden": false,
          "outputs_hidden": false
        },
        "nteract": {
          "transient": {
            "deleting": false
          }
        },
        "collapsed": false
      }
    },
    {
      "cell_type": "code",
      "source": [
        "#Set up file path for sales orders Fact table\r\n",
        "salesPath = \"abfss://containername@datalakename.dfs.core.windows.net/deltalake/salestable_partitioned/\"\r\n",
        "df_sales = spark.read.load(salesPath, format='delta')\r\n",
        "display(df_sales.limit(10))"
      ],
      "outputs": [
        {
          "output_type": "display_data",
          "data": {
            "application/vnd.livy.statement-meta+json": {
              "spark_pool": null,
              "session_id": null,
              "statement_id": null,
              "state": "cancelled",
              "livy_statement_state": null,
              "queued_time": "2023-11-24T02:02:22.7733825Z",
              "session_start_time": null,
              "execution_start_time": null,
              "execution_finish_time": "2023-11-24T02:06:30.8268957Z",
              "spark_jobs": null,
              "parent_msg_id": "4012c047-6f6a-403a-9212-efad328ffc4b"
            },
            "text/plain": "StatementMeta(, , , Cancelled, )"
          },
          "metadata": {}
        }
      ],
      "execution_count": null,
      "metadata": {
        "jupyter": {
          "source_hidden": false,
          "outputs_hidden": false
        },
        "nteract": {
          "transient": {
            "deleting": false
          }
        },
        "collapsed": false
      }
    },
    {
      "cell_type": "code",
      "source": [
        "# rename columns that we need and create a new dataframe\r\n",
        "df_salesSilver =  df_sales.selectExpr(\r\n",
        "    'salesid AS SalesID',\r\n",
        "    'custaccount AS CustomerNum',\r\n",
        "    'deliverydate AS DelvDate',\r\n",
        "    'inventlocationid AS Store',\r\n",
        "    'smmsalesamounttotal AS TotalAmount')\r\n",
        "    \r\n",
        "display(df_salesSilver.limit(10))"
      ],
      "outputs": [
        {
          "output_type": "display_data",
          "data": {
            "application/vnd.livy.statement-meta+json": {
              "spark_pool": null,
              "session_id": null,
              "statement_id": null,
              "state": "cancelled",
              "livy_statement_state": null,
              "queued_time": "2023-11-24T02:02:23.7734112Z",
              "session_start_time": null,
              "execution_start_time": null,
              "execution_finish_time": "2023-11-24T02:06:30.8278425Z",
              "spark_jobs": null,
              "parent_msg_id": "63c81374-3bfb-4dfa-9ff9-2176fdf14ec4"
            },
            "text/plain": "StatementMeta(, , , Cancelled, )"
          },
          "metadata": {}
        }
      ],
      "execution_count": null,
      "metadata": {
        "jupyter": {
          "source_hidden": false,
          "outputs_hidden": false
        },
        "nteract": {
          "transient": {
            "deleting": false
          }
        },
        "collapsed": false
      }
    },
    {
      "cell_type": "code",
      "source": [
        "#Save dataframe as Fact Table\r\n",
        "df_salesSilver.write.mode(\"overwrite\").format(\"delta\").saveAsTable(\"SL_GoldServerless.Sales_Fact\")"
      ],
      "outputs": [
        {
          "output_type": "display_data",
          "data": {
            "application/vnd.livy.statement-meta+json": {
              "spark_pool": null,
              "session_id": null,
              "statement_id": null,
              "state": "cancelled",
              "livy_statement_state": null,
              "queued_time": "2023-11-24T02:02:24.8011295Z",
              "session_start_time": null,
              "execution_start_time": null,
              "execution_finish_time": "2023-11-24T02:06:30.8288275Z",
              "spark_jobs": null,
              "parent_msg_id": "3503948f-ae5c-4a76-b522-4550d6ea4393"
            },
            "text/plain": "StatementMeta(, , , Cancelled, )"
          },
          "metadata": {}
        }
      ],
      "execution_count": null,
      "metadata": {
        "jupyter": {
          "source_hidden": false,
          "outputs_hidden": false
        },
        "nteract": {
          "transient": {
            "deleting": false
          }
        }
      }
    },
    {
      "cell_type": "code",
      "source": [
        "#Set up file path for sales orders Fact table\r\n",
        "retailsalesPath = \"abfss://containername@datalakename.dfs.core.windows.net/deltalake/retailtransactionsalestrans_partitioned/\"\r\n",
        "df_retailsales = spark.read.load(retailsalesPath, format='delta')\r\n",
        "display(df_retailsales.limit(10))"
      ],
      "outputs": [
        {
          "output_type": "display_data",
          "data": {
            "application/vnd.livy.statement-meta+json": {
              "spark_pool": null,
              "session_id": null,
              "statement_id": null,
              "state": "cancelled",
              "livy_statement_state": null,
              "queued_time": "2023-11-24T02:02:25.7773753Z",
              "session_start_time": null,
              "execution_start_time": null,
              "execution_finish_time": "2023-11-24T02:06:30.8295542Z",
              "spark_jobs": null,
              "parent_msg_id": "488e3917-2198-4b08-b636-9f24911ecf83"
            },
            "text/plain": "StatementMeta(, , , Cancelled, )"
          },
          "metadata": {}
        }
      ],
      "execution_count": null,
      "metadata": {
        "jupyter": {
          "source_hidden": false,
          "outputs_hidden": false
        },
        "nteract": {
          "transient": {
            "deleting": false
          }
        },
        "collapsed": false
      }
    },
    {
      "cell_type": "code",
      "source": [
        "# rename columns that we need and create a new dataframe\r\n",
        "df_retailsalesSilver =  df_retailsales.selectExpr(\r\n",
        "    'store AS Store',\r\n",
        "    'costamount AS Cost',\r\n",
        "    'custaccount AS CustomerNum',\r\n",
        "    'itemid AS ItemID',\r\n",
        "    'netamountincltax AS NetAmountInclTax',\r\n",
        "    'price AS Price',\r\n",
        "    'qty AS Qty',\r\n",
        "    'staffid AS StaffID',\r\n",
        "    'transdate AS TransDate')\r\n",
        "    \r\n",
        "display(df_retailsalesSilver.limit(10))"
      ],
      "outputs": [
        {
          "output_type": "display_data",
          "data": {
            "application/vnd.livy.statement-meta+json": {
              "spark_pool": null,
              "session_id": null,
              "statement_id": null,
              "state": "cancelled",
              "livy_statement_state": null,
              "queued_time": "2023-11-24T02:02:26.783321Z",
              "session_start_time": null,
              "execution_start_time": null,
              "execution_finish_time": "2023-11-24T02:06:30.8302884Z",
              "spark_jobs": null,
              "parent_msg_id": "e3714d05-640f-43dc-adc9-903187b99195"
            },
            "text/plain": "StatementMeta(, , , Cancelled, )"
          },
          "metadata": {}
        }
      ],
      "execution_count": null,
      "metadata": {
        "jupyter": {
          "source_hidden": false,
          "outputs_hidden": false
        },
        "nteract": {
          "transient": {
            "deleting": false
          }
        },
        "collapsed": false
      }
    },
    {
      "cell_type": "code",
      "source": [
        "#Save dataframe as Fact Table\r\n",
        "df_retailsalesSilver.write.mode(\"overwrite\").format(\"delta\").saveAsTable(\"SL_GoldServerless.RetailSales_Fact\")"
      ],
      "outputs": [
        {
          "output_type": "display_data",
          "data": {
            "application/vnd.livy.statement-meta+json": {
              "spark_pool": null,
              "session_id": null,
              "statement_id": null,
              "state": "cancelled",
              "livy_statement_state": null,
              "queued_time": "2023-11-24T02:02:27.7765252Z",
              "session_start_time": null,
              "execution_start_time": null,
              "execution_finish_time": "2023-11-24T02:06:30.8312109Z",
              "spark_jobs": null,
              "parent_msg_id": "38fc42d1-e3f1-4818-be59-eb741e10157b"
            },
            "text/plain": "StatementMeta(, , , Cancelled, )"
          },
          "metadata": {}
        }
      ],
      "execution_count": null,
      "metadata": {
        "jupyter": {
          "source_hidden": false,
          "outputs_hidden": false
        },
        "nteract": {
          "transient": {
            "deleting": false
          }
        }
      }
    }
  ],
  "metadata": {
    "kernelspec": {
      "name": "synapse_pyspark",
      "display_name": "Synapse PySpark"
    },
    "language_info": {
      "name": "python"
    },
    "description": "Please replace with your data lake name and container name",
    "save_output": true,
    "synapse_widget": {
      "version": "0.1",
      "state": {
        "648b274e-9d8f-433a-a117-14b0bd89f28a": {
          "type": "Synapse.DataFrame",
          "sync_state": {
            "table": {
              "rows": [
                {
                  "0": "000021c9-0000-0000-4b05-014105000000",
                  "1": "2023-11-20 01:11:05.960808",
                  "2": "2023-11-20 01:11:05.960808",
                  "3": "0116",
                  "4": "None",
                  "5": "None",
                  "6": "None",
                  "7": "None",
                  "10": "0.000000",
                  "17": "0.000000",
                  "20": "No",
                  "21": "Manual",
                  "24": "0",
                  "25": "No",
                  "30": "No",
                  "31": "0",
                  "32": "0",
                  "33": "22565424628",
                  "34": "0.000000",
                  "35": "0.000000",
                  "37": "0",
                  "38": "0",
                  "39": "No",
                  "40": "0.000000",
                  "41": "Never",
                  "42": "No",
                  "43": "0.000000",
                  "44": "0.000000",
                  "45": "0.000000",
                  "46": "0.000000",
                  "47": "No",
                  "48": "0",
                  "49": "No",
                  "51": "0",
                  "54": "No",
                  "56": "Item",
                  "58": "NotSet",
                  "60": "0.000000",
                  "61": "AdultShinGuards",
                  "62": "0.000000",
                  "63": "0",
                  "71": "0",
                  "72": "0.000000",
                  "73": "0.000000",
                  "74": "0.000000",
                  "77": "PurchProdReceipt",
                  "78": "0",
                  "79": "0",
                  "80": "0.000000",
                  "81": "NoCheck",
                  "82": "No",
                  "85": "None",
                  "86": "0.000000",
                  "87": "1004",
                  "88": "Start",
                  "91": "22565422078",
                  "94": "No",
                  "95": "0.000000",
                  "98": "0.000000",
                  "99": "None",
                  "100": "0.000000",
                  "101": "PurchPrice",
                  "102": "0.000000",
                  "103": "0.000000",
                  "105": "0",
                  "106": "No",
                  "107": "0",
                  "113": "0.000000",
                  "114": "0.000000",
                  "115": "0.000000",
                  "116": "National",
                  "118": "0.000000",
                  "120": "0.000000",
                  "121": "Never",
                  "122": "0.000000",
                  "123": "0",
                  "125": "0",
                  "126": "No",
                  "127": "None",
                  "131": "0",
                  "132": "0",
                  "133": "No",
                  "135": "Relevant",
                  "137": "No",
                  "138": "0",
                  "139": "0.000000",
                  "140": "No",
                  "141": "No",
                  "143": "No",
                  "144": "0",
                  "145": "AllowPartialReservation",
                  "147": "No",
                  "148": "No",
                  "156": "No",
                  "157": "No",
                  "158": "0.000000",
                  "159": "0.000000",
                  "160": "No",
                  "161": "Essential",
                  "162": "No",
                  "163": "2016-11-22 19:54:22",
                  "165": "0",
                  "166": "2016-10-06 20:03:21",
                  "168": "0",
                  "169": "usrt",
                  "170": "0",
                  "171": "5637144576",
                  "172": "0",
                  "173": "Default",
                  "174": "22565422411",
                  "175": "8649",
                  "176": "0",
                  "177": "2016-10-06 20:03:21",
                  "178": "2016-11-22 19:54:22",
                  "180": "2023-11-15T06.33.04Z",
                  "181": "2016"
                },
                {
                  "0": "000021c9-0000-0000-6c1e-014105000000",
                  "1": "2023-11-20 01:11:05.960808",
                  "2": "2023-11-20 01:11:05.960808",
                  "3": "P6000",
                  "4": "None",
                  "5": "None",
                  "6": "None",
                  "7": "None",
                  "10": "0.000000",
                  "17": "0.000000",
                  "20": "No",
                  "21": "Manual",
                  "22": "AutoBatch",
                  "24": "2",
                  "25": "No",
                  "26": "gal",
                  "29": "M9",
                  "30": "No",
                  "31": "0",
                  "32": "0",
                  "33": "0",
                  "34": "0.000000",
                  "35": "0.000000",
                  "37": "0",
                  "38": "0",
                  "39": "No",
                  "40": "0.000000",
                  "41": "Never",
                  "42": "No",
                  "43": "0.000000",
                  "44": "0.000000",
                  "45": "0.000000",
                  "46": "0.000000",
                  "47": "No",
                  "48": "0",
                  "49": "No",
                  "51": "0",
                  "54": "No",
                  "56": "Item",
                  "58": "NotSet",
                  "60": "0.000000",
                  "61": "Pure Orange Juice Ex",
                  "62": "0.000000",
                  "63": "0",
                  "71": "15",
                  "72": "0.000000",
                  "73": "0.000000",
                  "74": "0.000000",
                  "77": "PurchProdReceipt",
                  "78": "10",
                  "79": "20",
                  "80": "0.000000",
                  "81": "WarningOnly",
                  "82": "No",
                  "85": "Formula",
                  "86": "100.000000",
                  "88": "Start",
                  "91": "22565427235",
                  "94": "No",
                  "95": "0.000000",
                  "98": "0.000000",
                  "99": "None",
                  "100": "0.000000",
                  "101": "PurchPrice",
                  "102": "0.000000",
                  "103": "0.000000",
                  "105": "0",
                  "106": "No",
                  "107": "0",
                  "113": "0.000000",
                  "114": "0.000000",
                  "115": "0.000000",
                  "116": "National",
                  "118": "0.000000",
                  "120": "0.000000",
                  "121": "Never",
                  "122": "0.000000",
                  "123": "0",
                  "125": "0",
                  "126": "No",
                  "127": "None",
                  "131": "0",
                  "132": "0",
                  "133": "No",
                  "135": "Relevant",
                  "137": "No",
                  "138": "0",
                  "139": "0.000000",
                  "140": "No",
                  "141": "No",
                  "143": "No",
                  "144": "0",
                  "145": "AllowPartialReservation",
                  "147": "No",
                  "148": "No",
                  "156": "No",
                  "157": "No",
                  "158": "0.000000",
                  "159": "0.000000",
                  "160": "No",
                  "161": "Essential",
                  "162": "No",
                  "163": "2016-08-19 11:51:49",
                  "165": "0",
                  "166": "2016-10-15 10:30:46",
                  "168": "0",
                  "169": "usp2",
                  "170": "0",
                  "171": "5637144576",
                  "172": "0",
                  "173": "Default",
                  "174": "22565428844",
                  "175": "8649",
                  "176": "0",
                  "177": "2016-10-15 10:30:46",
                  "178": "2016-08-19 11:51:49",
                  "180": "2023-11-15T06.33.04Z",
                  "181": "2016"
                },
                {
                  "0": "000021c9-0000-0000-db05-014105000000",
                  "1": "2023-11-20 01:11:05.960808",
                  "2": "2023-11-20 01:11:05.960808",
                  "3": "1506",
                  "4": "None",
                  "5": "None",
                  "6": "None",
                  "7": "None",
                  "10": "0.000000",
                  "17": "0.000000",
                  "20": "No",
                  "21": "Manual",
                  "24": "0",
                  "25": "No",
                  "30": "No",
                  "31": "0",
                  "32": "0",
                  "33": "22565424620",
                  "34": "0.000000",
                  "35": "0.000000",
                  "37": "0",
                  "38": "0",
                  "39": "No",
                  "40": "0.000000",
                  "41": "Never",
                  "42": "No",
                  "43": "0.000000",
                  "44": "0.000000",
                  "45": "0.000000",
                  "46": "0.000000",
                  "47": "No",
                  "48": "0",
                  "49": "No",
                  "51": "0",
                  "54": "No",
                  "56": "Item",
                  "58": "NotSet",
                  "60": "0.000000",
                  "61": "Proseware Ink Jet Fa",
                  "62": "0.000000",
                  "63": "0",
                  "71": "0",
                  "72": "0.000000",
                  "73": "0.000000",
                  "74": "0.000000",
                  "77": "PurchProdReceipt",
                  "78": "0",
                  "79": "0",
                  "80": "0.000000",
                  "81": "NoCheck",
                  "82": "No",
                  "85": "None",
                  "86": "0.000000",
                  "87": "1005",
                  "88": "Start",
                  "91": "22565423351",
                  "94": "No",
                  "95": "0.000000",
                  "98": "0.000000",
                  "99": "None",
                  "100": "0.000000",
                  "101": "PurchPrice",
                  "102": "0.000000",
                  "103": "0.000000",
                  "105": "0",
                  "106": "No",
                  "107": "0",
                  "113": "0.000000",
                  "114": "0.000000",
                  "115": "0.000000",
                  "116": "National",
                  "118": "0.000000",
                  "120": "0.000000",
                  "121": "Never",
                  "122": "0.000000",
                  "123": "0",
                  "125": "0",
                  "126": "No",
                  "127": "None",
                  "131": "0",
                  "132": "0",
                  "133": "No",
                  "135": "Relevant",
                  "137": "No",
                  "138": "0",
                  "139": "0.000000",
                  "140": "No",
                  "141": "No",
                  "143": "No",
                  "144": "0",
                  "145": "AllowPartialReservation",
                  "147": "No",
                  "148": "No",
                  "156": "No",
                  "157": "No",
                  "158": "0.000000",
                  "159": "0.000000",
                  "160": "No",
                  "161": "Essential",
                  "162": "No",
                  "163": "2016-11-22 19:54:22",
                  "165": "0",
                  "166": "2016-10-06 20:05:53",
                  "168": "0",
                  "169": "usrt",
                  "170": "0",
                  "171": "5637144576",
                  "172": "0",
                  "173": "Default",
                  "174": "22565422555",
                  "175": "8649",
                  "176": "0",
                  "177": "2016-10-06 20:05:53",
                  "178": "2016-11-22 19:54:22",
                  "180": "2023-11-15T06.33.04Z",
                  "181": "2016"
                },
                {
                  "0": "000021c9-0000-0000-e802-014105000000",
                  "1": "2023-11-20 01:11:05.960808",
                  "2": "2023-11-20 01:11:05.960808",
                  "3": "T0003",
                  "4": "None",
                  "5": "None",
                  "6": "None",
                  "7": "None",
                  "10": "0.000000",
                  "17": "0.000000",
                  "20": "No",
                  "21": "Manual",
                  "24": "0",
                  "25": "No",
                  "26": "pcs",
                  "30": "No",
                  "31": "0",
                  "32": "0",
                  "33": "22565422736",
                  "34": "0.000000",
                  "35": "0.000000",
                  "37": "0",
                  "38": "0",
                  "39": "No",
                  "40": "0.000000",
                  "41": "Never",
                  "42": "No",
                  "43": "0.000000",
                  "44": "0.000000",
                  "45": "0.000000",
                  "46": "0.000000",
                  "47": "No",
                  "48": "0",
                  "49": "No",
                  "51": "0",
                  "54": "No",
                  "56": "Item",
                  "58": "NotSet",
                  "60": "0.000000",
                  "61": "SurroundSoundReceive",
                  "62": "0.000000",
                  "63": "0",
                  "71": "0",
                  "72": "0.000000",
                  "73": "0.000000",
                  "74": "0.000000",
                  "77": "PurchProdReceipt",
                  "78": "0",
                  "79": "0",
                  "80": "0.000000",
                  "81": "NoCheck",
                  "82": "No",
                  "85": "None",
                  "86": "0.000000",
                  "87": "CH-001",
                  "88": "Start",
                  "91": "22565421465",
                  "94": "No",
                  "95": "0.000000",
                  "98": "0.000000",
                  "99": "None",
                  "100": "0.000000",
                  "101": "PurchPrice",
                  "102": "0.000000",
                  "103": "0.000000",
                  "105": "0",
                  "106": "No",
                  "107": "0",
                  "113": "0.000000",
                  "114": "0.000000",
                  "115": "0.000000",
                  "116": "National",
                  "118": "0.000000",
                  "120": "0.000000",
                  "121": "Never",
                  "122": "0.000000",
                  "123": "0",
                  "125": "0",
                  "126": "No",
                  "127": "None",
                  "131": "0",
                  "132": "0",
                  "133": "No",
                  "135": "Relevant",
                  "137": "No",
                  "138": "0",
                  "139": "0.000000",
                  "140": "No",
                  "141": "No",
                  "143": "No",
                  "144": "0",
                  "145": "AllowPartialReservation",
                  "147": "No",
                  "148": "No",
                  "156": "No",
                  "157": "No",
                  "158": "0.000000",
                  "159": "0.000000",
                  "160": "No",
                  "161": "Essential",
                  "162": "No",
                  "163": "2013-01-06 15:41:12",
                  "165": "0",
                  "166": "2016-09-27 07:13:56",
                  "168": "0",
                  "169": "demf",
                  "170": "0",
                  "171": "5637144576",
                  "172": "0",
                  "173": "Default",
                  "174": "22565421800",
                  "175": "8649",
                  "176": "0",
                  "177": "2016-09-27 07:13:56",
                  "178": "2013-01-06 15:41:12",
                  "180": "2023-11-15T06.33.04Z",
                  "181": "2016"
                },
                {
                  "0": "000021c9-0000-0000-4e06-014105000000",
                  "1": "2023-11-20 01:11:05.960808",
                  "2": "2023-11-20 01:11:05.960808",
                  "3": "4307",
                  "4": "None",
                  "5": "None",
                  "6": "None",
                  "7": "None",
                  "10": "0.000000",
                  "17": "0.000000",
                  "20": "No",
                  "21": "Manual",
                  "24": "0",
                  "25": "No",
                  "30": "No",
                  "31": "0",
                  "32": "0",
                  "33": "22565424618",
                  "34": "0.000000",
                  "35": "0.000000",
                  "37": "0",
                  "38": "0",
                  "39": "No",
                  "40": "0.000000",
                  "41": "Never",
                  "42": "No",
                  "43": "0.000000",
                  "44": "0.000000",
                  "45": "0.000000",
                  "46": "0.000000",
                  "47": "No",
                  "48": "0",
                  "49": "No",
                  "51": "0",
                  "54": "No",
                  "56": "Item",
                  "58": "NotSet",
                  "60": "0.000000",
                  "61": "Proseware Solo Headp",
                  "62": "0.000000",
                  "63": "0",
                  "71": "0",
                  "72": "0.000000",
                  "73": "0.000000",
                  "74": "0.000000",
                  "77": "PurchProdReceipt",
                  "78": "0",
                  "79": "0",
                  "80": "0.000000",
                  "81": "NoCheck",
                  "82": "No",
                  "85": "None",
                  "86": "0.000000",
                  "87": "1005",
                  "88": "Start",
                  "91": "22565423847",
                  "94": "No",
                  "95": "0.000000",
                  "98": "0.000000",
                  "99": "None",
                  "100": "0.000000",
                  "101": "PurchPrice",
                  "102": "0.000000",
                  "103": "0.000000",
                  "105": "0",
                  "106": "No",
                  "107": "0",
                  "113": "0.000000",
                  "114": "0.000000",
                  "115": "0.000000",
                  "116": "National",
                  "118": "0.000000",
                  "120": "0.000000",
                  "121": "Never",
                  "122": "0.000000",
                  "123": "0",
                  "125": "0",
                  "126": "No",
                  "127": "None",
                  "131": "0",
                  "132": "0",
                  "133": "No",
                  "135": "Relevant",
                  "137": "No",
                  "138": "0",
                  "139": "0.000000",
                  "140": "No",
                  "141": "No",
                  "143": "No",
                  "144": "0",
                  "145": "AllowPartialReservation",
                  "147": "No",
                  "148": "No",
                  "156": "No",
                  "157": "No",
                  "158": "0.000000",
                  "159": "0.000000",
                  "160": "No",
                  "161": "Essential",
                  "162": "No",
                  "163": "2016-11-22 19:54:22",
                  "165": "0",
                  "166": "2016-10-06 20:07:03",
                  "168": "0",
                  "169": "usrt",
                  "170": "0",
                  "171": "5637144576",
                  "172": "0",
                  "173": "Default",
                  "174": "22565422670",
                  "175": "8649",
                  "176": "0",
                  "177": "2016-10-06 20:07:03",
                  "178": "2016-11-22 19:54:22",
                  "180": "2023-11-15T06.33.04Z",
                  "181": "2016"
                },
                {
                  "0": "000021c9-0000-0000-2406-014105000000",
                  "1": "2023-11-20 01:11:05.960808",
                  "2": "2023-11-20 01:11:05.960808",
                  "3": "3203",
                  "4": "None",
                  "5": "None",
                  "6": "None",
                  "7": "None",
                  "10": "0.000000",
                  "17": "0.000000",
                  "20": "No",
                  "21": "Manual",
                  "24": "0",
                  "25": "No",
                  "30": "No",
                  "31": "0",
                  "32": "0",
                  "33": "22565424626",
                  "34": "0.000000",
                  "35": "0.000000",
                  "37": "0",
                  "38": "0",
                  "39": "No",
                  "40": "0.000000",
                  "41": "Never",
                  "42": "No",
                  "43": "0.000000",
                  "44": "0.000000",
                  "45": "0.000000",
                  "46": "0.000000",
                  "47": "No",
                  "48": "0",
                  "49": "No",
                  "51": "0",
                  "54": "No",
                  "56": "Item",
                  "58": "NotSet",
                  "60": "0.000000",
                  "61": "SV 16xDVD E340",
                  "62": "0.000000",
                  "63": "0",
                  "71": "0",
                  "72": "0.000000",
                  "73": "0.000000",
                  "74": "0.000000",
                  "77": "PurchProdReceipt",
                  "78": "0",
                  "79": "0",
                  "80": "0.000000",
                  "81": "NoCheck",
                  "82": "No",
                  "85": "None",
                  "86": "0.000000",
                  "87": "1006",
                  "88": "Start",
                  "91": "22565423663",
                  "94": "No",
                  "95": "0.000000",
                  "98": "0.000000",
                  "99": "None",
                  "100": "0.000000",
                  "101": "PurchPrice",
                  "102": "0.000000",
                  "103": "0.000000",
                  "105": "0",
                  "106": "No",
                  "107": "0",
                  "113": "0.000000",
                  "114": "0.000000",
                  "115": "0.000000",
                  "116": "National",
                  "118": "0.000000",
                  "120": "0.000000",
                  "121": "Never",
                  "122": "0.000000",
                  "123": "0",
                  "125": "0",
                  "126": "No",
                  "127": "None",
                  "131": "0",
                  "132": "0",
                  "133": "No",
                  "135": "Relevant",
                  "137": "No",
                  "138": "0",
                  "139": "0.000000",
                  "140": "No",
                  "141": "No",
                  "143": "No",
                  "144": "0",
                  "145": "AllowPartialReservation",
                  "147": "No",
                  "148": "No",
                  "156": "No",
                  "157": "No",
                  "158": "0.000000",
                  "159": "0.000000",
                  "160": "No",
                  "161": "Essential",
                  "162": "No",
                  "163": "2016-11-22 19:54:22",
                  "165": "0",
                  "166": "2016-10-06 20:06:37",
                  "168": "0",
                  "169": "usrt",
                  "170": "0",
                  "171": "5637144576",
                  "172": "0",
                  "173": "Default",
                  "174": "22565422628",
                  "175": "8649",
                  "176": "0",
                  "177": "2016-10-06 20:06:37",
                  "178": "2016-11-22 19:54:22",
                  "180": "2023-11-15T06.33.04Z",
                  "181": "2016"
                },
                {
                  "0": "000021c9-0000-0000-2105-014105000000",
                  "1": "2023-11-20 01:11:05.960808",
                  "2": "2023-11-20 01:11:05.960808",
                  "3": "0074",
                  "4": "None",
                  "5": "None",
                  "6": "None",
                  "7": "None",
                  "10": "0.000000",
                  "17": "0.000000",
                  "20": "No",
                  "21": "Manual",
                  "24": "0",
                  "25": "No",
                  "30": "No",
                  "31": "0",
                  "32": "0",
                  "33": "22565424627",
                  "34": "0.000000",
                  "35": "0.000000",
                  "37": "0",
                  "38": "0",
                  "39": "No",
                  "40": "0.000000",
                  "41": "Never",
                  "42": "No",
                  "43": "0.000000",
                  "44": "0.000000",
                  "45": "0.000000",
                  "46": "0.000000",
                  "47": "No",
                  "48": "0",
                  "49": "No",
                  "51": "0",
                  "54": "No",
                  "56": "Item",
                  "58": "NotSet",
                  "60": "0.000000",
                  "61": "DietandNutritionCook",
                  "62": "0.000000",
                  "63": "0",
                  "71": "0",
                  "72": "0.000000",
                  "73": "0.000000",
                  "74": "0.000000",
                  "77": "PurchProdReceipt",
                  "78": "0",
                  "79": "0",
                  "80": "0.000000",
                  "81": "NoCheck",
                  "82": "No",
                  "85": "None",
                  "86": "0.000000",
                  "87": "1004",
                  "88": "Start",
                  "91": "22565422036",
                  "94": "No",
                  "95": "0.000000",
                  "98": "0.000000",
                  "99": "None",
                  "100": "0.000000",
                  "101": "PurchPrice",
                  "102": "0.000000",
                  "103": "0.000000",
                  "105": "0",
                  "106": "No",
                  "107": "0",
                  "113": "0.000000",
                  "114": "0.000000",
                  "115": "0.000000",
                  "116": "National",
                  "118": "0.000000",
                  "120": "0.000000",
                  "121": "Never",
                  "122": "0.000000",
                  "123": "0",
                  "125": "0",
                  "126": "No",
                  "127": "None",
                  "131": "0",
                  "132": "0",
                  "133": "No",
                  "135": "Relevant",
                  "137": "No",
                  "138": "0",
                  "139": "0.000000",
                  "140": "No",
                  "141": "No",
                  "143": "No",
                  "144": "0",
                  "145": "AllowPartialReservation",
                  "147": "No",
                  "148": "No",
                  "156": "No",
                  "157": "No",
                  "158": "0.000000",
                  "159": "0.000000",
                  "160": "No",
                  "161": "Essential",
                  "162": "No",
                  "163": "2016-11-22 19:54:22",
                  "165": "0",
                  "166": "2016-10-06 20:03:16",
                  "168": "0",
                  "169": "usrt",
                  "170": "0",
                  "171": "5637144576",
                  "172": "0",
                  "173": "Default",
                  "174": "22565422369",
                  "175": "8649",
                  "176": "0",
                  "177": "2016-10-06 20:03:16",
                  "178": "2016-11-22 19:54:22",
                  "180": "2023-11-15T06.33.04Z",
                  "181": "2016"
                },
                {
                  "0": "000021c9-0000-0000-e204-014105000000",
                  "1": "2023-11-20 01:11:05.960808",
                  "2": "2023-11-20 01:11:05.960808",
                  "3": "0011",
                  "4": "None",
                  "5": "None",
                  "6": "None",
                  "7": "None",
                  "10": "0.000000",
                  "17": "0.000000",
                  "20": "No",
                  "21": "Manual",
                  "24": "0",
                  "25": "No",
                  "30": "No",
                  "31": "0",
                  "32": "0",
                  "33": "22565424616",
                  "34": "0.000000",
                  "35": "0.000000",
                  "37": "0",
                  "38": "0",
                  "39": "No",
                  "40": "0.000000",
                  "41": "Never",
                  "42": "No",
                  "43": "0.000000",
                  "44": "0.000000",
                  "45": "0.000000",
                  "46": "0.000000",
                  "47": "No",
                  "48": "0",
                  "49": "No",
                  "51": "0",
                  "54": "No",
                  "56": "Item",
                  "58": "NotSet",
                  "60": "0.000000",
                  "61": "CurvedGrindRail",
                  "62": "0.000000",
                  "63": "0",
                  "71": "0",
                  "72": "0.000000",
                  "73": "0.000000",
                  "74": "0.000000",
                  "77": "PurchProdReceipt",
                  "78": "0",
                  "79": "0",
                  "80": "0.000000",
                  "81": "NoCheck",
                  "82": "No",
                  "85": "None",
                  "86": "0.000000",
                  "87": "1004",
                  "88": "Start",
                  "91": "22565421973",
                  "94": "No",
                  "95": "0.000000",
                  "98": "0.000000",
                  "99": "None",
                  "100": "0.000000",
                  "101": "PurchPrice",
                  "102": "0.000000",
                  "103": "0.000000",
                  "105": "0",
                  "106": "No",
                  "107": "0",
                  "113": "0.000000",
                  "114": "0.000000",
                  "115": "0.000000",
                  "116": "National",
                  "118": "0.000000",
                  "120": "0.000000",
                  "121": "Never",
                  "122": "0.000000",
                  "123": "0",
                  "125": "0",
                  "126": "No",
                  "127": "None",
                  "131": "0",
                  "132": "0",
                  "133": "No",
                  "135": "Relevant",
                  "137": "No",
                  "138": "0",
                  "139": "0.000000",
                  "140": "No",
                  "141": "No",
                  "143": "No",
                  "144": "0",
                  "145": "AllowPartialReservation",
                  "147": "No",
                  "148": "No",
                  "156": "No",
                  "157": "No",
                  "158": "0.000000",
                  "159": "0.000000",
                  "160": "No",
                  "161": "Essential",
                  "162": "No",
                  "163": "2016-11-22 19:54:22",
                  "165": "0",
                  "166": "2016-10-06 20:03:09",
                  "168": "0",
                  "169": "usrt",
                  "170": "0",
                  "171": "5637144576",
                  "172": "0",
                  "173": "Default",
                  "174": "22565422306",
                  "175": "8649",
                  "176": "0",
                  "177": "2016-10-06 20:03:09",
                  "178": "2016-11-22 19:54:22",
                  "180": "2023-11-15T06.33.04Z",
                  "181": "2016"
                },
                {
                  "0": "000021c9-0000-0000-0c05-014105000000",
                  "1": "2023-11-20 01:11:05.960808",
                  "2": "2023-11-20 01:11:05.960808",
                  "3": "0053",
                  "4": "None",
                  "5": "None",
                  "6": "None",
                  "7": "None",
                  "10": "0.000000",
                  "17": "0.000000",
                  "20": "No",
                  "21": "Manual",
                  "24": "0",
                  "25": "No",
                  "30": "No",
                  "31": "0",
                  "32": "0",
                  "33": "22565424628",
                  "34": "0.000000",
                  "35": "0.000000",
                  "37": "0",
                  "38": "0",
                  "39": "No",
                  "40": "0.000000",
                  "41": "Never",
                  "42": "No",
                  "43": "0.000000",
                  "44": "0.000000",
                  "45": "0.000000",
                  "46": "0.000000",
                  "47": "No",
                  "48": "0",
                  "49": "No",
                  "51": "0",
                  "54": "No",
                  "56": "Item",
                  "58": "NotSet",
                  "60": "0.000000",
                  "61": "PineTarCloth",
                  "62": "0.000000",
                  "63": "0",
                  "71": "0",
                  "72": "0.000000",
                  "73": "0.000000",
                  "74": "0.000000",
                  "77": "PurchProdReceipt",
                  "78": "0",
                  "79": "0",
                  "80": "0.000000",
                  "81": "NoCheck",
                  "82": "No",
                  "85": "None",
                  "86": "0.000000",
                  "87": "1004",
                  "88": "Start",
                  "91": "22565422015",
                  "94": "No",
                  "95": "0.000000",
                  "98": "0.000000",
                  "99": "None",
                  "100": "0.000000",
                  "101": "PurchPrice",
                  "102": "0.000000",
                  "103": "0.000000",
                  "105": "0",
                  "106": "No",
                  "107": "0",
                  "113": "0.000000",
                  "114": "0.000000",
                  "115": "0.000000",
                  "116": "National",
                  "118": "0.000000",
                  "120": "0.000000",
                  "121": "Never",
                  "122": "0.000000",
                  "123": "0",
                  "125": "0",
                  "126": "No",
                  "127": "None",
                  "131": "0",
                  "132": "0",
                  "133": "No",
                  "135": "Relevant",
                  "137": "No",
                  "138": "0",
                  "139": "0.000000",
                  "140": "No",
                  "141": "No",
                  "143": "No",
                  "144": "0",
                  "145": "AllowPartialReservation",
                  "147": "No",
                  "148": "No",
                  "156": "No",
                  "157": "No",
                  "158": "0.000000",
                  "159": "0.000000",
                  "160": "No",
                  "161": "Essential",
                  "162": "No",
                  "163": "2016-11-22 19:54:22",
                  "165": "0",
                  "166": "2016-10-06 20:03:14",
                  "168": "0",
                  "169": "usrt",
                  "170": "0",
                  "171": "5637144576",
                  "172": "0",
                  "173": "Default",
                  "174": "22565422348",
                  "175": "8649",
                  "176": "0",
                  "177": "2016-10-06 20:03:14",
                  "178": "2016-11-22 19:54:22",
                  "180": "2023-11-15T06.33.04Z",
                  "181": "2016"
                },
                {
                  "0": "000021c9-0000-0000-0606-014105000000",
                  "1": "2023-11-20 01:11:05.960808",
                  "2": "2023-11-20 01:11:05.960808",
                  "3": "2206",
                  "4": "None",
                  "5": "None",
                  "6": "None",
                  "7": "None",
                  "10": "0.000000",
                  "17": "0.000000",
                  "20": "No",
                  "21": "Manual",
                  "24": "0",
                  "25": "No",
                  "30": "No",
                  "31": "0",
                  "32": "0",
                  "33": "22565424619",
                  "34": "0.000000",
                  "35": "0.000000",
                  "37": "0",
                  "38": "0",
                  "39": "No",
                  "40": "0.000000",
                  "41": "Never",
                  "42": "No",
                  "43": "0.000000",
                  "44": "0.000000",
                  "45": "0.000000",
                  "46": "0.000000",
                  "47": "No",
                  "48": "0",
                  "49": "No",
                  "51": "0",
                  "54": "No",
                  "56": "Item",
                  "58": "NotSet",
                  "60": "0.000000",
                  "61": "Fabrikam SLR Camera",
                  "62": "0.000000",
                  "63": "0",
                  "71": "0",
                  "72": "0.000000",
                  "73": "0.000000",
                  "74": "0.000000",
                  "77": "PurchProdReceipt",
                  "78": "0",
                  "79": "0",
                  "80": "0.000000",
                  "81": "NoCheck",
                  "82": "No",
                  "85": "None",
                  "86": "0.000000",
                  "87": "1002",
                  "88": "Start",
                  "91": "22565423553",
                  "94": "No",
                  "95": "0.000000",
                  "98": "0.000000",
                  "99": "None",
                  "100": "0.000000",
                  "101": "PurchPrice",
                  "102": "0.000000",
                  "103": "0.000000",
                  "105": "0",
                  "106": "No",
                  "107": "0",
                  "113": "0.000000",
                  "114": "0.000000",
                  "115": "0.000000",
                  "116": "National",
                  "118": "0.000000",
                  "120": "0.000000",
                  "121": "Never",
                  "122": "0.000000",
                  "123": "0",
                  "125": "0",
                  "126": "No",
                  "127": "None",
                  "131": "0",
                  "132": "0",
                  "133": "No",
                  "135": "Relevant",
                  "137": "No",
                  "138": "0",
                  "139": "0.000000",
                  "140": "No",
                  "141": "No",
                  "143": "No",
                  "144": "0",
                  "145": "AllowPartialReservation",
                  "147": "No",
                  "148": "No",
                  "156": "No",
                  "157": "No",
                  "158": "0.000000",
                  "159": "0.000000",
                  "160": "No",
                  "161": "Essential",
                  "162": "No",
                  "163": "2016-11-22 19:54:22",
                  "165": "0",
                  "166": "2016-10-06 20:06:22",
                  "168": "0",
                  "169": "usrt",
                  "170": "0",
                  "171": "5637144576",
                  "172": "0",
                  "173": "Default",
                  "174": "22565422598",
                  "175": "8649",
                  "176": "0",
                  "177": "2016-10-06 20:06:22",
                  "178": "2016-11-22 19:54:22",
                  "180": "2023-11-15T06.33.04Z",
                  "181": "2016"
                }
              ],
              "schema": [
                {
                  "key": "0",
                  "name": "Id",
                  "type": "string"
                },
                {
                  "key": "1",
                  "name": "SinkCreatedOn",
                  "type": "timestamp"
                },
                {
                  "key": "2",
                  "name": "SinkModifiedOn",
                  "type": "timestamp"
                },
                {
                  "key": "3",
                  "name": "itemid",
                  "type": "string"
                },
                {
                  "key": "4",
                  "name": "abccontributionmargin",
                  "type": "string"
                },
                {
                  "key": "5",
                  "name": "abcrevenue",
                  "type": "string"
                },
                {
                  "key": "6",
                  "name": "abctieup",
                  "type": "string"
                },
                {
                  "key": "7",
                  "name": "abcvalue",
                  "type": "string"
                },
                {
                  "key": "8",
                  "name": "alcoholmanufacturerid_ru",
                  "type": "string"
                },
                {
                  "key": "9",
                  "name": "alcoholproductiontypeid_ru",
                  "type": "string"
                },
                {
                  "key": "10",
                  "name": "alcoholstrength_ru",
                  "type": "decimal"
                },
                {
                  "key": "11",
                  "name": "altconfigid",
                  "type": "string"
                },
                {
                  "key": "12",
                  "name": "altinventcolorid",
                  "type": "string"
                },
                {
                  "key": "13",
                  "name": "altinventsizeid",
                  "type": "string"
                },
                {
                  "key": "14",
                  "name": "altinventstyleid",
                  "type": "string"
                },
                {
                  "key": "15",
                  "name": "altinventversionid",
                  "type": "string"
                },
                {
                  "key": "16",
                  "name": "altitemid",
                  "type": "string"
                },
                {
                  "key": "17",
                  "name": "approxtaxvalue_br",
                  "type": "decimal"
                },
                {
                  "key": "18",
                  "name": "assetgroupid_ru",
                  "type": "string"
                },
                {
                  "key": "19",
                  "name": "assetid_ru",
                  "type": "string"
                },
                {
                  "key": "20",
                  "name": "autoreportfinished",
                  "type": "string"
                },
                {
                  "key": "21",
                  "name": "batchmergedatecalculationmethod",
                  "type": "string"
                },
                {
                  "key": "22",
                  "name": "batchnumgroupid",
                  "type": "string"
                },
                {
                  "key": "23",
                  "name": "bomcalcgroupid",
                  "type": "string"
                },
                {
                  "key": "24",
                  "name": "bomlevel",
                  "type": "bigint"
                },
                {
                  "key": "25",
                  "name": "bommanualreceipt",
                  "type": "string"
                },
                {
                  "key": "26",
                  "name": "bomunitid",
                  "type": "string"
                },
                {
                  "key": "27",
                  "name": "brandcodeid_mx",
                  "type": "string"
                },
                {
                  "key": "28",
                  "name": "commissiongroupid",
                  "type": "string"
                },
                {
                  "key": "29",
                  "name": "costgroupid",
                  "type": "string"
                },
                {
                  "key": "30",
                  "name": "costmodel",
                  "type": "string"
                },
                {
                  "key": "31",
                  "name": "customsexporttariffcodetable_in",
                  "type": "bigint"
                },
                {
                  "key": "32",
                  "name": "customsimporttariffcodetable_in",
                  "type": "bigint"
                },
                {
                  "key": "33",
                  "name": "defaultdimension",
                  "type": "bigint"
                },
                {
                  "key": "34",
                  "name": "density",
                  "type": "decimal"
                },
                {
                  "key": "35",
                  "name": "depth",
                  "type": "decimal"
                },
                {
                  "key": "36",
                  "name": "exceptioncode_br",
                  "type": "string"
                },
                {
                  "key": "37",
                  "name": "excisetariffcodes_in",
                  "type": "bigint"
                },
                {
                  "key": "38",
                  "name": "eximproductgrouptable_in",
                  "type": "bigint"
                },
                {
                  "key": "39",
                  "name": "fiscallifoavoidcalc",
                  "type": "string"
                },
                {
                  "key": "40",
                  "name": "fiscallifonormalvalue",
                  "type": "decimal"
                },
                {
                  "key": "41",
                  "name": "fiscallifonormalvaluecalc",
                  "type": "string"
                },
                {
                  "key": "42",
                  "name": "forecastdmpinclude",
                  "type": "string"
                },
                {
                  "key": "43",
                  "name": "grossdepth",
                  "type": "decimal"
                },
                {
                  "key": "44",
                  "name": "grossheight",
                  "type": "decimal"
                },
                {
                  "key": "45",
                  "name": "grosswidth",
                  "type": "decimal"
                },
                {
                  "key": "46",
                  "name": "height",
                  "type": "decimal"
                },
                {
                  "key": "47",
                  "name": "icmsonservice_br",
                  "type": "string"
                },
                {
                  "key": "48",
                  "name": "intrastatcommodity",
                  "type": "bigint"
                },
                {
                  "key": "49",
                  "name": "intrastatexclude",
                  "type": "string"
                },
                {
                  "key": "50",
                  "name": "intrastatprocid_cz",
                  "type": "string"
                },
                {
                  "key": "51",
                  "name": "inventfiscallifogroup",
                  "type": "bigint"
                },
                {
                  "key": "52",
                  "name": "inventproducttype_br",
                  "type": "string"
                },
                {
                  "key": "53",
                  "name": "itembuyergroupid",
                  "type": "string"
                },
                {
                  "key": "54",
                  "name": "itemdimcostprice",
                  "type": "string"
                },
                {
                  "key": "55",
                  "name": "itempricetolerancegroupid",
                  "type": "string"
                },
                {
                  "key": "56",
                  "name": "itemtype",
                  "type": "string"
                },
                {
                  "key": "57",
                  "name": "markupcode_ru",
                  "type": "string"
                },
                {
                  "key": "58",
                  "name": "matchingpolicy",
                  "type": "string"
                },
                {
                  "key": "59",
                  "name": "mcrpackedextensions",
                  "type": "string"
                },
                {
                  "key": "60",
                  "name": "minimumpalletquantity",
                  "type": "decimal"
                },
                {
                  "key": "61",
                  "name": "namealias",
                  "type": "string"
                },
                {
                  "key": "62",
                  "name": "netweight",
                  "type": "decimal"
                },
                {
                  "key": "63",
                  "name": "ngpcodestable_fr",
                  "type": "bigint"
                },
                {
                  "key": "64",
                  "name": "nrtaxgroup_lv",
                  "type": "string"
                },
                {
                  "key": "65",
                  "name": "origcountryregionid",
                  "type": "string"
                },
                {
                  "key": "66",
                  "name": "origcountyid",
                  "type": "string"
                },
                {
                  "key": "67",
                  "name": "origstateid",
                  "type": "string"
                },
                {
                  "key": "68",
                  "name": "packaginggroupid",
                  "type": "string"
                },
                {
                  "key": "69",
                  "name": "packing_ru",
                  "type": "string"
                },
                {
                  "key": "70",
                  "name": "pdsbaseattributeid",
                  "type": "string"
                },
                {
                  "key": "71",
                  "name": "pdsbestbefore",
                  "type": "bigint"
                },
                {
                  "key": "72",
                  "name": "pdscwwmsminimumpalletqty",
                  "type": "decimal"
                },
                {
                  "key": "73",
                  "name": "pdscwwmsqtyperlayer",
                  "type": "decimal"
                },
                {
                  "key": "74",
                  "name": "pdscwwmsstandardpalletqty",
                  "type": "decimal"
                },
                {
                  "key": "75",
                  "name": "pdsfreightallocationgroupid",
                  "type": "string"
                },
                {
                  "key": "76",
                  "name": "pdsitemrebategroupid",
                  "type": "string"
                },
                {
                  "key": "77",
                  "name": "pdspotencyattribrecording",
                  "type": "string"
                },
                {
                  "key": "78",
                  "name": "pdsshelfadvice",
                  "type": "bigint"
                },
                {
                  "key": "79",
                  "name": "pdsshelflife",
                  "type": "bigint"
                },
                {
                  "key": "80",
                  "name": "pdstargetfactor",
                  "type": "decimal"
                },
                {
                  "key": "81",
                  "name": "pdsvendorcheckitem",
                  "type": "string"
                },
                {
                  "key": "82",
                  "name": "phantom",
                  "type": "string"
                },
                {
                  "key": "83",
                  "name": "pkwiucode_pl",
                  "type": "string"
                },
                {
                  "key": "84",
                  "name": "pmfplanningitemid",
                  "type": "string"
                },
                {
                  "key": "85",
                  "name": "pmfproducttype",
                  "type": "string"
                },
                {
                  "key": "86",
                  "name": "pmfyieldpct",
                  "type": "decimal"
                },
                {
                  "key": "87",
                  "name": "primaryvendorid",
                  "type": "string"
                },
                {
                  "key": "88",
                  "name": "prodflushingprincip",
                  "type": "string"
                },
                {
                  "key": "89",
                  "name": "prodgroupid",
                  "type": "string"
                },
                {
                  "key": "90",
                  "name": "prodpoolid",
                  "type": "string"
                },
                {
                  "key": "91",
                  "name": "product",
                  "type": "bigint"
                },
                {
                  "key": "92",
                  "name": "projcategoryid",
                  "type": "string"
                },
                {
                  "key": "93",
                  "name": "propertyid",
                  "type": "string"
                },
                {
                  "key": "94",
                  "name": "purchmodel",
                  "type": "string"
                },
                {
                  "key": "95",
                  "name": "qtyperlayer",
                  "type": "decimal"
                },
                {
                  "key": "96",
                  "name": "reqgroupid",
                  "type": "string"
                },
                {
                  "key": "97",
                  "name": "sadratecode_pl",
                  "type": "string"
                },
                {
                  "key": "98",
                  "name": "salescontributionratio",
                  "type": "decimal"
                },
                {
                  "key": "99",
                  "name": "salesmodel",
                  "type": "string"
                },
                {
                  "key": "100",
                  "name": "salespercentmarkup",
                  "type": "decimal"
                },
                {
                  "key": "101",
                  "name": "salespricemodelbasic",
                  "type": "string"
                },
                {
                  "key": "102",
                  "name": "scrapconst",
                  "type": "decimal"
                },
                {
                  "key": "103",
                  "name": "scrapvar",
                  "type": "decimal"
                },
                {
                  "key": "104",
                  "name": "serialnumgroupid",
                  "type": "string"
                },
                {
                  "key": "105",
                  "name": "servicecodetable_in",
                  "type": "bigint"
                },
                {
                  "key": "106",
                  "name": "skipintracompanysync_ru",
                  "type": "string"
                },
                {
                  "key": "107",
                  "name": "sortcode",
                  "type": "bigint"
                },
                {
                  "key": "108",
                  "name": "standardconfigid",
                  "type": "string"
                },
                {
                  "key": "109",
                  "name": "standardinventcolorid",
                  "type": "string"
                },
                {
                  "key": "110",
                  "name": "standardinventsizeid",
                  "type": "string"
                },
                {
                  "key": "111",
                  "name": "standardinventstyleid",
                  "type": "string"
                },
                {
                  "key": "112",
                  "name": "standardinventversionid",
                  "type": "string"
                },
                {
                  "key": "113",
                  "name": "standardpalletquantity",
                  "type": "decimal"
                },
                {
                  "key": "114",
                  "name": "statisticsfactor",
                  "type": "decimal"
                },
                {
                  "key": "115",
                  "name": "taraweight",
                  "type": "decimal"
                },
                {
                  "key": "116",
                  "name": "taxationorigin_br",
                  "type": "string"
                },
                {
                  "key": "117",
                  "name": "taxfiscalclassification_br",
                  "type": "string"
                },
                {
                  "key": "118",
                  "name": "taxpackagingqty",
                  "type": "decimal"
                },
                {
                  "key": "119",
                  "name": "taxservicecode_br",
                  "type": "string"
                },
                {
                  "key": "120",
                  "name": "unitvolume",
                  "type": "decimal"
                },
                {
                  "key": "121",
                  "name": "usealtitemid",
                  "type": "string"
                },
                {
                  "key": "122",
                  "name": "width",
                  "type": "decimal"
                },
                {
                  "key": "123",
                  "name": "wmsarrivalhandlingtime",
                  "type": "bigint"
                },
                {
                  "key": "124",
                  "name": "wmspallettypeid",
                  "type": "string"
                },
                {
                  "key": "125",
                  "name": "wmspickingqtytime",
                  "type": "bigint"
                },
                {
                  "key": "126",
                  "name": "dsa_in",
                  "type": "string"
                },
                {
                  "key": "127",
                  "name": "exciserecordtype_in",
                  "type": "string"
                },
                {
                  "key": "128",
                  "name": "intracode",
                  "type": "string"
                },
                {
                  "key": "129",
                  "name": "satcodeid_mx",
                  "type": "string"
                },
                {
                  "key": "130",
                  "name": "sattarifffraction_mx",
                  "type": "string"
                },
                {
                  "key": "131",
                  "name": "hsncodetable_in",
                  "type": "bigint"
                },
                {
                  "key": "132",
                  "name": "serviceaccountingcodetable_in",
                  "type": "bigint"
                },
                {
                  "key": "133",
                  "name": "exempt_in",
                  "type": "string"
                },
                {
                  "key": "134",
                  "name": "productlifecyclestateid",
                  "type": "string"
                },
                {
                  "key": "135",
                  "name": "scaleindicator_br",
                  "type": "string"
                },
                {
                  "key": "136",
                  "name": "cnpj_br",
                  "type": "string"
                },
                {
                  "key": "137",
                  "name": "nongst_in",
                  "type": "string"
                },
                {
                  "key": "138",
                  "name": "taxratetype",
                  "type": "bigint"
                },
                {
                  "key": "139",
                  "name": "intrastatchargeperkg",
                  "type": "decimal"
                },
                {
                  "key": "140",
                  "name": "hmimindicator",
                  "type": "string"
                },
                {
                  "key": "141",
                  "name": "coodualuseproduct",
                  "type": "string"
                },
                {
                  "key": "142",
                  "name": "coodualusecode",
                  "type": "string"
                },
                {
                  "key": "143",
                  "name": "preventphysicaldimensionsync",
                  "type": "string"
                },
                {
                  "key": "144",
                  "name": "costbomlevel",
                  "type": "bigint"
                },
                {
                  "key": "145",
                  "name": "bomwhsreleasepolicy",
                  "type": "string"
                },
                {
                  "key": "146",
                  "name": "freenotesgroup_it",
                  "type": "string"
                },
                {
                  "key": "147",
                  "name": "displayhazard_mx",
                  "type": "string"
                },
                {
                  "key": "148",
                  "name": "bundle",
                  "type": "string"
                },
                {
                  "key": "149",
                  "name": "itmarrivalgroupid",
                  "type": "string"
                },
                {
                  "key": "150",
                  "name": "itmcommoditycodeid",
                  "type": "string"
                },
                {
                  "key": "151",
                  "name": "itmcustomsdescid",
                  "type": "string"
                },
                {
                  "key": "152",
                  "name": "itmoverundertolerancegroupid",
                  "type": "string"
                },
                {
                  "key": "153",
                  "name": "itmcosttypegroupid",
                  "type": "string"
                },
                {
                  "key": "154",
                  "name": "itmcosttransfergroupid",
                  "type": "string"
                },
                {
                  "key": "155",
                  "name": "revrecdefaultrevenuerecognitionschedule",
                  "type": "string"
                },
                {
                  "key": "156",
                  "name": "revrecexcludefromcarveout",
                  "type": "string"
                },
                {
                  "key": "157",
                  "name": "revrecmedianprice",
                  "type": "string"
                },
                {
                  "key": "158",
                  "name": "revrecmedianpricemaximumtolerance",
                  "type": "decimal"
                },
                {
                  "key": "159",
                  "name": "revrecmedianpriceminimumtolerance",
                  "type": "decimal"
                },
                {
                  "key": "160",
                  "name": "revrecrevenuerecognitionenabled",
                  "type": "string"
                },
                {
                  "key": "161",
                  "name": "revrecrevenuetype",
                  "type": "string"
                },
                {
                  "key": "162",
                  "name": "revrecbundle",
                  "type": "string"
                },
                {
                  "key": "163",
                  "name": "modifieddatetime",
                  "type": "timestamp"
                },
                {
                  "key": "164",
                  "name": "modifiedby",
                  "type": "string"
                },
                {
                  "key": "165",
                  "name": "modifiedtransactionid",
                  "type": "bigint"
                },
                {
                  "key": "166",
                  "name": "createddatetime",
                  "type": "timestamp"
                },
                {
                  "key": "167",
                  "name": "createdby",
                  "type": "string"
                },
                {
                  "key": "168",
                  "name": "createdtransactionid",
                  "type": "bigint"
                },
                {
                  "key": "169",
                  "name": "dataareaid",
                  "type": "string"
                },
                {
                  "key": "170",
                  "name": "recversion",
                  "type": "bigint"
                },
                {
                  "key": "171",
                  "name": "partition",
                  "type": "bigint"
                },
                {
                  "key": "172",
                  "name": "sysrowversion",
                  "type": "bigint"
                },
                {
                  "key": "173",
                  "name": "sysdatastatecode",
                  "type": "string"
                },
                {
                  "key": "174",
                  "name": "recid",
                  "type": "bigint"
                },
                {
                  "key": "175",
                  "name": "tableid",
                  "type": "bigint"
                },
                {
                  "key": "176",
                  "name": "versionnumber",
                  "type": "bigint"
                },
                {
                  "key": "177",
                  "name": "createdon",
                  "type": "timestamp"
                },
                {
                  "key": "178",
                  "name": "modifiedon",
                  "type": "timestamp"
                },
                {
                  "key": "179",
                  "name": "IsDelete",
                  "type": "boolean"
                },
                {
                  "key": "180",
                  "name": "createdonpartition",
                  "type": "string"
                },
                {
                  "key": "181",
                  "name": "PartitionId",
                  "type": "string"
                }
              ],
              "truncated": false
            },
            "isSummary": false,
            "language": "scala"
          },
          "persist_state": {
            "view": {
              "type": "details",
              "tableOptions": {},
              "chartOptions": {
                "chartType": "bar",
                "aggregationType": "sum",
                "categoryFieldKeys": [
                  "0"
                ],
                "seriesFieldKeys": [
                  "10"
                ],
                "isStacked": false
              }
            }
          }
        },
        "c9123e62-978a-47a6-a4c2-c4ca05d3c42f": {
          "type": "Synapse.DataFrame",
          "sync_state": {
            "table": {
              "rows": [
                {
                  "0": "00000e0e-0000-0000-6247-000010000000",
                  "1": "2023-11-10 04:53:04.563825",
                  "2": "2023-11-10 04:53:04.563825",
                  "3": "93080 :  : 6.5 :  : Wide",
                  "4": "4211",
                  "5": "No",
                  "6": "Item",
                  "7": "PlatformLeatherPumps",
                  "8": "NotSpecified",
                  "10": "0",
                  "11": "0",
                  "12": "0",
                  "13": "1900-01-01 00:00:00",
                  "14": "Admin",
                  "15": "0",
                  "16": "1900-01-01 00:00:00",
                  "18": "0",
                  "19": "dat",
                  "20": "1441796169",
                  "21": "5637144576",
                  "22": "0",
                  "23": "Default",
                  "24": "68719495010",
                  "25": "3598",
                  "26": "0",
                  "27": "1900-01-01 00:00:00",
                  "28": "1900-01-01 00:00:00",
                  "30": "2023-11-08T23.33.03Z",
                  "31": "1900"
                },
                {
                  "0": "00000e0e-0000-0000-a707-014105000000",
                  "1": "2023-11-10 04:53:04.563825",
                  "2": "2023-11-10 04:53:04.563825",
                  "3": "0174 :  : Small : Purple : 3/4",
                  "4": "4211",
                  "5": "No",
                  "6": "Item",
                  "7": "WomensStripedPolo",
                  "8": "NotSpecified",
                  "10": "0",
                  "11": "0",
                  "12": "0",
                  "13": "1900-01-01 00:00:00",
                  "15": "0",
                  "16": "1900-01-01 00:00:00",
                  "18": "0",
                  "19": "dat",
                  "20": "0",
                  "21": "5637144576",
                  "22": "0",
                  "23": "Default",
                  "24": "22565423015",
                  "25": "3598",
                  "26": "0",
                  "27": "1900-01-01 00:00:00",
                  "28": "1900-01-01 00:00:00",
                  "30": "2023-11-08T23.33.03Z",
                  "31": "1900"
                },
                {
                  "0": "00000e0e-0000-0000-b446-000010000000",
                  "1": "2023-11-10 04:53:04.563825",
                  "2": "2023-11-10 04:53:04.563825",
                  "3": "93073 :  : 10.5 :  : Regular",
                  "4": "4211",
                  "5": "No",
                  "6": "Item",
                  "7": "BeltedDressBoots",
                  "8": "NotSpecified",
                  "10": "0",
                  "11": "0",
                  "12": "0",
                  "13": "1900-01-01 00:00:00",
                  "14": "Admin",
                  "15": "0",
                  "16": "1900-01-01 00:00:00",
                  "18": "0",
                  "19": "dat",
                  "20": "679521593",
                  "21": "5637144576",
                  "22": "0",
                  "23": "Default",
                  "24": "68719494836",
                  "25": "3598",
                  "26": "0",
                  "27": "1900-01-01 00:00:00",
                  "28": "1900-01-01 00:00:00",
                  "30": "2023-11-08T23.33.03Z",
                  "31": "1900"
                },
                {
                  "0": "00000e0e-0000-0000-c843-014105000000",
                  "1": "2023-11-10 04:53:04.563825",
                  "2": "2023-11-10 04:53:04.563825",
                  "3": "7003 : RKC0000668 :  :  :",
                  "4": "4211",
                  "5": "No",
                  "6": "Item",
                  "7": "RKC0000668",
                  "8": "NotSpecified",
                  "10": "0",
                  "11": "0",
                  "12": "0",
                  "13": "1900-01-01 00:00:00",
                  "14": "ViktorV",
                  "15": "0",
                  "16": "1900-01-01 00:00:00",
                  "18": "0",
                  "19": "dat",
                  "20": "0",
                  "21": "5637144576",
                  "22": "0",
                  "23": "Default",
                  "24": "22565438408",
                  "25": "3598",
                  "26": "0",
                  "27": "1900-01-01 00:00:00",
                  "28": "1900-01-01 00:00:00",
                  "30": "2023-11-08T23.33.03Z",
                  "31": "1900"
                },
                {
                  "0": "00000e0e-0000-0000-960a-014105000000",
                  "1": "2023-11-10 04:53:04.563825",
                  "2": "2023-11-10 04:53:04.563825",
                  "3": "4108 :  :  : Black :",
                  "4": "4211",
                  "5": "No",
                  "6": "Item",
                  "7": "NT4GBPortableMP3Play",
                  "8": "NotSpecified",
                  "10": "0",
                  "11": "0",
                  "12": "0",
                  "13": "1900-01-01 00:00:00",
                  "15": "0",
                  "16": "1900-01-01 00:00:00",
                  "18": "0",
                  "19": "dat",
                  "20": "0",
                  "21": "5637144576",
                  "22": "0",
                  "23": "Default",
                  "24": "22565423766",
                  "25": "3598",
                  "26": "0",
                  "27": "1900-01-01 00:00:00",
                  "28": "1900-01-01 00:00:00",
                  "30": "2023-11-08T23.33.03Z",
                  "31": "1900"
                },
                {
                  "0": "00000e0e-0000-0000-e748-000010000000",
                  "1": "2023-11-10 04:53:04.563825",
                  "2": "2023-11-10 04:53:04.563825",
                  "3": "93097 :  : 10.5 :  : Wide",
                  "4": "4211",
                  "5": "No",
                  "6": "Item",
                  "7": "SandalFlat",
                  "8": "NotSpecified",
                  "10": "0",
                  "11": "0",
                  "12": "0",
                  "13": "1900-01-01 00:00:00",
                  "14": "Admin",
                  "15": "0",
                  "16": "1900-01-01 00:00:00",
                  "18": "0",
                  "19": "dat",
                  "20": "782127145",
                  "21": "5637144576",
                  "22": "0",
                  "23": "Default",
                  "24": "68719495399",
                  "25": "3598",
                  "26": "0",
                  "27": "1900-01-01 00:00:00",
                  "28": "1900-01-01 00:00:00",
                  "30": "2023-11-08T23.33.03Z",
                  "31": "1900"
                },
                {
                  "0": "00000e0e-0000-0000-fe20-014105000000",
                  "1": "2023-11-10 04:53:04.563825",
                  "2": "2023-11-10 04:53:04.563825",
                  "3": "81100 :  : 32 : Dark Grey : Long",
                  "4": "4211",
                  "5": "No",
                  "6": "Item",
                  "7": "Trim Fit Suit",
                  "8": "NotSpecified",
                  "10": "0",
                  "11": "0",
                  "12": "0",
                  "13": "1900-01-01 00:00:00",
                  "15": "0",
                  "16": "1900-01-01 00:00:00",
                  "18": "0",
                  "19": "dat",
                  "20": "0",
                  "21": "5637144576",
                  "22": "0",
                  "23": "Default",
                  "24": "22565429502",
                  "25": "3598",
                  "26": "0",
                  "27": "1900-01-01 00:00:00",
                  "28": "1900-01-01 00:00:00",
                  "30": "2023-11-08T23.33.03Z",
                  "31": "1900"
                },
                {
                  "0": "00000e0e-0000-0000-cd4a-000010000000",
                  "1": "2023-11-10 04:53:04.563825",
                  "2": "2023-11-10 04:53:04.563825",
                  "3": "91045 :  : 8 :  :",
                  "4": "4211",
                  "5": "No",
                  "6": "Item",
                  "7": "HerringboneFedora",
                  "8": "NotSpecified",
                  "10": "0",
                  "11": "0",
                  "12": "0",
                  "13": "1900-01-01 00:00:00",
                  "14": "Admin",
                  "15": "0",
                  "16": "1900-01-01 00:00:00",
                  "18": "0",
                  "19": "dat",
                  "20": "744351582",
                  "21": "5637144576",
                  "22": "0",
                  "23": "Default",
                  "24": "68719495885",
                  "25": "3598",
                  "26": "0",
                  "27": "1900-01-01 00:00:00",
                  "28": "1900-01-01 00:00:00",
                  "30": "2023-11-08T23.33.03Z",
                  "31": "1900"
                },
                {
                  "0": "00000e0e-0000-0000-e508-014105000000",
                  "1": "2023-11-10 04:53:04.563825",
                  "2": "2023-11-10 04:53:04.563825",
                  "3": "1501",
                  "4": "10812",
                  "5": "No",
                  "6": "Item",
                  "7": "Proseware Photo Ink",
                  "8": "NotSpecified",
                  "10": "0",
                  "11": "0",
                  "12": "0",
                  "13": "1900-01-01 00:00:00",
                  "15": "0",
                  "16": "1900-01-01 00:00:00",
                  "18": "0",
                  "19": "dat",
                  "20": "0",
                  "21": "5637144576",
                  "22": "0",
                  "23": "Default",
                  "24": "22565423333",
                  "25": "3598",
                  "26": "0",
                  "27": "1900-01-01 00:00:00",
                  "28": "1900-01-01 00:00:00",
                  "30": "2023-11-08T23.33.03Z",
                  "31": "1900"
                },
                {
                  "0": "00000e0e-0000-0000-8f47-014105000000",
                  "1": "2023-11-10 04:53:04.563825",
                  "2": "2023-11-10 04:53:04.563825",
                  "3": "7003 : RKC0001635 :  :  :",
                  "4": "4211",
                  "5": "No",
                  "6": "Item",
                  "7": "RKC0001635",
                  "8": "NotSpecified",
                  "10": "0",
                  "11": "0",
                  "12": "0",
                  "13": "1900-01-01 00:00:00",
                  "14": "ViktorV",
                  "15": "0",
                  "16": "1900-01-01 00:00:00",
                  "18": "0",
                  "19": "dat",
                  "20": "0",
                  "21": "5637144576",
                  "22": "0",
                  "23": "Default",
                  "24": "22565439375",
                  "25": "3598",
                  "26": "0",
                  "27": "1900-01-01 00:00:00",
                  "28": "1900-01-01 00:00:00",
                  "30": "2023-11-08T23.33.03Z",
                  "31": "1900"
                }
              ],
              "schema": [
                {
                  "key": "0",
                  "name": "Id",
                  "type": "string"
                },
                {
                  "key": "1",
                  "name": "SinkCreatedOn",
                  "type": "timestamp"
                },
                {
                  "key": "2",
                  "name": "SinkModifiedOn",
                  "type": "timestamp"
                },
                {
                  "key": "3",
                  "name": "displayproductnumber",
                  "type": "string"
                },
                {
                  "key": "4",
                  "name": "instancerelationtype",
                  "type": "bigint"
                },
                {
                  "key": "5",
                  "name": "pdscwproduct",
                  "type": "string"
                },
                {
                  "key": "6",
                  "name": "producttype",
                  "type": "string"
                },
                {
                  "key": "7",
                  "name": "searchname",
                  "type": "string"
                },
                {
                  "key": "8",
                  "name": "servicetype",
                  "type": "string"
                },
                {
                  "key": "9",
                  "name": "engchgproductownerid",
                  "type": "string"
                },
                {
                  "key": "10",
                  "name": "engchgproductcategorydetails",
                  "type": "bigint"
                },
                {
                  "key": "11",
                  "name": "engchgproductreleasepolicy",
                  "type": "bigint"
                },
                {
                  "key": "12",
                  "name": "engchgproductreadinesspolicy",
                  "type": "bigint"
                },
                {
                  "key": "13",
                  "name": "modifieddatetime",
                  "type": "timestamp"
                },
                {
                  "key": "14",
                  "name": "modifiedby",
                  "type": "string"
                },
                {
                  "key": "15",
                  "name": "modifiedtransactionid",
                  "type": "bigint"
                },
                {
                  "key": "16",
                  "name": "createddatetime",
                  "type": "timestamp"
                },
                {
                  "key": "17",
                  "name": "createdby",
                  "type": "string"
                },
                {
                  "key": "18",
                  "name": "createdtransactionid",
                  "type": "bigint"
                },
                {
                  "key": "19",
                  "name": "dataareaid",
                  "type": "string"
                },
                {
                  "key": "20",
                  "name": "recversion",
                  "type": "bigint"
                },
                {
                  "key": "21",
                  "name": "partition",
                  "type": "bigint"
                },
                {
                  "key": "22",
                  "name": "sysrowversion",
                  "type": "bigint"
                },
                {
                  "key": "23",
                  "name": "sysdatastatecode",
                  "type": "string"
                },
                {
                  "key": "24",
                  "name": "recid",
                  "type": "bigint"
                },
                {
                  "key": "25",
                  "name": "tableid",
                  "type": "bigint"
                },
                {
                  "key": "26",
                  "name": "versionnumber",
                  "type": "bigint"
                },
                {
                  "key": "27",
                  "name": "createdon",
                  "type": "timestamp"
                },
                {
                  "key": "28",
                  "name": "modifiedon",
                  "type": "timestamp"
                },
                {
                  "key": "29",
                  "name": "IsDelete",
                  "type": "boolean"
                },
                {
                  "key": "30",
                  "name": "createdonpartition",
                  "type": "string"
                },
                {
                  "key": "31",
                  "name": "PartitionId",
                  "type": "string"
                }
              ],
              "truncated": false
            },
            "isSummary": false,
            "language": "scala"
          },
          "persist_state": {
            "view": {
              "type": "details",
              "tableOptions": {},
              "chartOptions": {
                "chartType": "bar",
                "aggregationType": "sum",
                "categoryFieldKeys": [
                  "0"
                ],
                "seriesFieldKeys": [
                  "4"
                ],
                "isStacked": false
              }
            }
          }
        },
        "81aeb629-cf72-4a20-97fc-89b060f09947": {
          "type": "Synapse.DataFrame",
          "sync_state": {
            "table": {
              "rows": [
                {
                  "0": "00000dd3-0000-0000-c135-014105000000",
                  "1": "2023-11-20 01:08:18.881362",
                  "2": "2023-11-20 01:08:18.881362",
                  "3": "Baskets pour enfants",
                  "4": "FR",
                  "5": "Baskets pour enfants",
                  "6": "22565422463",
                  "7": "1900-01-01 00:00:00",
                  "9": "0",
                  "10": "1900-01-01 00:00:00",
                  "12": "0",
                  "13": "dat",
                  "14": "0",
                  "15": "5637144576",
                  "16": "0",
                  "17": "Default",
                  "18": "22565434817",
                  "19": "3539",
                  "20": "0",
                  "21": "1900-01-01 00:00:00",
                  "22": "1900-01-01 00:00:00",
                  "24": "2023-11-15T06.33.04Z",
                  "25": "1900"
                },
                {
                  "0": "00000dd3-0000-0000-b363-000010000000",
                  "1": "2023-11-20 01:08:18.881362",
                  "2": "2023-11-20 01:08:18.881362",
                  "4": "en-us",
                  "5": "Black Blazer With Zippered Breast Pocket",
                  "6": "68719497543",
                  "7": "1900-01-01 00:00:00",
                  "8": "Admin",
                  "9": "0",
                  "10": "1900-01-01 00:00:00",
                  "12": "0",
                  "13": "dat",
                  "14": "2144340883",
                  "15": "5637144576",
                  "16": "0",
                  "17": "Default",
                  "18": "68719502259",
                  "19": "3539",
                  "20": "0",
                  "21": "1900-01-01 00:00:00",
                  "22": "1900-01-01 00:00:00",
                  "24": "2023-11-15T06.33.04Z",
                  "25": "1900"
                },
                {
                  "0": "00000dd3-0000-0000-1326-014105000000",
                  "1": "2023-11-20 01:08:18.881362",
                  "2": "2023-11-20 01:08:18.881362",
                  "4": "zh-hans",
                  "5": "女式棉背心",
                  "6": "22565422952",
                  "7": "1900-01-01 00:00:00",
                  "9": "0",
                  "10": "1900-01-01 00:00:00",
                  "12": "0",
                  "13": "dat",
                  "14": "0",
                  "15": "5637144576",
                  "16": "0",
                  "17": "Default",
                  "18": "22565430803",
                  "19": "3539",
                  "20": "0",
                  "21": "1900-01-01 00:00:00",
                  "22": "1900-01-01 00:00:00",
                  "24": "2023-11-15T06.33.04Z",
                  "25": "1900"
                },
                {
                  "0": "00000dd3-0000-0000-5f27-253d0c000000",
                  "1": "2023-11-20 01:08:18.881362",
                  "2": "2023-11-20 01:08:18.881362",
                  "3": "Yoga exercise combo",
                  "4": "en-us",
                  "5": "Yoga exercise combo",
                  "6": "52565443998",
                  "7": "1900-01-01 00:00:00",
                  "8": "EmmaH",
                  "9": "0",
                  "10": "1900-01-01 00:00:00",
                  "12": "0",
                  "13": "dat",
                  "14": "0",
                  "15": "5637144576",
                  "16": "0",
                  "17": "Default",
                  "18": "52565452639",
                  "19": "3539",
                  "20": "0",
                  "21": "1900-01-01 00:00:00",
                  "22": "1900-01-01 00:00:00",
                  "24": "2023-11-15T06.33.04Z",
                  "25": "1900"
                },
                {
                  "0": "00000dd3-0000-0000-d127-253d0c000000",
                  "1": "2023-11-20 01:08:18.881362",
                  "2": "2023-11-20 01:08:18.881362",
                  "3": "Yoga exercise combo",
                  "4": "en-us",
                  "5": "Yoga exercise combo",
                  "6": "52565444112",
                  "7": "1900-01-01 00:00:00",
                  "8": "EmmaH",
                  "9": "0",
                  "10": "1900-01-01 00:00:00",
                  "12": "0",
                  "13": "dat",
                  "14": "0",
                  "15": "5637144576",
                  "16": "0",
                  "17": "Default",
                  "18": "52565452753",
                  "19": "3539",
                  "20": "0",
                  "21": "1900-01-01 00:00:00",
                  "22": "1900-01-01 00:00:00",
                  "24": "2023-11-15T06.33.04Z",
                  "25": "1900"
                },
                {
                  "0": "00000dd3-0000-0000-c237-014105000000",
                  "1": "2023-11-20 01:08:18.881362",
                  "2": "2023-11-20 01:08:18.881362",
                  "3": "Maillot sans manche en coton pour femme",
                  "4": "FR",
                  "5": "Maillot sans manche en coton pour femme",
                  "6": "22565422973",
                  "7": "1900-01-01 00:00:00",
                  "9": "0",
                  "10": "1900-01-01 00:00:00",
                  "12": "0",
                  "13": "dat",
                  "14": "0",
                  "15": "5637144576",
                  "16": "0",
                  "17": "Default",
                  "18": "22565435330",
                  "19": "3539",
                  "20": "0",
                  "21": "1900-01-01 00:00:00",
                  "22": "1900-01-01 00:00:00",
                  "24": "2023-11-15T06.33.04Z",
                  "25": "1900"
                },
                {
                  "0": "00000dd3-0000-0000-4e28-014105000000",
                  "1": "2023-11-20 01:08:18.881362",
                  "2": "2023-11-20 01:08:18.881362",
                  "4": "zh-hans",
                  "5": "A. Datum一体型数码相机M200",
                  "6": "22565423523",
                  "7": "1900-01-01 00:00:00",
                  "9": "0",
                  "10": "1900-01-01 00:00:00",
                  "12": "0",
                  "13": "dat",
                  "14": "0",
                  "15": "5637144576",
                  "16": "0",
                  "17": "Default",
                  "18": "22565431374",
                  "19": "3539",
                  "20": "0",
                  "21": "1900-01-01 00:00:00",
                  "22": "1900-01-01 00:00:00",
                  "24": "2023-11-15T06.33.04Z",
                  "25": "1900"
                },
                {
                  "0": "00000dd3-0000-0000-025a-000010000000",
                  "1": "2023-11-20 01:08:18.881362",
                  "2": "2023-11-20 01:08:18.881362",
                  "4": "en-us",
                  "5": "Open-toe Suede Pumps",
                  "6": "68719495062",
                  "7": "1900-01-01 00:00:00",
                  "8": "Admin",
                  "9": "0",
                  "10": "1900-01-01 00:00:00",
                  "12": "0",
                  "13": "dat",
                  "14": "1516166552",
                  "15": "5637144576",
                  "16": "0",
                  "17": "Default",
                  "18": "68719499778",
                  "19": "3539",
                  "20": "0",
                  "21": "1900-01-01 00:00:00",
                  "22": "1900-01-01 00:00:00",
                  "24": "2023-11-15T06.33.04Z",
                  "25": "1900"
                },
                {
                  "0": "00000dd3-0000-0000-ea35-014105000000",
                  "1": "2023-11-20 01:08:18.881362",
                  "2": "2023-11-20 01:08:18.881362",
                  "3": "Pantalons isolants pour homme",
                  "4": "FR",
                  "5": "Pantalons isolants pour homme",
                  "6": "22565422501",
                  "7": "1900-01-01 00:00:00",
                  "9": "0",
                  "10": "1900-01-01 00:00:00",
                  "12": "0",
                  "13": "dat",
                  "14": "0",
                  "15": "5637144576",
                  "16": "0",
                  "17": "Default",
                  "18": "22565434858",
                  "19": "3539",
                  "20": "0",
                  "21": "1900-01-01 00:00:00",
                  "22": "1900-01-01 00:00:00",
                  "24": "2023-11-15T06.33.04Z",
                  "25": "1900"
                },
                {
                  "0": "00000dd3-0000-0000-0d3c-014105000000",
                  "1": "2023-11-20 01:08:18.881362",
                  "2": "2023-11-20 01:08:18.881362",
                  "4": "FR",
                  "5": "Réfrigérateur E1600 Fabrikam",
                  "6": "22565424056",
                  "7": "1900-01-01 00:00:00",
                  "9": "0",
                  "10": "1900-01-01 00:00:00",
                  "12": "0",
                  "13": "dat",
                  "14": "0",
                  "15": "5637144576",
                  "16": "0",
                  "17": "Default",
                  "18": "22565436429",
                  "19": "3539",
                  "20": "0",
                  "21": "1900-01-01 00:00:00",
                  "22": "1900-01-01 00:00:00",
                  "24": "2023-11-15T06.33.04Z",
                  "25": "1900"
                }
              ],
              "schema": [
                {
                  "key": "0",
                  "name": "Id",
                  "type": "string"
                },
                {
                  "key": "1",
                  "name": "SinkCreatedOn",
                  "type": "timestamp"
                },
                {
                  "key": "2",
                  "name": "SinkModifiedOn",
                  "type": "timestamp"
                },
                {
                  "key": "3",
                  "name": "description",
                  "type": "string"
                },
                {
                  "key": "4",
                  "name": "languageid",
                  "type": "string"
                },
                {
                  "key": "5",
                  "name": "name",
                  "type": "string"
                },
                {
                  "key": "6",
                  "name": "product",
                  "type": "bigint"
                },
                {
                  "key": "7",
                  "name": "modifieddatetime",
                  "type": "timestamp"
                },
                {
                  "key": "8",
                  "name": "modifiedby",
                  "type": "string"
                },
                {
                  "key": "9",
                  "name": "modifiedtransactionid",
                  "type": "bigint"
                },
                {
                  "key": "10",
                  "name": "createddatetime",
                  "type": "timestamp"
                },
                {
                  "key": "11",
                  "name": "createdby",
                  "type": "string"
                },
                {
                  "key": "12",
                  "name": "createdtransactionid",
                  "type": "bigint"
                },
                {
                  "key": "13",
                  "name": "dataareaid",
                  "type": "string"
                },
                {
                  "key": "14",
                  "name": "recversion",
                  "type": "bigint"
                },
                {
                  "key": "15",
                  "name": "partition",
                  "type": "bigint"
                },
                {
                  "key": "16",
                  "name": "sysrowversion",
                  "type": "bigint"
                },
                {
                  "key": "17",
                  "name": "sysdatastatecode",
                  "type": "string"
                },
                {
                  "key": "18",
                  "name": "recid",
                  "type": "bigint"
                },
                {
                  "key": "19",
                  "name": "tableid",
                  "type": "bigint"
                },
                {
                  "key": "20",
                  "name": "versionnumber",
                  "type": "bigint"
                },
                {
                  "key": "21",
                  "name": "createdon",
                  "type": "timestamp"
                },
                {
                  "key": "22",
                  "name": "modifiedon",
                  "type": "timestamp"
                },
                {
                  "key": "23",
                  "name": "IsDelete",
                  "type": "boolean"
                },
                {
                  "key": "24",
                  "name": "createdonpartition",
                  "type": "string"
                },
                {
                  "key": "25",
                  "name": "PartitionId",
                  "type": "string"
                }
              ],
              "truncated": false
            },
            "isSummary": false,
            "language": "scala"
          },
          "persist_state": {
            "view": {
              "type": "details",
              "tableOptions": {},
              "chartOptions": {
                "chartType": "bar",
                "aggregationType": "sum",
                "categoryFieldKeys": [
                  "0"
                ],
                "seriesFieldKeys": [
                  "6"
                ],
                "isStacked": false
              }
            }
          }
        },
        "f239b700-aa13-4137-9ed6-c90b4b9716d4": {
          "type": "Synapse.DataFrame",
          "sync_state": {
            "table": {
              "rows": [
                {
                  "0": "22565431954",
                  "1": "0111",
                  "2": "Whistle & Lanyard (12 pc)",
                  "3": "0111",
                  "4": "Whistle&Lanyard(12pc",
                  "5": "frrt"
                },
                {
                  "0": "22565432048",
                  "1": "1115",
                  "2": "Proseware Laptop12 M210",
                  "3": "1115",
                  "4": "Proseware Laptop12 M",
                  "5": "frrt"
                },
                {
                  "0": "22565431913",
                  "1": "0070",
                  "2": "DVD - Intermediate Yoga",
                  "3": "0070",
                  "4": "DVDIntermediateYoga",
                  "5": "frrt"
                },
                {
                  "0": "22565437968",
                  "1": "M0056",
                  "2": "Power Supply - Universal",
                  "3": "M0056",
                  "4": "Power Supply - Unive",
                  "5": "usmf"
                },
                {
                  "0": "22565431979",
                  "1": "0136",
                  "2": "Barbell Mid Width Bench",
                  "3": "0136",
                  "4": "BarbellMidWidthBench",
                  "5": "frrt"
                },
                {
                  "0": "68719483522",
                  "1": "7006",
                  "2": "Premium bike kit",
                  "3": "7006",
                  "4": "Premiumbikekit",
                  "5": "usrt"
                },
                {
                  "0": "22565431873",
                  "1": "0030",
                  "2": "Synthetic Basketball",
                  "3": "0030",
                  "4": "SyntheticBasketball",
                  "5": "frrt"
                },
                {
                  "0": "22565431891",
                  "1": "0048",
                  "2": "Aluminum Baseball Bat",
                  "3": "0048",
                  "4": "AluminumBaseballBat",
                  "5": "frrt"
                },
                {
                  "0": "22565432146",
                  "1": "2206",
                  "2": "Fabrikam SLR Camera X358",
                  "3": "2206",
                  "4": "Fabrikam SLR Camera",
                  "5": "frrt"
                },
                {
                  "0": "22565431921",
                  "1": "0078",
                  "2": "DVD - Advanced Pilates",
                  "3": "0078",
                  "4": "DVDAdvancedPilates",
                  "5": "frrt"
                }
              ],
              "schema": [
                {
                  "key": "0",
                  "name": "ProductId",
                  "type": "bigint"
                },
                {
                  "key": "1",
                  "name": "ProductNumber",
                  "type": "string"
                },
                {
                  "key": "2",
                  "name": "ProductName",
                  "type": "string"
                },
                {
                  "key": "3",
                  "name": "ItemNumber",
                  "type": "string"
                },
                {
                  "key": "4",
                  "name": "ItemShortName",
                  "type": "string"
                },
                {
                  "key": "5",
                  "name": "LegalEntity",
                  "type": "string"
                }
              ],
              "truncated": false
            },
            "isSummary": false,
            "language": "scala"
          },
          "persist_state": {
            "view": {
              "type": "details",
              "tableOptions": {},
              "chartOptions": {
                "chartType": "bar",
                "aggregationType": "sum",
                "categoryFieldKeys": [
                  "1"
                ],
                "seriesFieldKeys": [
                  "0"
                ],
                "isStacked": false
              }
            }
          }
        }
      }
    }
  },
  "nbformat": 4,
  "nbformat_minor": 2
}