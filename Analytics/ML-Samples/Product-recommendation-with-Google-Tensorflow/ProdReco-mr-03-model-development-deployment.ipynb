{
  "cells": [
    {
      "cell_type": "markdown",
      "source": [
        "# Product recommendation with Google Tensorflow \n",
        "#### Dataset download > \n",
        "* #### [Instacart](https://www.kaggle.com/c/instacart-market-basket-analysis)\n",
        "\n",
        "#### Concepts, tools, libraries used >\n",
        "* #### [Wide & Deep](https://ai.googleblog.com/2016/06/wide-deep-learning-better-together-with.html)\n",
        "* #### [Tensorflow](https://www.tensorflow.org/)\n",
        "* #### [Petastorm](https://github.com/uber/petastorm)\n",
        "* #### [Hyperopt](https://github.com/hyperopt/hyperopt)\n",
        "* #### [MLFlow](https://mlflow.org/)\n",
        "\n",
        "\n",
        "This is a series of three notebooks. This is notebook #3. The purpose of this notebook is to train, evaluate & deploy a \"Wide & Deep\" collaborative filter recommender using features engineered in the prior notebook.  \n",
        "This notebook was run on a Synapse CPU based pool. One step, for hyperparameter search, takes few hours, you may get faster results with GPU based pools.\n",
        "Before you run this notebook on Synapse, you need to define packages needed (Tensorflow, Petastorm etc) in a separate file and load them."
      ],
      "metadata": {
        "application/vnd.databricks.v1+cell": {
          "title": "",
          "showTitle": false,
          "inputWidgets": {},
          "nuid": "cd43f043-f1eb-45eb-b162-ba8ae4ab3f55"
        }
      }
    },
    {
      "cell_type": "code",
      "source": [
        "import pyspark.sql.functions as f\n",
        "from pyspark.sql.types import *\n",
        "\n",
        "import tensorflow as tf\n",
        "from tensorflow.python.saved_model import tag_constants\n",
        "\n",
        "from petastorm.spark import SparkDatasetConverter, make_spark_converter\n",
        "from petastorm import TransformSpec\n",
        "\n",
        "from hyperopt import hp, fmin, tpe, SparkTrials, STATUS_OK, space_eval\n",
        "\n",
        "import mlflow\n",
        "from mlflow.tracking import MlflowClient\n",
        "\n",
        "import platform\n",
        "\n",
        "import numpy as np\n",
        "import pandas as pd\n",
        "\n",
        "import datetime\n",
        "import os\n",
        "import requests"
      ],
      "outputs": [
        {
          "output_type": "display_data",
          "data": {
            "application/vnd.livy.statement-meta+json": {
              "spark_pool": "CPUPool",
              "session_id": 16,
              "statement_id": 1,
              "state": "finished",
              "livy_statement_state": "available",
              "queued_time": "2022-07-12T02:54:44.513216Z",
              "session_start_time": "2022-07-12T02:54:44.5526984Z",
              "execution_start_time": "2022-07-12T02:55:15.2621976Z",
              "execution_finish_time": "2022-07-12T02:55:19.2179308Z"
            },
            "text/plain": "StatementMeta(CPUPool, 16, 1, Finished, Available)"
          },
          "metadata": {}
        }
      ],
      "execution_count": 1,
      "metadata": {
        "application/vnd.databricks.v1+cell": {
          "title": "Import Required Libraries",
          "showTitle": true,
          "inputWidgets": {},
          "nuid": "59c6418e-f825-4c7c-bdf6-cdbc716a5fc3"
        }
      }
    },
    {
      "cell_type": "markdown",
      "source": [
        "## Step 1: Prepare the Data\n",
        "\n",
        "In our last notebook, both user and product features were prepared along with labels indicating whether a specific user-product combination was purchased in our training period.  Here, we will retrieve those data, combining them for input into our model:"
      ],
      "metadata": {
        "application/vnd.databricks.v1+cell": {
          "title": "",
          "showTitle": false,
          "inputWidgets": {},
          "nuid": "dbb27ee1-1163-48ab-810e-0208f6f7e801"
        }
      }
    },
    {
      "cell_type": "code",
      "source": [
        "# retrieve features and labels\n",
        "product_features = spark.table('instacart.product_features')\n",
        "user_features = spark.table('instacart.user_features')\n",
        "labels = spark.table('instacart.labels')\n",
        "\n",
        "# assemble full feature set\n",
        "labeled_features = (\n",
        "  labels\n",
        "  .join(product_features, on='product_id')\n",
        "  .join(user_features, on='user_id')\n",
        "  )\n",
        "\n",
        "# display results\n",
        "display(labeled_features.limit(10))"
      ],
      "outputs": [
        {
          "output_type": "display_data",
          "data": {
            "application/vnd.livy.statement-meta+json": {
              "spark_pool": "CPUPool",
              "session_id": 16,
              "statement_id": 2,
              "state": "finished",
              "livy_statement_state": "available",
              "queued_time": "2022-07-12T02:54:44.5151145Z",
              "session_start_time": null,
              "execution_start_time": "2022-07-12T02:55:19.3238399Z",
              "execution_finish_time": "2022-07-12T02:56:33.6107704Z"
            },
            "text/plain": "StatementMeta(CPUPool, 16, 2, Finished, Available)"
          },
          "metadata": {}
        },
        {
          "output_type": "display_data",
          "data": {
            "application/vnd.synapse.widget-view+json": {
              "widget_id": "9c543449-07ae-40f7-9b4d-2f7abf2c73bd",
              "widget_type": "Synapse.DataFrame"
            },
            "text/plain": "SynapseWidget(Synapse.DataFrame, 9c543449-07ae-40f7-9b4d-2f7abf2c73bd)"
          },
          "metadata": {}
        }
      ],
      "execution_count": 2,
      "metadata": {
        "application/vnd.databricks.v1+cell": {
          "title": "Retrieve Features & Labels",
          "showTitle": true,
          "inputWidgets": {},
          "nuid": "f9d17eb1-eac3-413a-9f29-eed1ab349cd5"
        },
        "collapsed": false
      }
    },
    {
      "cell_type": "markdown",
      "source": [
        "Because of the large number of features, we'll need to capture some metadata on our fields.  This metadata will help us setup our data inputs in later steps:"
      ],
      "metadata": {
        "application/vnd.databricks.v1+cell": {
          "title": "",
          "showTitle": false,
          "inputWidgets": {},
          "nuid": "374c7f98-6866-4918-a01a-b091f7db46e8"
        }
      }
    },
    {
      "cell_type": "code",
      "source": [
        "# identify label column\n",
        "label_col = 'label'\n",
        "\n",
        "# identify categorical feature columns\n",
        "cat_features = ['aisle_id','department_id','user_id','product_id']\n",
        "\n",
        "# capture keys for each of the categorical feature columns\n",
        "cat_keys={}\n",
        "for col in cat_features:\n",
        "  cat_keys[col] = (\n",
        "    labeled_features\n",
        "      .selectExpr('{0} as key'.format(col))\n",
        "      .distinct()\n",
        "      .orderBy('key')\n",
        "      .groupBy()\n",
        "        .agg(f.collect_list('key').alias('keys'))\n",
        "      .collect()[0]['keys']\n",
        "    )\n",
        "\n",
        "# all other columns (except id) are continous features\n",
        "num_features = labeled_features.drop(*(['id',label_col]+cat_features)).columns"
      ],
      "outputs": [
        {
          "output_type": "display_data",
          "data": {
            "application/vnd.livy.statement-meta+json": {
              "spark_pool": "CPUPool",
              "session_id": 16,
              "statement_id": 3,
              "state": "finished",
              "livy_statement_state": "available",
              "queued_time": "2022-07-12T02:54:44.5173124Z",
              "session_start_time": null,
              "execution_start_time": "2022-07-12T02:56:33.710564Z",
              "execution_finish_time": "2022-07-12T02:58:32.1291293Z"
            },
            "text/plain": "StatementMeta(CPUPool, 16, 3, Finished, Available)"
          },
          "metadata": {}
        }
      ],
      "execution_count": 3,
      "metadata": {
        "application/vnd.databricks.v1+cell": {
          "title": "Capture Label & Feature Info",
          "showTitle": true,
          "inputWidgets": {},
          "nuid": "83723bfd-6d11-4e0f-9ffe-9ed06b6d817d"
        }
      }
    },
    {
      "cell_type": "markdown",
      "source": [
        "Now we can split our data into training, validation & testing sets.  We pre-split this here versus dynamically splitting so that we might perform a stratified sample on the label.  The stratified sample will help ensure the under-represented positive class (indicating a specific product was purchased in the training period) is consistently present in our data splits:"
      ],
      "metadata": {
        "application/vnd.databricks.v1+cell": {
          "title": "",
          "showTitle": false,
          "inputWidgets": {},
          "nuid": "1d93113c-6e2d-4f87-94a9-f381af8cfd00"
        }
      }
    },
    {
      "cell_type": "code",
      "source": [
        "instance_count = labeled_features.count()\n",
        "positive_count = labels.filter(f.expr('label=1')).count()\n",
        "\n",
        "print('{0:.2f}% positive class across {1} instances'.format(100 * positive_count/instance_count, instance_count))"
      ],
      "outputs": [
        {
          "output_type": "display_data",
          "data": {
            "application/vnd.livy.statement-meta+json": {
              "spark_pool": "CPUPool",
              "session_id": 16,
              "statement_id": 4,
              "state": "finished",
              "livy_statement_state": "available",
              "queued_time": "2022-07-12T02:54:44.5198728Z",
              "session_start_time": null,
              "execution_start_time": "2022-07-12T02:58:32.2314739Z",
              "execution_finish_time": "2022-07-12T02:58:59.1991935Z"
            },
            "text/plain": "StatementMeta(CPUPool, 16, 4, Finished, Available)"
          },
          "metadata": {}
        },
        {
          "output_type": "stream",
          "name": "stdout",
          "text": [
            "9.99% positive class across 13863737 instances\n"
          ]
        }
      ],
      "execution_count": 4,
      "metadata": {
        "application/vnd.databricks.v1+cell": {
          "title": "Evaluate Positive Class Representation",
          "showTitle": true,
          "inputWidgets": {},
          "nuid": "fe0da5bd-73fd-4b0f-8538-b67ca29e0a8c"
        }
      }
    },
    {
      "cell_type": "code",
      "source": [
        "# fraction to hold for training\n",
        "train_fraction = 0.6\n",
        "\n",
        "# sample data, stratifying on labels, for training\n",
        "train = (\n",
        "  labeled_features\n",
        "    .sampleBy(label_col, fractions={0: train_fraction, 1: train_fraction})\n",
        "  )\n",
        "\n",
        "# split remaining data into validation & testing datasets (with same stratification)\n",
        "valid = (\n",
        "  labeled_features\n",
        "    .join(train, on='id', how='leftanti') # not in()\n",
        "    .sampleBy(label_col, fractions={0:0.5, 1:0.5})\n",
        "  )\n",
        "\n",
        "test = (\n",
        "  labeled_features\n",
        "    .join(train, on='id', how='leftanti') # not in()\n",
        "    .join(valid, on='id', how='leftanti') # not in()\n",
        "  )"
      ],
      "outputs": [
        {
          "output_type": "display_data",
          "data": {
            "application/vnd.livy.statement-meta+json": {
              "spark_pool": "CPUPool",
              "session_id": 16,
              "statement_id": 5,
              "state": "finished",
              "livy_statement_state": "available",
              "queued_time": "2022-07-12T02:54:44.5272328Z",
              "session_start_time": null,
              "execution_start_time": "2022-07-12T02:58:59.2970121Z",
              "execution_finish_time": "2022-07-12T02:58:59.447163Z"
            },
            "text/plain": "StatementMeta(CPUPool, 16, 5, Finished, Available)"
          },
          "metadata": {}
        }
      ],
      "execution_count": 5,
      "metadata": {
        "application/vnd.databricks.v1+cell": {
          "title": "Split Data into Training, Validation & Testing",
          "showTitle": true,
          "inputWidgets": {},
          "nuid": "55cd939e-1ab6-4501-8287-1d001c32130c"
        }
      }
    },
    {
      "cell_type": "markdown",
      "source": [
        "The training, validation & testing datasets currently exist as Spark Dataframes and may be quite large.  Converting our data to a pandas Dataframe may result in an out of memory error, so instead, we'll convert our Spark Dataframe into a [Petastorm](https://petastorm.readthedocs.io/en/latest/) dataset. Petastorm is a library that caches Spark data to Parquet and provides high-speed, batched access to that data to libraries such as Tensorflow and PyTorch:\n",
        "\n",
        "**NOTE** Petastorm may complain that a given cached file is too small.  Use the repartition() method to adjust the number of cached files generated with each dataset, but play with the count to determine the best number of files for your scenario."
      ],
      "metadata": {
        "application/vnd.databricks.v1+cell": {
          "title": "",
          "showTitle": false,
          "inputWidgets": {},
          "nuid": "503afbc4-4457-4bc0-9888-b9dfce8129da"
        }
      }
    },
    {
      "cell_type": "code",
      "source": [
        "# configure temp cache for petastorm files\n",
        "spark.conf.set(SparkDatasetConverter.PARENT_CACHE_DIR_URL_CONF, 'abfss://recommender@salabcommercedatalake.dfs.core.windows.net/instacart/pstorm_cache') # the file:// prefix is required by petastorm\n",
        "\n",
        "# persist dataframe data to petastorm cache location\n",
        "train_pstorm = make_spark_converter(train.repartition(4))  \n",
        "valid_pstorm = make_spark_converter(valid.repartition(4)) \n",
        "test_pstorm = make_spark_converter(test.repartition(4)) "
      ],
      "outputs": [
        {
          "output_type": "display_data",
          "data": {
            "application/vnd.livy.statement-meta+json": {
              "spark_pool": "CPUPool",
              "session_id": 16,
              "statement_id": 6,
              "state": "finished",
              "livy_statement_state": "available",
              "queued_time": "2022-07-12T02:54:44.5302094Z",
              "session_start_time": null,
              "execution_start_time": "2022-07-12T02:58:59.5497382Z",
              "execution_finish_time": "2022-07-12T03:02:02.6094323Z"
            },
            "text/plain": "StatementMeta(CPUPool, 16, 6, Finished, Available)"
          },
          "metadata": {}
        },
        {
          "output_type": "stream",
          "name": "stdout",
          "text": [
            "Converting floating-point columns to float32\nConverting floating-point columns to float32\nConverting floating-point columns to float32\n"
          ]
        }
      ],
      "execution_count": 6,
      "metadata": {
        "application/vnd.databricks.v1+cell": {
          "title": "Cache Data for Faster Access",
          "showTitle": true,
          "inputWidgets": {},
          "nuid": "eaa8e171-a059-428d-83dc-5344be5a7690"
        }
      }
    },
    {
      "cell_type": "markdown",
      "source": [
        "To make the data in the Petastorm cache accessible, we will need to define specs that read the data and transform it into the format expected by Tensorflow.  This format requires features to be presented as a dictionary and the label to be presented as a scalar value:"
      ],
      "metadata": {
        "application/vnd.databricks.v1+cell": {
          "title": "",
          "showTitle": false,
          "inputWidgets": {},
          "nuid": "5fb872ac-a7c0-46c9-9694-6f93ab979ce7"
        }
      }
    },
    {
      "cell_type": "code",
      "source": [
        "def get_data_specs(epochs=1, batch_size=128):\n",
        "  \n",
        "  # define functions to transform data into req'ed format\n",
        "  def get_input_fn(dataset_context_manager):\n",
        "    \n",
        "    # re-structure a row as ({features}, label)\n",
        "    def _to_tuple(row): \n",
        "      features = {}\n",
        "      for col in cat_features + num_features:\n",
        "        features[col] = getattr(row, col)\n",
        "      return features, getattr(row, label_col)\n",
        "    \n",
        "    def fn(): # called by estimator to perform row structure conversion\n",
        "      return dataset_context_manager.__enter__().map(_to_tuple)\n",
        "    \n",
        "    return fn\n",
        "\n",
        "  # access petastorm cache as tensorflow dataset\n",
        "  train_ds = train_pstorm.make_tf_dataset(batch_size=batch_size)\n",
        "  valid_ds = valid_pstorm.make_tf_dataset()\n",
        "  \n",
        "  # define spec to return transformed data for model training & evaluation\n",
        "  train_spec = tf.estimator.TrainSpec(\n",
        "                input_fn=get_input_fn(train_ds), \n",
        "                max_steps=int( (train_pstorm.dataset_size * epochs) / batch_size )\n",
        "                )\n",
        "  eval_spec = tf.estimator.EvalSpec(\n",
        "                input_fn=get_input_fn(valid_ds)\n",
        "                )\n",
        "  \n",
        "  return train_spec, eval_spec"
      ],
      "outputs": [
        {
          "output_type": "display_data",
          "data": {
            "application/vnd.livy.statement-meta+json": {
              "spark_pool": "CPUPool",
              "session_id": 16,
              "statement_id": 7,
              "state": "finished",
              "livy_statement_state": "available",
              "queued_time": "2022-07-12T02:54:44.5340413Z",
              "session_start_time": null,
              "execution_start_time": "2022-07-12T03:02:02.8433036Z",
              "execution_finish_time": "2022-07-12T03:02:02.9919865Z"
            },
            "text/plain": "StatementMeta(CPUPool, 16, 7, Finished, Available)"
          },
          "metadata": {}
        }
      ],
      "execution_count": 7,
      "metadata": {
        "application/vnd.databricks.v1+cell": {
          "title": "Define Data Specs",
          "showTitle": true,
          "inputWidgets": {},
          "nuid": "46ddf047-9571-4db2-9fa5-65277f1abeae"
        }
      }
    },
    {
      "cell_type": "markdown",
      "source": [
        "We can verify our specs by retrieving a row as follows.  Note that the default batch size for the training (first) spec is 128 records:"
      ],
      "metadata": {
        "application/vnd.databricks.v1+cell": {
          "title": "",
          "showTitle": false,
          "inputWidgets": {},
          "nuid": "53492f5b-eb9d-46bb-9b41-056bfba64e34"
        }
      }
    },
    {
      "cell_type": "code",
      "source": [
        "# retrieve specs\n",
        "specs = get_data_specs()\n",
        "\n",
        "# retrieve first batch from first (training) spec\n",
        "next(\n",
        "  iter(\n",
        "    specs[0].input_fn().take(1)\n",
        "    )\n",
        "  )"
      ],
      "outputs": [
        {
          "output_type": "display_data",
          "data": {
            "application/vnd.livy.statement-meta+json": {
              "spark_pool": "CPUPool",
              "session_id": 16,
              "statement_id": 8,
              "state": "finished",
              "livy_statement_state": "available",
              "queued_time": "2022-07-12T02:54:44.5382281Z",
              "session_start_time": null,
              "execution_start_time": "2022-07-12T03:02:03.0927105Z",
              "execution_finish_time": "2022-07-12T03:02:09.9674836Z"
            },
            "text/plain": "StatementMeta(CPUPool, 16, 8, Finished, Available)"
          },
          "metadata": {}
        },
        {
          "output_type": "stream",
          "name": "stderr",
          "text": [
            "2022-07-12 03:02:05.862781: E tensorflow/stream_executor/cuda/cuda_driver.cc:271] failed call to cuInit: CUDA_ERROR_NO_DEVICE: no CUDA-capable device is detected\n2022-07-12 03:02:05.862842: I tensorflow/stream_executor/cuda/cuda_diagnostics.cc:156] kernel driver does not appear to be running on this host (vm-70943303): /proc/driver/nvidia/version does not exist\n2022-07-12 03:02:05.865684: I tensorflow/core/platform/cpu_feature_guard.cc:193] This TensorFlow binary is optimized with oneAPI Deep Neural Network Library (oneDNN) to use the following CPU instructions in performance-critical operations:  AVX2 AVX512F FMA\nTo enable them in other operations, rebuild TensorFlow with the appropriate compiler flags.\n"
          ]
        },
        {
          "output_type": "execute_result",
          "execution_count": 19,
          "data": {
            "text/plain": "({'aisle_id': <tf.Tensor: shape=(128,), dtype=int32, numpy=\n  array([  6, 106,  31,  24,  17,  83,  78,  53,  83,  84,  61,  99,  24,\n         112, 106, 114,  16,  84, 117,  37, 117,  45,  45,  67,  22,  20,\n          88,  83,  24,  21,  66, 107,  31, 115,  83,  21,  81,  37,  83,\n          24,  93,  78, 116, 115,  52,  85, 112,  86, 120,   7,  32,  81,\n          37, 121,  83,  69,  83,  86,  21, 107,  83,  91,  83,  93,  59,\n          83,  69,  43, 120,  21,  24,  46,  19,  75,  17,  19,  16,  92,\n         123,  83,  88,  88,   3,  58,  92, 105,  52,  45, 108,  38,  83,\n          92, 131,  51,  31,  74, 112, 107,  64, 123, 116,  24,  24,  16,\n         105,  92,  86,  86,  63, 116, 107,  83,  61,  59,  93, 128,  32,\n          83, 112,  79,  77,  24,  88,  83,  88,  84,  39,  24], dtype=int32)>,\n  'department_id': <tf.Tensor: shape=(128,), dtype=int32, numpy=\n  array([ 2, 12,  7,  4, 13,  4, 19, 16,  4, 16, 19, 15,  4,  3, 12, 17,  4,\n         16, 19,  1, 19, 19, 19, 20, 11, 11, 13,  4,  4, 16,  6, 19,  7,  7,\n          4, 16, 15,  1,  4,  4,  3, 19,  1,  7,  1, 17,  3, 16, 16, 12,  4,\n         15,  1, 14,  4, 15,  4, 16, 16, 19,  4, 16,  4,  3, 15,  4, 15,  3,\n         16, 16,  4, 19, 13, 17, 13, 13,  4, 18,  4,  4, 13, 13, 19,  1, 18,\n         13,  1, 19, 16,  1,  4, 18,  9, 13,  7, 17,  3, 19,  7,  4,  1,  4,\n          4,  4, 13, 18, 16, 16,  9,  1, 19,  4, 19, 15,  3,  3,  4,  4,  3,\n          1,  7,  4, 13,  4, 13, 16, 12,  4], dtype=int32)>,\n  'user_id': <tf.Tensor: shape=(128,), dtype=int32, numpy=\n  array([163753,  92169, 125983, 179248,  40849,  90971, 181809, 156126,\n         165860,   8747,  61238, 162341, 205752, 161266,  63968,  26041,\n         131086,  62619,  13684,  19528, 109908,  85024, 105479, 136381,\n         104141, 177996,  96994,  87836,   3854,  19627, 185704,  32687,\n         162655,  55987,  12137, 188768,  46257,   1130,  89562, 103268,\n          89512, 110932,  80622, 116333, 140182,  67080, 143977, 158292,\n         129873, 154829, 138599,  31552,  99103,  91875, 100584,  42265,\n          61556,  25660, 136652,  87543, 182314, 102508, 129483, 145453,\n           8871, 190983,  95459, 105523,  46033,   5478,  84716,  87724,\n         190931,  36502, 102844,  19909, 173604,  17983, 101394,  11358,\n          46730, 154145,  58038,  11680,  89949,  71690,  17551, 167979,\n          74533, 152506,  88286, 166282,   3439,  12297,  96056, 190331,\n         102349,  39863, 165484,   3363, 188820,  10191, 138786,  10757,\n         152534, 168257,  28517,  12110, 117027, 187642,  29828, 133833,\n         139066,  28131, 149989,  63556, 188279, 125106, 177824,  17747,\n          55616, 138103,  43114, 172659, 190325,  65701, 163111, 169818],\n        dtype=int32)>,\n  'product_id': <tf.Tensor: shape=(128,), dtype=int32, numpy=\n  array([32115, 12456, 19849, 45066, 15359, 16349, 21343,  5746, 26940,\n          1511, 12481, 15976, 22825,  3318, 33231, 23229, 31717, 27845,\n         36809,  5484, 35140,  8324, 39657,  2825, 21609, 48831, 24768,\n          8518, 47759, 30570, 33602, 31956,  3044, 22802, 20114, 16185,\n         22007, 38563, 48364, 47626, 20738, 25740, 16328,  3042, 29142,\n         44643, 36117, 33120, 17600, 20123, 21292,   890, 21463, 26863,\n            45, 10309, 21405, 17902,  4799, 20890,  4168,  6948, 46667,\n         14764, 28849, 26369, 20378, 44310, 26915, 13210, 47766, 37291,\n         31506, 48933, 19565, 12409, 28842, 34134, 40706,  9000,  1360,\n         43713, 32333, 18473, 14211, 17908,  6669, 46755, 35223, 22559,\n         44683, 23060, 20549, 13829, 38200, 30073,  2855, 20118, 49030,\n         23854, 40545, 21137, 24852, 43789,  7559, 34745,  6774, 11520,\n          8526, 44722,  6772, 27521,  7893, 22819, 35425, 26315, 30827,\n          4605,  7090,  9741, 12916, 21137, 17200, 18234, 36005, 22089,\n         10017, 47630], dtype=int32)>,\n  'product_shr_distinct_users_last_30_days': <tf.Tensor: shape=(128,), dtype=float32, numpy=\n  array([7.0317008e-04, 7.5457422e-03, 3.2491307e-04, 3.8170014e-02,\n         3.4770549e-03, 9.0684695e-03, 6.3042833e-05, 2.6041539e-03,\n         9.5873605e-03, 5.8387364e-03, 2.9969595e-03, 9.1654586e-04,\n         2.5086200e-02, 2.0949619e-03, 6.3042837e-04, 1.8427905e-04,\n         4.7422759e-02, 5.2674714e-02, 5.2374048e-04, 5.7708443e-04,\n         6.6243471e-03, 1.2511578e-03, 2.8563254e-03, 6.0375640e-03,\n         4.3645039e-05, 4.3645039e-05, 6.8377226e-04, 4.8848499e-02,\n         5.9017790e-03, 1.4063402e-04, 1.6488126e-04, 1.5033291e-04,\n         7.2256790e-04, 3.2200341e-03, 2.3742901e-02, 1.6769394e-02,\n         1.7070060e-03, 1.7409521e-03, 1.3903370e-02, 9.3123965e-02,\n         5.2325553e-03, 5.7708443e-04, 1.6488126e-04, 4.4129984e-04,\n         9.6504035e-04, 1.3966413e-03, 1.0135348e-03, 9.9510690e-03,\n         9.0587707e-03, 1.9882740e-04, 6.0375640e-03, 1.2235159e-02,\n         3.0212067e-03, 4.8494487e-04, 6.8474216e-03, 1.6488126e-04,\n         1.4063402e-02, 3.1036474e-03, 1.8132089e-02, 9.2139526e-05,\n         3.9280535e-04, 3.6128394e-03, 2.8791178e-02, 1.9446290e-03,\n         1.5183625e-02, 1.5896494e-02, 3.4576571e-03, 2.5217135e-03,\n         1.7845972e-03, 9.2139526e-05, 7.9065412e-02, 1.7942961e-04,\n         3.0629119e-02, 9.7958872e-04, 2.8611749e-04, 6.1006066e-03,\n         2.4562458e-02, 3.8407636e-03, 4.7636136e-02, 2.1628542e-03,\n         3.5206999e-03, 1.0877314e-02, 9.2139526e-05, 1.9397796e-04,\n         2.0173707e-03, 6.7892281e-05, 4.7524599e-04, 9.4079308e-04,\n         7.2741735e-04, 2.7059924e-03, 1.4630787e-02, 7.4681512e-04,\n         3.0163571e-03, 7.1238405e-03, 4.3499558e-03, 4.6554708e-04,\n         5.4798773e-03, 1.7118554e-03, 1.0135348e-03, 1.9979728e-03,\n         8.0597838e-03, 1.1802103e-01, 1.8650010e-01, 1.7191296e-02,\n         6.1394023e-03, 1.3384479e-03, 1.9543278e-03, 2.1274531e-02,\n         7.2741735e-05, 2.4247245e-05, 1.4063402e-04, 2.2423852e-02,\n         5.0434266e-04, 1.0911260e-03, 8.4380410e-04, 2.3131871e-03,\n         6.9007659e-03, 4.6370432e-02, 1.1250721e-03, 3.5400977e-03,\n         7.8367097e-03, 1.1802103e-01, 1.4451358e-03, 6.0521122e-03,\n         1.1299216e-03, 2.7496375e-03, 7.3566139e-03, 9.6213063e-03],\n        dtype=float32)>,\n  'product_shr_distinct_orders_last_30_days': <tf.Tensor: shape=(128,), dtype=float32, numpy=\n  array([4.01313475e-04, 4.52752551e-03, 1.95113738e-04, 2.58614384e-02,\n         1.73828600e-03, 5.00200642e-03, 3.10408213e-05, 1.48330780e-03,\n         5.46096731e-03, 4.11512610e-03, 1.57864741e-03, 4.90001519e-04,\n         1.68285593e-02, 1.19285437e-03, 3.37014615e-04, 8.42536538e-05,\n         2.83668768e-02, 4.10448350e-02, 2.59412569e-04, 3.25928617e-04,\n         3.84019292e-03, 7.58282898e-04, 2.08860380e-03, 3.56969447e-03,\n         1.99548140e-05, 2.88236188e-05, 3.56969453e-04, 2.82848403e-02,\n         3.48987523e-03, 7.76020534e-05, 7.76020534e-05, 1.08642875e-04,\n         4.61177900e-04, 2.16177152e-03, 1.29728457e-02, 9.26346797e-03,\n         8.35884945e-04, 9.33441857e-04, 7.36554340e-03, 5.72703145e-02,\n         3.40118702e-03, 2.92670593e-04, 8.42536538e-05, 2.37240558e-04,\n         5.12173516e-04, 6.80680852e-04, 6.62943232e-04, 6.39662612e-03,\n         5.61395427e-03, 9.97740644e-05, 3.43887950e-03, 6.37667160e-03,\n         1.88905571e-03, 2.79367378e-04, 4.06856462e-03, 8.42536538e-05,\n         8.08391627e-03, 1.98217807e-03, 1.00550083e-02, 5.76472376e-05,\n         2.54978164e-04, 2.67837942e-03, 1.58374701e-02, 1.19507161e-03,\n         8.48966464e-03, 1.02301678e-02, 1.81588798e-03, 1.58973353e-03,\n         1.15294475e-03, 4.65612320e-05, 5.47892675e-02, 1.04208470e-04,\n         1.57509986e-02, 4.72263928e-04, 1.37466486e-04, 3.05086933e-03,\n         1.34140691e-02, 2.40122923e-03, 2.91096382e-02, 1.11525238e-03,\n         1.85358047e-03, 5.82015375e-03, 5.09956335e-05, 9.97740644e-05,\n         1.23276399e-03, 3.32580239e-05, 3.05973808e-04, 6.00861618e-04,\n         3.61403858e-04, 1.54095504e-03, 8.17703921e-03, 4.32354282e-04,\n         1.48995942e-03, 3.74263618e-03, 2.64068693e-03, 2.19502952e-04,\n         3.63177597e-03, 9.62265476e-04, 5.56517567e-04, 1.15516200e-03,\n         4.65390598e-03, 8.53046104e-02, 1.40517369e-01, 9.38097946e-03,\n         3.39010102e-03, 7.73803331e-04, 1.29041122e-03, 1.49705447e-02,\n         5.32128361e-05, 1.33032090e-05, 7.53848508e-05, 1.45071493e-02,\n         2.94887810e-04, 5.52083191e-04, 5.05521952e-04, 1.41014019e-03,\n         4.18164209e-03, 2.59922538e-02, 7.60500086e-04, 1.94892008e-03,\n         4.42996854e-03, 8.53046104e-02, 7.31676468e-04, 3.49874399e-03,\n         5.32128382e-04, 1.76267524e-03, 4.31910856e-03, 6.64717006e-03],\n        dtype=float32)>,\n  'product_shr_reordered_last_30_days': <tf.Tensor: shape=(128,), dtype=float32, numpy=\n  array([0.6519337 , 0.6718903 , 0.5       , 0.78429353, 0.3405612 ,\n         0.58643615, 0.42857143, 0.6173393 , 0.6090134 , 0.82327586,\n         0.5196629 , 0.5022625 , 0.76086956, 0.7026022 , 0.53289473,\n         0.31578946, 0.7028295 , 0.8688418 , 0.2991453 , 0.53061223,\n         0.65415704, 0.6403509 , 0.82802546, 0.6819876 , 0.33333334,\n         0.46153846, 0.5590062 , 0.6753155 , 0.6219822 , 0.54285717,\n         0.22857143, 0.5714286 , 0.72596157, 0.73538464, 0.6549308 ,\n         0.67137384, 0.28912467, 0.49168646, 0.5719446 , 0.757801  ,\n         0.7138201 , 0.50757575, 0.34210527, 0.45794392, 0.4848485 ,\n         0.26384366, 0.7993311 , 0.7656846 , 0.7531596 , 0.2888889 ,\n         0.7298517 , 0.5538943 , 0.57042253, 0.6111111 , 0.70463216,\n         0.15789473, 0.6705979 , 0.76957494, 0.70694596, 0.6923077 ,\n         0.5217391 , 0.8360927 , 0.6526669 , 0.6864564 , 0.6403761 ,\n         0.7039445 , 0.51892555, 0.7294282 , 0.775     , 0.2857143 ,\n         0.8388572 , 0.5106383 , 0.5532095 , 0.53521127, 0.5322581 ,\n         0.36700583, 0.62132233, 0.67497694, 0.72000915, 0.2942346 ,\n         0.5215311 , 0.6026667 , 0.5652174 , 0.2888889 , 0.65467626,\n         0.2       , 0.67391306, 0.6678967 , 0.34969324, 0.6115108 ,\n         0.5919197 , 0.5846154 , 0.41964287, 0.5687204 , 0.70528966,\n         0.21212122, 0.7655678 , 0.5714286 , 0.50199205, 0.46257198,\n         0.6241067 , 0.81987834, 0.88856983, 0.55022454, 0.6540222 ,\n         0.56160456, 0.83676976, 0.8203495 , 0.5833333 , 0.33333334,\n         0.7352941 , 0.76937187, 0.5714286 , 0.47791165, 0.5701754 ,\n         0.6839623 , 0.7433722 , 0.6828457 , 0.71428573, 0.59158134,\n         0.5545546 , 0.81987834, 0.45757577, 0.61343473, 0.4       ,\n         0.75849056, 0.674538  , 0.6234156 ], dtype=float32)>,\n  'product_shr_distinct_users_last_180_days': <tf.Tensor: shape=(128,), dtype=float32, numpy=\n  array([1.99312344e-03, 1.96451172e-02, 1.04263145e-03, 9.18049142e-02,\n         1.52127212e-02, 3.12692448e-02, 2.90966942e-04, 9.03937314e-03,\n         2.89269630e-02, 1.18084084e-02, 1.05184549e-02, 2.12890795e-03,\n         6.33532032e-02, 5.62536065e-03, 2.07071472e-03, 9.31094168e-04,\n         1.14039637e-01, 1.01722039e-01, 2.04646750e-03, 1.88643555e-03,\n         2.01252121e-02, 3.75347352e-03, 5.32954419e-03, 1.65317710e-02,\n         1.11537323e-04, 1.11537323e-04, 2.60415394e-03, 1.13287978e-01,\n         2.03094911e-02, 8.00159061e-04, 7.85610697e-04, 4.89794358e-04,\n         2.02222029e-03, 6.83287345e-03, 7.22907335e-02, 4.80143949e-02,\n         7.24507682e-03, 6.49826135e-03, 3.79129909e-02, 2.10310891e-01,\n         1.36366505e-02, 1.32874900e-03, 6.54675590e-04, 2.50716507e-03,\n         4.10748320e-03, 1.29043832e-02, 2.77388468e-03, 2.41890512e-02,\n         2.40096208e-02, 8.09857971e-04, 1.48878079e-02, 4.73936647e-02,\n         8.52533150e-03, 1.48878084e-03, 2.24917438e-02, 8.53503007e-04,\n         4.09632958e-02, 8.45258962e-03, 5.37512898e-02, 3.49160313e-04,\n         1.62941485e-03, 7.81246228e-03, 9.24692899e-02, 5.21315774e-03,\n         4.87127155e-02, 4.34704609e-02, 1.30304694e-02, 6.64374512e-03,\n         4.69426671e-03, 4.12203139e-04, 1.71568647e-01, 6.54675590e-04,\n         1.05330028e-01, 3.35096917e-03, 1.12022273e-03, 2.21910775e-02,\n         7.84883276e-02, 1.10809905e-02, 1.20276034e-01, 6.56615384e-03,\n         1.10470448e-02, 3.16814482e-02, 3.83106468e-04, 6.54675590e-04,\n         6.26548799e-03, 1.93977961e-04, 1.33844791e-03, 2.38107936e-03,\n         2.98726046e-03, 7.73002161e-03, 4.40184474e-02, 2.22104765e-03,\n         1.18181072e-02, 2.44509205e-02, 1.13477102e-02, 2.08526291e-03,\n         1.44659057e-02, 5.53807057e-03, 2.73023965e-03, 4.53423476e-03,\n         2.39708256e-02, 2.44669244e-01, 3.35552752e-01, 5.19763939e-02,\n         2.06392538e-02, 4.65062167e-03, 4.35480522e-03, 4.13997434e-02,\n         2.32773542e-04, 1.69730716e-04, 5.09192119e-04, 5.57541139e-02,\n         1.28510396e-03, 3.97169869e-03, 2.94846483e-03, 6.62919646e-03,\n         1.57704074e-02, 1.27113760e-01, 3.74377449e-03, 1.17162680e-02,\n         2.47127917e-02, 2.44669244e-01, 5.59626380e-03, 1.99506320e-02,\n         4.40329965e-03, 6.13455288e-03, 2.20552925e-02, 1.86849274e-02],\n        dtype=float32)>,\n  'product_shr_distinct_orders_last_180_days': <tf.Tensor: shape=(128,), dtype=float32, numpy=\n  array([4.0361538e-04, 4.0013823e-03, 1.6637580e-04, 2.4527226e-02,\n         1.8046052e-03, 5.2219112e-03, 4.4895060e-05, 1.5281925e-03,\n         4.8337011e-03, 3.9908187e-03, 1.5876124e-03, 3.9349197e-04,\n         1.6072871e-02, 1.2663048e-03, 3.1998733e-04, 1.0255440e-04,\n         2.3601595e-02, 4.0869907e-02, 2.2623588e-04, 2.9225802e-04,\n         3.8182808e-03, 7.6101522e-04, 1.8072461e-03, 3.3680096e-03,\n         1.3644576e-05, 1.5405167e-05, 4.0009420e-04, 2.2492424e-02,\n         3.9217155e-03, 1.1355809e-04, 8.3187901e-05, 7.2184208e-05,\n         5.1673333e-04, 1.9067195e-03, 1.2964549e-02, 9.2567448e-03,\n         7.8918471e-04, 9.8593067e-04, 6.1699892e-03, 5.1935658e-02,\n         3.2236413e-03, 2.3988045e-04, 8.9349967e-05, 3.8953064e-04,\n         5.7175179e-04, 1.4912202e-03, 7.0335588e-04, 6.1616264e-03,\n         5.7373242e-03, 9.2871152e-05, 3.4027812e-03, 7.1625225e-03,\n         1.6082994e-03, 2.6672945e-04, 4.5269183e-03, 9.6392330e-05,\n         7.9200165e-03, 2.0964232e-03, 1.0641890e-02, 7.1303919e-05,\n         2.3503884e-04, 2.8596392e-03, 1.5956232e-02, 1.1866380e-03,\n         8.6110486e-03, 9.5538441e-03, 1.8855925e-03, 1.6818041e-03,\n         1.2693858e-03, 5.3257863e-05, 5.3556722e-02, 8.9790119e-05,\n         1.5083419e-02, 4.8328209e-04, 1.4436842e-04, 2.7139504e-03,\n         1.3521776e-02, 2.3420255e-03, 2.5958586e-02, 7.9666718e-04,\n         1.6734413e-03, 5.5322153e-03, 7.1303919e-05, 8.3187901e-05,\n         1.3164815e-03, 2.0246791e-05, 2.9665951e-04, 5.3521950e-04,\n         4.0361538e-04, 1.3715000e-03, 7.6123532e-03, 4.1241833e-04,\n         1.4894595e-03, 4.0009418e-03, 2.5295285e-03, 2.2095411e-04,\n         3.7201277e-03, 9.4675756e-04, 4.5467250e-04, 7.5529335e-04,\n         4.3763877e-03, 6.7115031e-02, 1.4149778e-01, 8.1475731e-03,\n         3.7773468e-03, 8.3496002e-04, 1.4185958e-03, 1.3810952e-02,\n         4.0053434e-05, 2.0246791e-05, 1.1267779e-04, 1.3725564e-02,\n         2.1523218e-04, 6.0124166e-04, 4.9428578e-04, 1.3288057e-03,\n         4.0550800e-03, 2.3993768e-02, 8.0987165e-04, 2.0581302e-03,\n         4.1725994e-03, 6.7115031e-02, 7.6321600e-04, 3.6875568e-03,\n         5.4534292e-04, 1.6840048e-03, 4.2923195e-03, 3.8424889e-03],\n        dtype=float32)>,\n  'product_shr_reordered_last_180_days': <tf.Tensor: shape=(128,), dtype=float32, numpy=\n  array([0.648855  , 0.6400836 , 0.48677248, 0.74618214, 0.3090244 ,\n         0.56245786, 0.49019608, 0.5642281 , 0.5870515 , 0.804566  ,\n         0.48294982, 0.5671141 , 0.72210205, 0.6809176 , 0.45254472,\n         0.2360515 , 0.64798033, 0.84109634, 0.25680932, 0.5       ,\n         0.62351584, 0.63678426, 0.7951778 , 0.6762938 , 0.4516129 ,\n         0.37142858, 0.50825083, 0.6288012 , 0.5949495 , 0.4496124 ,\n         0.1957672 , 0.44512194, 0.71805793, 0.738458  , 0.60668814,\n         0.6346821 , 0.24037926, 0.49642858, 0.5501498 , 0.7125411 ,\n         0.6859639 , 0.5614679 , 0.39901477, 0.48926553, 0.42494226,\n         0.3692444 , 0.7546934 , 0.72369456, 0.72197926, 0.26540285,\n         0.70650625, 0.5007681 , 0.56759715, 0.59240925, 0.6740885 ,\n         0.25570777, 0.6446037 , 0.717405  , 0.6677558 , 0.66049385,\n         0.41947564, 0.83146065, 0.61356616, 0.68026704, 0.6008485 ,\n         0.66589886, 0.4570495 , 0.7406438 , 0.74861306, 0.3966942 ,\n         0.7895364 , 0.4117647 , 0.5176982 , 0.4981785 , 0.4359756 ,\n         0.36133635, 0.588848  , 0.65626764, 0.684182  , 0.27403316,\n         0.49079433, 0.59551275, 0.5740741 , 0.3227513 , 0.6469408 ,\n         0.13043478, 0.64688426, 0.67023027, 0.40567067, 0.580552  ,\n         0.5485979 , 0.59445035, 0.393026  , 0.5680968 , 0.6730468 ,\n         0.22908367, 0.7438476 , 0.56624824, 0.5082285 , 0.51981354,\n         0.5841295 , 0.78276265, 0.85723126, 0.52579546, 0.604055  ,\n         0.5645757 , 0.79739374, 0.7873032 , 0.53846157, 0.2826087 ,\n         0.69140625, 0.71924704, 0.54805726, 0.47877014, 0.5289403 ,\n         0.6402782 , 0.74308044, 0.61566967, 0.6728261 , 0.57827204,\n         0.5285865 , 0.78276265, 0.4469435 , 0.59584624, 0.37449557,\n         0.74621016, 0.6390484 , 0.5923253 ], dtype=float32)>,\n  'product_shr_distinct_users_last_360_days': <tf.Tensor: shape=(128,), dtype=float32, numpy=\n  array([2.32773554e-03, 2.28312053e-02, 1.27055566e-03, 1.06309615e-01,\n         1.79526601e-02, 4.25442159e-02, 3.68558103e-04, 1.08918622e-02,\n         4.19962257e-02, 1.34281237e-02, 1.27928462e-02, 2.37622997e-03,\n         7.32945725e-02, 6.38672430e-03, 2.40047718e-03, 1.17356668e-03,\n         1.27787828e-01, 1.13370419e-01, 2.75448686e-03, 2.71569146e-03,\n         2.45091151e-02, 4.71366430e-03, 5.68840373e-03, 2.25353893e-02,\n         1.30935121e-04, 1.74580156e-04, 3.46250646e-03, 1.24368966e-01,\n         2.29815375e-02, 1.42573798e-03, 1.03293266e-03, 5.62536065e-04,\n         2.34713336e-03, 7.83186033e-03, 8.63832310e-02, 5.63360490e-02,\n         9.24789906e-03, 8.43804143e-03, 4.43918556e-02, 2.24985331e-01,\n         1.61632132e-02, 1.59546873e-03, 8.14707426e-04, 3.06970114e-03,\n         5.51867299e-03, 1.79914553e-02, 3.58859217e-03, 2.73993853e-02,\n         2.86456943e-02, 8.97148042e-04, 1.75841022e-02, 5.58462515e-02,\n         1.04505625e-02, 1.83794112e-03, 3.07406560e-02, 1.00383593e-03,\n         5.07931262e-02, 9.93167143e-03, 6.29603937e-02, 4.75245994e-04,\n         1.94947841e-03, 9.29639302e-03, 1.07754752e-01, 6.50796015e-03,\n         5.67821972e-02, 5.09143621e-02, 1.49847968e-02, 8.30710586e-03,\n         5.92602650e-03, 4.89794358e-04, 2.06557423e-01, 8.09857971e-04,\n         1.27448365e-01, 3.89410742e-03, 1.46938302e-03, 2.92033814e-02,\n         9.52674225e-02, 1.38306282e-02, 1.40614614e-01, 7.70092476e-03,\n         1.30353188e-02, 3.77432592e-02, 4.60697629e-04, 7.95309606e-04,\n         7.89005309e-03, 2.71569123e-04, 1.53242587e-03, 3.04060453e-03,\n         3.79226892e-03, 9.38853342e-03, 4.98911291e-02, 2.93876603e-03,\n         1.58964936e-02, 3.27677242e-02, 1.34087261e-02, 2.63810018e-03,\n         1.72252432e-02, 6.95895916e-03, 3.22488346e-03, 5.58171561e-03,\n         2.94507034e-02, 2.85162151e-01, 3.58519763e-01, 6.29555434e-02,\n         2.38447394e-02, 6.00846717e-03, 4.91734128e-03, 4.39069085e-02,\n         2.47321877e-04, 1.84279052e-04, 6.59525045e-04, 6.35956749e-02,\n         1.64396316e-03, 4.72336309e-03, 3.74862389e-03, 7.95309618e-03,\n         1.80787463e-02, 1.44823939e-01, 4.79610497e-03, 1.48490127e-02,\n         2.90821455e-02, 2.85162151e-01, 6.96380856e-03, 2.41211578e-02,\n         5.42168366e-03, 7.00745359e-03, 2.74575800e-02, 2.03046426e-02],\n        dtype=float32)>,\n  'product_shr_distinct_orders_last_360_days': <tf.Tensor: shape=(128,), dtype=float32, numpy=\n  array([4.0488507e-04, 3.8601330e-03, 1.7717620e-04, 2.4785331e-02,\n         1.6407515e-03, 6.2922509e-03, 4.5853703e-05, 1.5331357e-03,\n         5.9675318e-03, 4.1645765e-03, 1.5293926e-03, 3.5341663e-04,\n         1.5199723e-02, 1.2377381e-03, 2.6763589e-04, 9.7634074e-05,\n         2.1587424e-02, 4.2834844e-02, 2.3051623e-04, 3.2378329e-04,\n         3.9789784e-03, 8.3846768e-04, 1.5624571e-03, 4.1411822e-03,\n         1.3101057e-05, 1.6220358e-05, 4.2391280e-04, 2.0842846e-02,\n         3.4939274e-03, 1.8372673e-04, 7.9542137e-05, 6.4569496e-05,\n         5.1905145e-04, 1.8450656e-03, 1.3237059e-02, 9.3791094e-03,\n         7.5830170e-04, 1.0680482e-03, 6.0617346e-03, 4.7527518e-02,\n         3.1916671e-03, 2.2365377e-04, 8.3909159e-05, 4.0145384e-04,\n         5.9672201e-04, 1.7209175e-03, 8.1101788e-04, 6.0321013e-03,\n         6.0929279e-03, 7.7358629e-05, 3.5606804e-03, 6.8409359e-03,\n         1.4985115e-03, 2.7512221e-04, 5.7211071e-03, 8.4221087e-05,\n         8.4629711e-03, 2.1039676e-03, 1.1297167e-02, 8.7028457e-05,\n         2.0712148e-04, 3.1270976e-03, 1.6190412e-02, 1.2446005e-03,\n         8.6819464e-03, 9.1158412e-03, 1.7022017e-03, 1.8659650e-03,\n         1.3759230e-03, 5.1780371e-05, 5.4781761e-02, 8.9523892e-05,\n         1.5619269e-02, 4.7444546e-04, 1.5035023e-04, 2.8292045e-03,\n         1.4173785e-02, 2.4951277e-03, 2.6166556e-02, 6.7408063e-04,\n         1.5977052e-03, 5.6069409e-03, 6.8312656e-05, 7.4863186e-05,\n         1.3868406e-03, 1.9651587e-05, 2.6482853e-04, 5.5835460e-04,\n         3.9646297e-04, 1.3827855e-03, 6.9342027e-03, 4.5073876e-04,\n         1.6164210e-03, 4.5551131e-03, 2.5253848e-03, 2.1585553e-04,\n         3.9499691e-03, 9.6916634e-04, 4.2796790e-04, 7.0059468e-04,\n         4.4250381e-03, 8.2155488e-02, 1.4687315e-01, 8.2889143e-03,\n         3.7624990e-03, 8.6466980e-04, 1.3762349e-03, 1.2572649e-02,\n         3.8367383e-05, 1.5908427e-05, 1.4192813e-04, 1.3374620e-02,\n         2.2490149e-04, 5.6584092e-04, 5.0033565e-04, 1.3257023e-03,\n         4.2185406e-03, 2.2716299e-02, 8.4158703e-04, 2.1788308e-03,\n         3.9025557e-03, 8.2155488e-02, 7.7140279e-04, 3.6876358e-03,\n         5.4307003e-04, 1.6663298e-03, 4.5669666e-03, 3.1021433e-03],\n        dtype=float32)>,\n  'product_shr_reordered_last_360_days': <tf.Tensor: shape=(128,), dtype=float32, numpy=\n  array([0.6363636 , 0.62060606, 0.54049295, 0.727529  , 0.29771864,\n         0.56712276, 0.48979592, 0.5448627 , 0.5537086 , 0.79582053,\n         0.46359372, 0.56840247, 0.69321537, 0.6698589 , 0.42424244,\n         0.22683705, 0.622735  , 0.8337266 , 0.23545332, 0.46146435,\n         0.607714  , 0.6421131 , 0.7678179 , 0.6542633 , 0.35714287,\n         0.30769232, 0.47976452, 0.6184468 , 0.5787876 , 0.5059423 ,\n         0.16862746, 0.43961352, 0.71153843, 0.7298394 , 0.58294845,\n         0.61660236, 0.21596052, 0.49386683, 0.5319817 , 0.69733405,\n         0.67797107, 0.54393303, 0.37546468, 0.5081585 , 0.40825927,\n         0.33061448, 0.7196154 , 0.71056986, 0.7009676 , 0.25403225,\n         0.6852387 , 0.47726962, 0.55245626, 0.57256234, 0.65787035,\n         0.23333333, 0.61682206, 0.69814676, 0.6452218 , 0.65232974,\n         0.39608434, 0.81197006, 0.5749653 , 0.66741854, 0.58218664,\n         0.64296466, 0.43558732, 0.7163156 , 0.7265926 , 0.39759037,\n         0.76300806, 0.4216028 , 0.4783616 , 0.4746877 , 0.37759337,\n         0.338699  , 0.56948876, 0.6475809 , 0.6582863 , 0.26515502,\n         0.47774306, 0.56990266, 0.5707763 , 0.31666666, 0.6367521 ,\n         0.11111111, 0.6277974 , 0.6558659 , 0.3855232 , 0.56530565,\n         0.5388664 , 0.5847751 , 0.3689695 , 0.540163  , 0.6609437 ,\n         0.21387284, 0.72265655, 0.54135823, 0.5153061 , 0.4875334 ,\n         0.5742281 , 0.78127635, 0.8463788 , 0.5142814 , 0.59542364,\n         0.5559163 , 0.77175885, 0.7770059 , 0.5934959 , 0.25490198,\n         0.7098901 , 0.6979966 , 0.53120667, 0.4641676 , 0.51995015,\n         0.6164706 , 0.7275214 , 0.5940542 , 0.63565606, 0.5646385 ,\n         0.5222604 , 0.78127635, 0.42296806, 0.58052784, 0.35956347,\n         0.7315612 , 0.6171027 , 0.5800905 ], dtype=float32)>,\n  'user_cnt_distinct_order_id_last_30_days': <tf.Tensor: shape=(128,), dtype=int64, numpy=\n  array([ 7,  1, 10,  2,  1,  1,  4,  1,  4,  7,  2,  1,  2,  4,  1,  6, 11,\n          3,  1,  6,  1,  1,  4,  4, 12,  5,  6,  1,  1,  4,  1,  1,  4,  2,\n          4,  2,  3,  2,  3,  1,  6,  1,  1,  7,  5,  3,  5,  1,  1,  1,  1,\n          6,  1,  1,  7,  4,  4,  2,  2,  2,  1,  3,  1,  3,  3, 10,  1,  2,\n          3,  2,  3,  1,  3,  5,  1,  1,  3,  3,  1,  1,  1,  1,  3,  6,  3,\n          1,  2,  4,  4,  1,  5,  1,  7,  1,  1,  2,  1, 10,  2,  3,  2,  1,\n          1,  5,  2,  2,  1,  3,  4,  1,  2,  4,  3,  1,  2,  1,  1,  1,  2,\n          6,  1,  1,  1,  1,  2,  1,  3,  3])>,\n  'user_cnt_distinct_order_id_last_180_days': <tf.Tensor: shape=(128,), dtype=int64, numpy=\n  array([45,  4, 30,  4,  7,  4, 25,  8, 30, 43, 12,  7, 17, 21,  3, 16, 43,\n         10, 10, 46,  7,  8, 25,  7, 49, 28, 12,  6,  9, 30,  8,  5, 12, 11,\n         23,  5, 25, 28, 11,  8, 27,  7,  7, 28, 33, 33, 22,  9,  3,  4, 10,\n         63,  7,  5, 31, 18, 20,  8, 13, 13, 11, 10,  3, 12, 18, 63,  4, 19,\n         18,  9, 12, 14, 31, 25,  8,  4, 15, 19, 10,  7,  3,  7, 26, 26, 15,\n          9, 24, 19, 27,  8, 19,  4, 37,  6,  3, 14,  6, 54, 22, 15, 15, 10,\n         12, 28, 15, 15,  9,  9, 25,  4, 11, 16, 11,  5,  4, 11,  5,  4,  8,\n         61,  4,  8,  9,  8, 14,  4, 27, 18])>,\n  'user_cnt_distinct_order_id_last_360_days': <tf.Tensor: shape=(128,), dtype=int64, numpy=\n  array([78,  4, 30,  4, 11,  4, 53, 10, 47, 80, 12,  7, 35, 21,  3, 16, 51,\n         10, 13, 97,  7, 18, 72,  7, 92, 40, 12,  6, 18, 53, 11,  5, 18, 15,\n         23,  5, 38, 49, 11,  9, 36,  7,  8, 50, 51, 84, 54, 18,  3,  4, 11,\n         99,  7,  5, 35, 31, 41,  9, 27, 28, 15, 14,  3, 12, 32, 99,  4, 21,\n         27,  9, 30, 28, 55, 50, 18,  4, 38, 33, 26, 15,  3,  7, 57, 53, 15,\n         33, 54, 22, 49, 14, 28,  4, 63,  6,  3, 26,  6, 99, 38, 20, 15, 16,\n         16, 46, 30, 15,  9,  9, 26,  4, 29, 18, 28,  5,  4, 19,  5,  4,  8,\n         91,  4,  8, 12, 14, 29,  4, 54, 41])>,\n  'user_cnt_distinct_product_id_last_30_days': <tf.Tensor: shape=(128,), dtype=int64, numpy=\n  array([85, 24, 75, 23, 10,  7, 49, 17, 25, 64,  4, 16, 31, 31, 14, 54, 60,\n         39, 15, 45, 36,  6, 17, 33, 67, 74, 52, 20, 14, 81, 23,  4, 28, 33,\n         34, 26, 39, 11, 46, 14, 33, 15, 16, 23, 55, 37, 43, 10, 12,  4, 21,\n         62, 17,  8, 55, 37, 47, 36, 23, 33,  9, 32, 17, 28, 60, 59,  9,  7,\n         33, 27, 19,  3, 17, 34,  2, 42, 54, 48,  3, 15, 11,  1, 34, 53, 26,\n          5, 14, 35, 35,  5, 33, 27, 48, 17, 23, 23, 12, 40, 41, 80,  8, 14,\n         10, 61, 20, 39,  8, 11, 36, 11,  8, 25, 20, 22, 19,  9, 19, 10, 23,\n         34, 13, 19, 11, 21, 32, 14, 41, 38])>,\n  'user_cnt_distinct_product_id_last_180_days': <tf.Tensor: shape=(128,), dtype=int64, numpy=\n  array([312,  43, 161,  47,  51,  35, 116, 100,  52, 178,  33,  46,  81,\n          53,  34, 112, 124,  88,  81, 141,  68,  64,  26,  50, 156, 188,\n          85,  61, 115, 223,  58,  33,  82, 111, 129,  65, 118,  37,  67,\n          66, 132,  91,  38,  62, 112, 132,  95,  44,  58,  16, 111, 262,\n          97,  49, 132,  89, 155, 101, 125,  78,  33,  55,  51,  56, 150,\n         177,  42, 126, 162, 110,  46,  17, 150,  89,  10, 106, 152, 127,\n          34,  57,  13,  34, 173, 112, 109,  40,  49, 101,  96,  18,  87,\n          61, 157,  52,  46,  95,  48, 106, 163, 221,  33,  38,  57, 131,\n          59, 106,  59,  30, 136,  46,  24,  95,  53,  61,  22,  80,  38,\n          24,  76, 163,  51,  54,  41,  58, 123,  56,  81, 102])>,\n  'user_cnt_distinct_product_id_last_360_days': <tf.Tensor: shape=(128,), dtype=int64, numpy=\n  array([379,  43, 161,  47,  74,  35, 246, 113,  77, 242,  33,  46, 135,\n          53,  34, 112, 124,  88,  91, 216,  68,  98,  48,  50, 289, 254,\n          85,  61, 168, 270,  74,  33, 110, 133, 129,  65, 145,  53,  67,\n          74, 133,  91,  45,  85, 125, 208, 166,  78,  58,  16, 118, 356,\n          97,  49, 149, 128, 217, 105, 215, 123,  61,  79,  51,  56, 220,\n         233,  42, 142, 237, 110, 119,  32, 226, 160,  20, 106, 222, 205,\n         106,  86,  13,  34, 279, 143, 109, 113,  80, 109, 121,  42, 108,\n          61, 186,  52,  46, 142,  48, 170, 262, 260,  33,  49,  64, 196,\n         114, 106,  59,  30, 145,  46,  52, 103, 101,  61,  22, 118,  38,\n          24,  76, 223,  51,  54,  55,  75, 179,  56, 142, 168])>,\n  'user_cnt_distinct_department_id_last_30_days': <tf.Tensor: shape=(128,), dtype=int64, numpy=\n  array([16,  6, 11,  9,  6,  4, 12,  7, 11, 13,  3,  8, 12,  6,  9, 10, 11,\n         13,  6, 12, 10,  4,  5,  8, 14, 14, 14,  7,  7, 15, 11,  3, 10,  9,\n         10,  9, 10,  3,  7,  5,  9,  9,  8,  7, 11, 11, 12,  3,  5,  3,  8,\n         13,  5,  5, 12, 10, 10, 12,  9,  7,  6, 10,  6,  6, 11, 14,  8,  5,\n         10, 10,  6,  1,  7, 10,  2, 11, 12,  9,  3,  4,  6,  1, 12, 10, 12,\n          4,  6, 10,  9,  3,  9,  5, 11, 11,  8,  9,  7, 10, 13, 14,  4,  5,\n          5, 10,  8,  8,  4,  7,  9,  5,  6, 11,  8,  9,  8,  4,  7,  4,  9,\n         13,  5,  3,  5,  8,  9,  8, 10,  9])>,\n  'user_cnt_distinct_department_id_last_180_days': <tf.Tensor: shape=(128,), dtype=int64, numpy=\n  array([19, 12, 14, 11, 11, 11, 14, 15, 13, 17,  7, 14, 16, 10, 13, 14, 13,\n         14, 11, 16, 14, 11,  6, 10, 18, 17, 18, 12, 15, 16, 13,  9, 15, 15,\n         17, 12, 14,  8,  9, 15, 16, 14, 10,  9, 16, 14, 15, 10, 13,  7, 13,\n         16, 15, 13, 15, 13, 15, 16, 15, 12,  9, 13, 14, 10, 16, 17, 14, 15,\n         16, 15, 14,  7, 18, 13,  5, 15, 15, 15, 11, 10,  7,  7, 17, 12, 16,\n          9, 13, 16, 12,  6, 11, 13, 16, 15, 12, 16, 13, 12, 17, 16, 12, 10,\n         13, 13, 14, 11, 11, 10, 15, 13, 10, 13, 14, 13,  8, 15, 10,  6, 15,\n         18, 12,  9, 13, 12, 14, 13, 12, 15])>,\n  'user_cnt_distinct_department_id_last_360_days': <tf.Tensor: shape=(128,), dtype=int64, numpy=\n  array([19, 12, 14, 11, 15, 11, 15, 15, 14, 17,  7, 14, 17, 10, 13, 14, 13,\n         14, 11, 16, 14, 13, 10, 10, 18, 18, 18, 12, 16, 16, 14,  9, 16, 16,\n         17, 12, 15, 10,  9, 15, 16, 14, 10, 10, 17, 15, 16, 12, 13,  7, 13,\n         16, 15, 13, 15, 14, 16, 17, 15, 12, 13, 14, 14, 10, 16, 17, 14, 15,\n         16, 15, 16,  9, 18, 16,  7, 15, 16, 15, 14, 12,  7,  7, 17, 12, 16,\n         13, 15, 16, 14,  8, 12, 13, 16, 15, 12, 17, 13, 13, 18, 16, 12, 10,\n         14, 16, 15, 11, 11, 10, 15, 13, 12, 13, 15, 13,  8, 15, 10,  6, 15,\n         19, 12,  9, 14, 13, 15, 13, 12, 16])>,\n  'user_cnt_distinct_aisle_id_last_30_days': <tf.Tensor: shape=(128,), dtype=int64, numpy=\n  array([43, 11, 30, 14,  8,  5, 28, 13, 17, 25,  4, 11, 23, 20, 12, 23, 32,\n         23, 11, 25, 26,  6, 12, 16, 32, 33, 27, 11, 11, 35, 16,  4, 18, 20,\n         18, 17, 20,  6, 18, 10, 21, 10, 11, 11, 31, 22, 25,  5,  9,  4, 13,\n         27, 12,  6, 29, 21, 26, 23, 18, 20,  6, 19, 10, 14, 26, 35,  9,  6,\n         25, 21, 13,  2, 16, 22,  2, 21, 31, 17,  3,  8,  9,  1, 22, 22, 19,\n          4, 11, 21, 21,  3, 18,  8, 28, 17, 15, 18, 10, 22, 30, 35,  5,  8,\n          8, 26, 13, 14,  8,  8, 18, 10,  8, 19, 16, 17, 13,  7, 15,  5, 18,\n         23,  9, 10,  7, 13, 20, 11, 20, 19])>,\n  'user_cnt_distinct_aisle_id_last_180_days': <tf.Tensor: shape=(128,), dtype=int64, numpy=\n  array([93, 21, 41, 23, 30, 19, 44, 48, 29, 61, 17, 30, 38, 27, 23, 40, 49,\n         40, 34, 48, 38, 38, 15, 20, 55, 61, 42, 29, 42, 60, 31, 17, 43, 49,\n         43, 29, 45, 18, 25, 39, 46, 32, 21, 21, 47, 50, 39, 23, 31, 12, 36,\n         59, 39, 27, 50, 39, 47, 47, 53, 37, 16, 29, 29, 21, 50, 60, 26, 47,\n         61, 47, 28, 12, 57, 38,  9, 40, 49, 48, 19, 22, 10, 13, 56, 39, 54,\n         18, 30, 45, 40, 11, 33, 23, 45, 35, 26, 45, 28, 45, 68, 62, 22, 23,\n         27, 41, 28, 33, 24, 18, 41, 25, 21, 36, 27, 36, 14, 34, 22,  9, 42,\n         65, 27, 27, 21, 27, 48, 25, 33, 38])>,\n  'user_cnt_distinct_aisle_id_last_360_days': <tf.Tensor: shape=(128,), dtype=int64, numpy=\n  array([97, 21, 41, 23, 39, 19, 59, 51, 34, 68, 17, 30, 53, 27, 23, 40, 49,\n         40, 39, 59, 38, 47, 27, 20, 73, 68, 42, 29, 47, 62, 35, 17, 54, 53,\n         43, 29, 51, 23, 25, 41, 46, 32, 23, 27, 50, 61, 51, 36, 31, 12, 36,\n         68, 39, 27, 53, 44, 55, 49, 62, 44, 25, 37, 29, 21, 67, 65, 26, 51,\n         69, 47, 45, 18, 65, 58, 15, 40, 58, 52, 37, 32, 10, 13, 74, 42, 54,\n         37, 37, 46, 50, 25, 39, 23, 49, 35, 26, 59, 28, 49, 80, 64, 22, 27,\n         28, 50, 43, 33, 24, 18, 42, 25, 33, 38, 42, 36, 14, 48, 22,  9, 42,\n         74, 27, 27, 25, 30, 62, 25, 46, 43])>,\n  'user_med_lines_per_order': <tf.Tensor: shape=(128,), dtype=int64, numpy=\n  array([14, 18, 10, 14, 10,  7, 10, 18,  7,  7,  4,  8, 10,  9, 14, 13,  5,\n         12, 17, 10, 22,  8,  5, 10,  6, 19, 10, 16, 18, 19, 12,  6,  9, 19,\n          7, 20, 13,  6,  5, 13,  6, 15,  5,  8, 12,  8,  6,  7, 17,  4, 23,\n         15, 17, 11, 10, 12, 14, 21, 15, 18,  7,  8, 17,  6, 25,  8, 15,  9,\n         16, 16,  8,  3,  6,  5,  2, 25, 30, 21,  8, 12,  3,  7, 15,  6, 11,\n          7,  6, 13,  9,  7,  7, 13, 10, 17, 23,  9, 15,  9,  8, 15,  7, 11,\n          7,  9, 12, 11,  9,  6, 10, 10,  6, 12, 12, 10,  3,  9, 11,  3, 16,\n          9, 13, 10, 12, 13, 18, 14,  8, 12])>,\n  'user_med_days_since_prior_order': <tf.Tensor: shape=(128,), dtype=float32, numpy=\n  array([ 4., 30.,  4., 17., 22., 21.,  5., 18.,  5.,  3., 11., 27.,  8.,\n          5., 17.,  4.,  3., 13., 19.,  3., 24., 16.,  4.,  9.,  2.,  6.,\n          4., 28., 17.,  6., 19.,  4., 12., 13.,  5.,  8.,  7.,  7.,  8.,\n         30.,  6., 27., 30.,  5.,  5.,  3.,  6., 13., 21., 27., 12.,  3.,\n          7., 26.,  7.,  9.,  8., 25.,  9., 10., 12., 22., 30., 13.,  9.,\n          3., 14.,  7.,  7.,  8.,  8., 11.,  4.,  5., 19.,  9.,  8.,  8.,\n         13., 19., 11., 23.,  6.,  5.,  8.,  7.,  5.,  7.,  7., 22., 10.,\n         30.,  5., 17.,  6.,  7., 30.,  3.,  7., 10.,  8., 19.,  9.,  7.,\n          8.,  5., 27.,  8.,  6.,  4.,  7.,  9.,  9.,  8.,  9.,  8., 17.,\n         30., 13.,  3., 10., 23., 16., 24., 12., 14.,  6.,  8.],\n        dtype=float32)>,\n  'user_shr_reordered_last_30_days': <tf.Tensor: shape=(128,), dtype=float32, numpy=\n  array([0.6272727 , 0.625     , 0.54464287, 0.42307693, 0.5       ,\n         0.42857143, 0.6363636 , 0.5294118 , 0.9705882 , 0.6744186 ,\n         1.        , 0.5       , 0.6756757 , 0.8888889 , 0.21428572,\n         0.6419753 , 0.69911504, 0.37777779, 0.8666667 , 0.8767123 ,\n         0.5833333 , 0.6666667 , 1.        , 0.30232558, 0.7582418 ,\n         0.8559322 , 0.5       , 0.5       , 0.85714287, 0.754717  ,\n         0.6086956 , 0.5       , 0.46875   , 0.5945946 , 0.54761904,\n         0.7096774 , 0.8181818 , 1.        , 0.5740741 , 0.35714287,\n         0.60465115, 0.33333334, 0.3125    , 0.7804878 , 0.72619045,\n         0.8043478 , 0.4347826 , 0.2       , 0.33333334, 0.        ,\n         0.71428573, 0.9325843 , 0.29411766, 0.5       , 0.74725276,\n         0.75438595, 0.75      , 0.5714286 , 0.7777778 , 0.7631579 ,\n         0.5555556 , 0.3888889 , 0.05882353, 0.27272728, 0.8333333 ,\n         0.8148148 , 0.5555556 , 0.2857143 , 0.7948718 , 0.33333334,\n         0.77272725, 1.        , 0.5882353 , 0.6097561 , 1.        ,\n         0.23809524, 0.9047619 , 0.88709676, 1.        , 0.8666667 ,\n         0.18181819, 1.        , 0.5641026 , 0.72307694, 0.6296296 ,\n         0.2       , 0.88235295, 0.7735849 , 0.7746479 , 1.        ,\n         0.74418604, 0.33333334, 0.78205127, 0.7058824 , 0.39130434,\n         0.32      , 0.5       , 0.95348835, 0.4390244 , 0.47252747,\n         0.9285714 , 1.        , 0.2       , 0.7875    , 0.79310346,\n         0.6904762 , 0.75      , 0.47058824, 0.61538464, 0.09090909,\n         0.6666667 , 0.73333335, 0.8666667 , 0.09090909, 0.23809524,\n         0.5555556 , 0.36842105, 0.1       , 0.8518519 , 0.9       ,\n         0.30769232, 0.5263158 , 0.36363637, 0.7619048 , 0.7       ,\n         0.07142857, 0.65384614, 0.79591835], dtype=float32)>,\n  'user_shr_reordered_last_180_days': <tf.Tensor: shape=(128,), dtype=float32, numpy=\n  array([0.6881119 , 0.41095892, 0.4651163 , 0.22950819, 0.40298507,\n         0.23913044, 0.819788  , 0.46341464, 0.9578544 , 0.6641414 ,\n         0.5875    , 0.2580645 , 0.78756475, 0.74019605, 0.1904762 ,\n         0.4509804 , 0.652819  , 0.29032257, 0.6939891 , 0.8742633 ,\n         0.5976331 , 0.5319149 , 0.9633508 , 0.2647059 , 0.70212764,\n         0.77046263, 0.4097222 , 0.4019608 , 0.67368424, 0.79750776,\n         0.55140185, 0.2826087 , 0.5648855 , 0.5255102 , 0.36453202,\n         0.34343433, 0.7657143 , 0.86096257, 0.4122807 , 0.33695653,\n         0.5672727 , 0.31578946, 0.17777778, 0.8208955 , 0.7916667 ,\n         0.8082596 , 0.5405405 , 0.4032258 , 0.07936508, 0.05882353,\n         0.57589287, 0.8455804 , 0.14159292, 0.14035088, 0.6686217 ,\n         0.73504275, 0.71653545, 0.5       , 0.64      , 0.8295964 ,\n         0.6721311 , 0.4054054 , 0.05555556, 0.25333333, 0.82222223,\n         0.78886753, 0.33333334, 0.4516129 , 0.5863192 , 0.22535211,\n         0.5797101 , 0.7222222 , 0.5532787 , 0.47297296, 0.85714287,\n         0.12396694, 0.8512397 , 0.8       , 0.67741936, 0.67676765,\n         0.1875    , 0.26086956, 0.753886  , 0.75641024, 0.43814433,\n         0.5833333 , 0.7559055 , 0.65416664, 0.754717  , 1.        ,\n         0.65363127, 0.19736843, 0.75      , 0.48514852, 0.20689656,\n         0.5448276 , 0.4893617 , 0.90425533, 0.4159292 , 0.3762058 ,\n         0.6764706 , 0.84761906, 0.4054054 , 0.7567568 , 0.8       ,\n         0.5450644 , 0.28915662, 0.45454547, 0.53409094, 0.04166667,\n         0.78723407, 0.63255817, 0.8082192 , 0.15277778, 0.18518518,\n         0.37755102, 0.3559322 , 0.07692308, 0.43283582, 0.8060498 ,\n         0.16393442, 0.37209302, 0.76829267, 0.68      , 0.7384106 ,\n         0.125     , 0.8601695 , 0.75313807], dtype=float32)>,\n  'user_shr_reordered_last_360_days': <tf.Tensor: shape=(128,), dtype=float32, numpy=\n  array([0.667252  , 0.41095892, 0.4651163 , 0.22950819, 0.3392857 ,\n         0.23913044, 0.65007114, 0.40526316, 0.8300221 , 0.6436252 ,\n         0.5875    , 0.2580645 , 0.66080403, 0.74019605, 0.1904762 ,\n         0.4509804 , 0.65555555, 0.29032257, 0.6060606 , 0.81894153,\n         0.5976331 , 0.4974359 , 0.89367086, 0.2647059 , 0.5811594 ,\n         0.66883963, 0.4097222 , 0.4019608 , 0.5714286 , 0.73187685,\n         0.47887325, 0.2826087 , 0.43589744, 0.46586347, 0.36453202,\n         0.34343433, 0.72115386, 0.8279221 , 0.4122807 , 0.2952381 ,\n         0.5625    , 0.31578946, 0.1509434 , 0.7956731 , 0.7881356 ,\n         0.7320955 , 0.5640327 , 0.3809524 , 0.07936508, 0.05882353,\n         0.5222672 , 0.79966235, 0.14159292, 0.14035088, 0.6149871 ,\n         0.65683645, 0.668239  , 0.4852941 , 0.48067632, 0.7692308 ,\n         0.48305085, 0.35772356, 0.05555556, 0.25333333, 0.7201018 ,\n         0.72748536, 0.33333334, 0.4107884 , 0.4914163 , 0.22535211,\n         0.47111112, 0.6631579 , 0.44743276, 0.4326241 , 0.5652174 ,\n         0.12396694, 0.79291046, 0.74285716, 0.5225225 , 0.5248619 ,\n         0.1875    , 0.26086956, 0.6776156 , 0.69282514, 0.43814433,\n         0.5406504 , 0.7740113 , 0.5947955 , 0.75406504, 0.6557377 ,\n         0.598513  , 0.19736843, 0.7181818 , 0.48514852, 0.20689656,\n         0.4474708 , 0.4893617 , 0.82653064, 0.3530864 , 0.32291666,\n         0.6764706 , 0.73224044, 0.40186915, 0.6287879 , 0.6868132 ,\n         0.5450644 , 0.28915662, 0.45454547, 0.493007  , 0.04166667,\n         0.7425743 , 0.57261413, 0.7114286 , 0.15277778, 0.18518518,\n         0.31791908, 0.3559322 , 0.07692308, 0.43283582, 0.76251334,\n         0.16393442, 0.37209302, 0.60431653, 0.61928934, 0.6697417 ,\n         0.125     , 0.718107  , 0.6976744 ], dtype=float32)>},\n <tf.Tensor: shape=(128,), dtype=int32, numpy=\n array([0, 0, 0, 0, 0, 0, 0, 0, 0, 0, 0, 0, 0, 0, 0, 0, 0, 0, 0, 0, 1, 0,\n        1, 0, 0, 0, 0, 0, 0, 0, 0, 0, 0, 0, 0, 0, 0, 0, 0, 0, 0, 0, 0, 0,\n        0, 0, 0, 0, 0, 0, 0, 0, 0, 0, 0, 0, 0, 1, 0, 0, 0, 0, 0, 0, 0, 0,\n        0, 0, 0, 0, 0, 0, 0, 0, 0, 0, 0, 0, 0, 0, 1, 1, 0, 0, 1, 0, 0, 0,\n        0, 1, 0, 1, 0, 0, 0, 0, 0, 0, 0, 0, 0, 1, 0, 0, 0, 0, 0, 0, 0, 0,\n        0, 0, 0, 0, 0, 0, 1, 0, 0, 0, 0, 1, 0, 0, 0, 0, 0, 0], dtype=int32)>)"
          },
          "metadata": {}
        }
      ],
      "execution_count": 8,
      "metadata": {
        "application/vnd.databricks.v1+cell": {
          "title": "Verify Spec",
          "showTitle": true,
          "inputWidgets": {},
          "nuid": "a614e5fb-8090-4530-87a7-cc2e6a80466a"
        }
      }
    },
    {
      "cell_type": "markdown",
      "source": [
        "## Step 2: Define the Model\n",
        "\n",
        "With our data in place, we can now define the wide & deep model.  For this, we will make use of [Tensorflow's DNNLinearCombinedClassifier estimator](https://www.tensorflow.org/api_docs/python/tf/estimator/DNNLinearCombinedClassifier) which simplifies the definition of these kinds of models.\n",
        "\n",
        "The feature inputs for the DNNLinearCombinedClassifier estimator are divided into those associated with a *wide*, linear model and those associated with a *deep* neural network.  The inputs to the wide model are the user and product ID combinations.  In this way, the linear model is being trained to memorize which products are purchased by which users.  These features may be brought into the model as simple categorical features [identified through an ordinal value](https://www.tensorflow.org/api_docs/python/tf/feature_column/categorical_column_with_identity) or [hashed into a smaller number of buckets](https://www.tensorflow.org/api_docs/python/tf/feature_column/categorical_column_with_hash_bucket).  The inclusion of a user-product [crossed hash](https://www.tensorflow.org/api_docs/python/tf/feature_column/crossed_column) allows the model to better understand user-product combinations:\n",
        "\n",
        "**NOTE** Much of the logic that follows is encapsulated in functions.  This will make distributed processing occurring later in the notebook easier to implement and is fairly standard for most Tensorflow implementations."
      ],
      "metadata": {
        "application/vnd.databricks.v1+cell": {
          "title": "",
          "showTitle": false,
          "inputWidgets": {},
          "nuid": "d6173038-1f3e-49e7-ac20-5893dcbc4dab"
        }
      }
    },
    {
      "cell_type": "code",
      "source": [
        "def get_wide_features():\n",
        "\n",
        "  wide_columns = []\n",
        "\n",
        "  # user_id\n",
        "  #wide_columns += [tf.feature_column.categorical_column_with_identity(\n",
        "  #    key='user_id', \n",
        "  #    num_buckets=np.max(cat_keys['user_id'])+1 # create one bucket for each value from 0 to max\n",
        "  #    )]\n",
        "  wide_columns += [\n",
        "    tf.feature_column.categorical_column_with_hash_bucket(\n",
        "       key='user_id', \n",
        "       hash_bucket_size=1000,\n",
        "       dtype=tf.dtypes.int64# create one bucket for each value from 0 to max\n",
        "       )]\n",
        "\n",
        "  # product_id\n",
        "  #wide_columns += [\n",
        "  #  tf.feature_column.categorical_column_with_identity(\n",
        "  #    key='product_id', \n",
        "  #    num_buckets=np.max(cat_keys['product_id'])+1 # create one bucket for each value from 0 to max\n",
        "  #    )]\n",
        "  wide_columns += [\n",
        "    tf.feature_column.categorical_column_with_hash_bucket(\n",
        "       key='product_id', \n",
        "       hash_bucket_size=100,\n",
        "       dtype=tf.dtypes.int64 # create one bucket for each value from 0 to max\n",
        "       )]\n",
        "\n",
        "  # user-product cross-column (set column spec to ensure presented as int64)\n",
        "  wide_columns += [\n",
        "    tf.feature_column.crossed_column(\n",
        "      [ tf.feature_column.categorical_column_with_identity(key='user_id', num_buckets=np.max(cat_keys['user_id'])+1),\n",
        "        tf.feature_column.categorical_column_with_identity(key='product_id', num_buckets=np.max(cat_keys['product_id'])+1)\n",
        "        ], \n",
        "      hash_bucket_size=1000\n",
        "      )] \n",
        "\n",
        "  return wide_columns"
      ],
      "outputs": [
        {
          "output_type": "display_data",
          "data": {
            "application/vnd.livy.statement-meta+json": {
              "spark_pool": "CPUPool",
              "session_id": 16,
              "statement_id": 9,
              "state": "finished",
              "livy_statement_state": "available",
              "queued_time": "2022-07-12T02:54:44.5431074Z",
              "session_start_time": null,
              "execution_start_time": "2022-07-12T03:02:10.0668209Z",
              "execution_finish_time": "2022-07-12T03:02:10.2611845Z"
            },
            "text/plain": "StatementMeta(CPUPool, 16, 9, Finished, Available)"
          },
          "metadata": {}
        }
      ],
      "execution_count": 9,
      "metadata": {
        "application/vnd.databricks.v1+cell": {
          "title": "Define Wide Features",
          "showTitle": true,
          "inputWidgets": {},
          "nuid": "ac4b8d42-1713-4bd8-baaf-bc0a2e237ca4"
        }
      }
    },
    {
      "cell_type": "markdown",
      "source": [
        "The feature inputs for the deep (neural network) component of the model are the features that describe our users and products in more generalized ways. By avoiding specific user and product IDs, the deep model is trained to learn attributes that signal preferences between users and products. For the categorical features, an [embedding](https://www.tensorflow.org/api_docs/python/tf/feature_column/embedding_column) is used to succintly capture the feature data.  The number of dimensions in the embedding is based on guidance in [this tutorial](https://tensorflow2.readthedocs.io/en/stable/tensorflow/g3doc/tutorials/wide_and_deep/):"
      ],
      "metadata": {
        "application/vnd.databricks.v1+cell": {
          "title": "",
          "showTitle": false,
          "inputWidgets": {},
          "nuid": "4d3153ae-4615-4025-bef7-3e7c266def80"
        }
      }
    },
    {
      "cell_type": "code",
      "source": [
        "def get_deep_features():\n",
        "  \n",
        "  deep_columns = []\n",
        "\n",
        "  # categorical features\n",
        "  for col in cat_features:\n",
        "\n",
        "    # don't use user ID or product ID\n",
        "    if col not in ['user_id','product_id']:\n",
        "\n",
        "      # base column definition\n",
        "      col_def = tf.feature_column.categorical_column_with_identity(\n",
        "        key=col, \n",
        "        num_buckets=np.max(cat_keys[col])+1 # create one bucket for each value from 0 to max\n",
        "        )\n",
        "\n",
        "      # define embedding on base column def\n",
        "      deep_columns += [tf.feature_column.embedding_column(\n",
        "                          col_def, \n",
        "                          dimension=int(np.max(cat_keys[col])**0.25)\n",
        "                          )] \n",
        "\n",
        "  # continous features\n",
        "  for col in num_features:\n",
        "    deep_columns += [tf.feature_column.numeric_column(col)]  \n",
        "    \n",
        "  return deep_columns"
      ],
      "outputs": [
        {
          "output_type": "display_data",
          "data": {
            "application/vnd.livy.statement-meta+json": {
              "spark_pool": "CPUPool",
              "session_id": 16,
              "statement_id": 10,
              "state": "finished",
              "livy_statement_state": "available",
              "queued_time": "2022-07-12T02:54:44.5466015Z",
              "session_start_time": null,
              "execution_start_time": "2022-07-12T03:02:10.365015Z",
              "execution_finish_time": "2022-07-12T03:02:10.5476611Z"
            },
            "text/plain": "StatementMeta(CPUPool, 16, 10, Finished, Available)"
          },
          "metadata": {}
        }
      ],
      "execution_count": 10,
      "metadata": {
        "application/vnd.databricks.v1+cell": {
          "title": "Define Deep Features",
          "showTitle": true,
          "inputWidgets": {},
          "nuid": "1369ba3b-de16-47fb-b35d-58f5f6022ac2"
        }
      }
    },
    {
      "cell_type": "markdown",
      "source": [
        "With our features defined, we can now assemble the estimator:\n",
        "\n",
        "**NOTE** The optimizers are passed as classes to address an issue identified [here](https://stackoverflow.com/questions/58108945/cannot-do-incremental-training-with-dnnregressor)."
      ],
      "metadata": {
        "application/vnd.databricks.v1+cell": {
          "title": "",
          "showTitle": false,
          "inputWidgets": {},
          "nuid": "16be0b8a-3be7-4ebd-ae8b-182b82045575"
        }
      }
    },
    {
      "cell_type": "code",
      "source": [
        "def get_model(hidden_layers, hidden_layer_nodes_initial_count, hidden_layer_nodes_count_decline_rate, dropout_rate):  \n",
        "  \n",
        "  # determine hidden_units structure\n",
        "  hidden_units = [None] * int(hidden_layers)\n",
        "  for i in range(int(hidden_layers)):\n",
        "    # decrement the nodes by the decline rate\n",
        "    hidden_units[i] = int(hidden_layer_nodes_initial_count * (hidden_layer_nodes_count_decline_rate**i))\n",
        " \n",
        "  # get features\n",
        "  wide_features = get_wide_features()\n",
        "  deep_features = get_deep_features()\n",
        "    \n",
        "  # define model\n",
        "  estimator = tf.estimator.DNNLinearCombinedClassifier(\n",
        "    linear_feature_columns=wide_features,\n",
        "    linear_optimizer=tf.keras.optimizers.Ftrl,\n",
        "    dnn_feature_columns=deep_features,\n",
        "    dnn_hidden_units=hidden_units,\n",
        "    dnn_dropout=dropout_rate,\n",
        "    dnn_optimizer=tf.keras.optimizers.Adagrad\n",
        "    )\n",
        "\n",
        "  return estimator"
      ],
      "outputs": [
        {
          "output_type": "display_data",
          "data": {
            "application/vnd.livy.statement-meta+json": {
              "spark_pool": "CPUPool",
              "session_id": 16,
              "statement_id": 11,
              "state": "finished",
              "livy_statement_state": "available",
              "queued_time": "2022-07-12T02:54:44.5500067Z",
              "session_start_time": null,
              "execution_start_time": "2022-07-12T03:02:10.6576199Z",
              "execution_finish_time": "2022-07-12T03:02:10.8113815Z"
            },
            "text/plain": "StatementMeta(CPUPool, 16, 11, Finished, Available)"
          },
          "metadata": {}
        }
      ],
      "execution_count": 11,
      "metadata": {
        "application/vnd.databricks.v1+cell": {
          "title": "Assemble Model",
          "showTitle": true,
          "inputWidgets": {},
          "nuid": "505c94da-11ef-4725-95fd-a033d5d1757e"
        }
      }
    },
    {
      "cell_type": "markdown",
      "source": [
        "## Step 3: Tune the Model\n",
        "\n",
        "To tune the model, we need to define an evaluation metric.  By default, the DNNLinearCombinedClassifier seeks to minimize the [softmax (categorical) cross entropy](https://www.tensorflow.org/api_docs/python/tf/nn/softmax_cross_entropy_with_logits) metric which examines the distance between a predicted class probability and the actual class label.  (You can think of this metric as seeking more accurate and confident class predictions.)\n",
        "\n",
        "We'll tune our model around this metric but it might be nice to provide a more traditional metric to assist us with evaluation of the end result.  For recommenders where the goal is to present products in order from most likely to least likely to be selected, [mean average precision @ k (MAP@K)](https://web.stanford.edu/class/cs276/handouts/EvaluationNew-handout-6-per.pdf) is often used.  This metric examines the average precision associated with a top-*k* number of recommendations.  The closer the value of MAP@K to 1.0, the better aligned those recommendations are with a customer's product selections. \n",
        "\n",
        "To calculate MAP@K, we are [repurposing code presented by NVIDIA](https://github.com/NVIDIA/DeepLearningExamples/blob/master/TensorFlow/Recommendation/WideAndDeep/utils/metrics.py) with their implementation of a wide and deep recommender for ad-placement:"
      ],
      "metadata": {
        "application/vnd.databricks.v1+cell": {
          "title": "",
          "showTitle": false,
          "inputWidgets": {},
          "nuid": "89be9565-105e-47ae-9ce7-f954947555f9"
        }
      }
    },
    {
      "cell_type": "code",
      "source": [
        "# Adapted from: https://github.com/NVIDIA/DeepLearningExamples/blob/master/TensorFlow/Recommendation/WideAndDeep/utils/metrics.py\n",
        "def map_custom_metric(features, labels, predictions):\n",
        "  \n",
        "  user_ids = tf.reshape(features['user_id'], [-1])\n",
        "  predictions = predictions['probabilities'][:, 1]\n",
        "\n",
        "  # sort user IDs \n",
        "  sorted_ids = tf.argsort(user_ids)\n",
        "  \n",
        "  # resort values to align with sorted user IDs\n",
        "  user_ids = tf.gather(user_ids, indices=sorted_ids)\n",
        "  predictions = tf.gather(predictions, indices=sorted_ids)\n",
        "  labels = tf.gather(labels, indices=sorted_ids)\n",
        "\n",
        "  # get unique user IDs in dataset\n",
        "  _, user_ids_idx, user_ids_items_count = tf.unique_with_counts(\n",
        "      user_ids, \n",
        "      out_idx=tf.int64\n",
        "      )\n",
        "  \n",
        "  # remove any user duplicates\n",
        "  pad_length = 30 - tf.reduce_max(user_ids_items_count)\n",
        "  pad_fn = lambda x: tf.pad(x, [(0, 0), (0, pad_length)])\n",
        "  preds = tf.RaggedTensor.from_value_rowids(\n",
        "      predictions, user_ids_idx).to_tensor()\n",
        "  labels = tf.RaggedTensor.from_value_rowids(\n",
        "      labels, user_ids_idx).to_tensor()\n",
        "  labels = tf.argmax(labels, axis=1)\n",
        "\n",
        "  # calculate average precision at k\n",
        "  return {\n",
        "      'map@k': tf.compat.v1.metrics.average_precision_at_k(\n",
        "          predictions=pad_fn(preds),\n",
        "          labels=labels,\n",
        "          k=10,\n",
        "          name=\"streaming_map\")\n",
        "        }"
      ],
      "outputs": [
        {
          "output_type": "display_data",
          "data": {
            "application/vnd.livy.statement-meta+json": {
              "spark_pool": "CPUPool",
              "session_id": 16,
              "statement_id": 12,
              "state": "finished",
              "livy_statement_state": "available",
              "queued_time": "2022-07-12T02:54:44.5535541Z",
              "session_start_time": null,
              "execution_start_time": "2022-07-12T03:02:10.9158132Z",
              "execution_finish_time": "2022-07-12T03:02:11.0659003Z"
            },
            "text/plain": "StatementMeta(CPUPool, 16, 12, Finished, Available)"
          },
          "metadata": {}
        }
      ],
      "execution_count": 12,
      "metadata": {
        "application/vnd.databricks.v1+cell": {
          "title": "Define MAP@K Metric",
          "showTitle": true,
          "inputWidgets": {},
          "nuid": "cc032baf-92d1-4322-a5a3-f28750dc26ca"
        }
      }
    },
    {
      "cell_type": "markdown",
      "source": [
        "We can now bring together all of our logic to define our model:"
      ],
      "metadata": {
        "application/vnd.databricks.v1+cell": {
          "title": "",
          "showTitle": false,
          "inputWidgets": {},
          "nuid": "837f59ad-c0ef-4d3f-8c53-142587061f71"
        }
      }
    },
    {
      "cell_type": "code",
      "source": [
        "def train_and_evaluate_model(hparams):\n",
        "  \n",
        "  # retrieve the basic model\n",
        "  model = get_model(\n",
        "    hparams['hidden_layers'], \n",
        "    hparams['hidden_layer_nodes_initial_count'], \n",
        "    hparams['hidden_layer_nodes_count_decline_rate'], \n",
        "    hparams['dropout_rate']\n",
        "    )\n",
        "  \n",
        "  # add map@k metric\n",
        "  model = tf.estimator.add_metrics(model, map_custom_metric)\n",
        "  \n",
        "  # retrieve data specs\n",
        "  train_spec, eval_spec = get_data_specs( int(hparams['epochs']), int(hparams['batch_size']))\n",
        "  \n",
        "  # train and evaluate\n",
        "  results = tf.estimator.train_and_evaluate(model, train_spec, eval_spec)\n",
        "  \n",
        "  # return loss metric\n",
        "  return {'loss': results[0]['loss'], 'status': STATUS_OK}"
      ],
      "outputs": [
        {
          "output_type": "display_data",
          "data": {
            "application/vnd.livy.statement-meta+json": {
              "spark_pool": "CPUPool",
              "session_id": 16,
              "statement_id": 13,
              "state": "finished",
              "livy_statement_state": "available",
              "queued_time": "2022-07-12T02:54:44.5564036Z",
              "session_start_time": null,
              "execution_start_time": "2022-07-12T03:02:11.1680227Z",
              "execution_finish_time": "2022-07-12T03:02:11.3259371Z"
            },
            "text/plain": "StatementMeta(CPUPool, 16, 13, Finished, Available)"
          },
          "metadata": {}
        }
      ],
      "execution_count": 13,
      "metadata": {
        "application/vnd.databricks.v1+cell": {
          "title": "Define Training & Evaluation Logic",
          "showTitle": true,
          "inputWidgets": {},
          "nuid": "96e79bd8-028f-4e34-911e-822e301c863d"
        }
      }
    },
    {
      "cell_type": "markdown",
      "source": [
        "We can now give our model a test run, just to make sure all the moving parts are working together:"
      ],
      "metadata": {
        "application/vnd.databricks.v1+cell": {
          "title": "",
          "showTitle": false,
          "inputWidgets": {},
          "nuid": "31b25e8b-a57b-4253-8f3d-842031ebc559"
        }
      }
    },
    {
      "cell_type": "code",
      "source": [
        "hparams = {\n",
        "  'hidden_layers':2,\n",
        "  'hidden_layer_nodes_initial_count':100,\n",
        "  'hidden_layer_nodes_count_decline_rate':0.5,\n",
        "  'dropout_rate':0.25,\n",
        "  'epochs':1,\n",
        "  'batch_size':128\n",
        "  }\n",
        "\n",
        "train_and_evaluate_model(hparams)"
      ],
      "outputs": [
        {
          "output_type": "display_data",
          "data": {
            "application/vnd.livy.statement-meta+json": {
              "spark_pool": "CPUPool",
              "session_id": 16,
              "statement_id": 14,
              "state": "finished",
              "livy_statement_state": "available",
              "queued_time": "2022-07-12T02:54:44.5595284Z",
              "session_start_time": null,
              "execution_start_time": "2022-07-12T03:02:11.4200197Z",
              "execution_finish_time": "2022-07-12T03:05:55.8255607Z"
            },
            "text/plain": "StatementMeta(CPUPool, 16, 14, Finished, Available)"
          },
          "metadata": {}
        },
        {
          "output_type": "stream",
          "name": "stdout",
          "text": [
            "Using temporary folder as model directory: /tmp/tmpdb9a_gq0\nFrom /home/trusted-service-user/cluster-env/env/lib/python3.8/site-packages/tensorflow/python/training/training_util.py:396: Variable.initialized_value (from tensorflow.python.ops.variables) is deprecated and will be removed in a future version.\nInstructions for updating:\nUse Variable.read_value. Variables in 2.X are initialized automatically both in eager and graph (inside tf.defun) contexts.\nFrom /home/trusted-service-user/cluster-env/env/lib/python3.8/site-packages/petastorm/tf_utils.py:383: calling DatasetV1.from_generator (from tensorflow.python.data.ops.dataset_ops) with output_types is deprecated and will be removed in a future version.\nInstructions for updating:\nUse output_signature instead\nFrom /home/trusted-service-user/cluster-env/env/lib/python3.8/site-packages/keras/optimizers/optimizer_v2/adagrad.py:86: calling Constant.__init__ (from tensorflow.python.ops.init_ops) with dtype is deprecated and will be removed in a future version.\nInstructions for updating:\nCall initializer instance with the dtype argument instead of passing it to the constructor\n"
          ]
        },
        {
          "output_type": "stream",
          "name": "stderr",
          "text": [
            "2022-07-12 01:34:45.402346: I tensorflow/compiler/mlir/mlir_graph_optimization_pass.cc:354] MLIR V1 optimization pass is not enabled\n2022-07-12 01:34:45.414939: W tensorflow/core/common_runtime/forward_type_inference.cc:231] Type inference failed. This indicates an invalid graph that escaped type checking. Error message: INVALID_ARGUMENT: expected compatible input types, but input 1:\ntype_id: TFT_OPTIONAL\nargs {\n  type_id: TFT_PRODUCT\n  args {\n    type_id: TFT_TENSOR\n    args {\n      type_id: TFT_INT64\n    }\n  }\n}\n is neither a subtype nor a supertype of the combined inputs preceding it:\ntype_id: TFT_OPTIONAL\nargs {\n  type_id: TFT_PRODUCT\n  args {\n    type_id: TFT_TENSOR\n    args {\n      type_id: TFT_INT32\n    }\n  }\n}\n\n\twhile inferring type of node 'dnn/zero_fraction/cond/output/_18'\n2022-07-12 03:02:15.368196: I tensorflow/compiler/mlir/mlir_graph_optimization_pass.cc:354] MLIR V1 optimization pass is not enabled\n2022-07-12 03:02:15.379665: W tensorflow/core/common_runtime/forward_type_inference.cc:231] Type inference failed. This indicates an invalid graph that escaped type checking. Error message: INVALID_ARGUMENT: expected compatible input types, but input 1:\ntype_id: TFT_OPTIONAL\nargs {\n  type_id: TFT_PRODUCT\n  args {\n    type_id: TFT_TENSOR\n    args {\n      type_id: TFT_INT64\n    }\n  }\n}\n is neither a subtype nor a supertype of the combined inputs preceding it:\ntype_id: TFT_OPTIONAL\nargs {\n  type_id: TFT_PRODUCT\n  args {\n    type_id: TFT_TENSOR\n    args {\n      type_id: TFT_INT32\n    }\n  }\n}\n\n\twhile inferring type of node 'dnn/zero_fraction/cond/output/_18'\n"
          ]
        },
        {
          "output_type": "execute_result",
          "execution_count": 31,
          "data": {
            "text/plain": "{'loss': 0.33366948, 'status': 'ok'}"
          },
          "metadata": {}
        }
      ],
      "execution_count": 14,
      "metadata": {
        "application/vnd.databricks.v1+cell": {
          "title": "Perform Test Run",
          "showTitle": true,
          "inputWidgets": {},
          "nuid": "b57be504-2907-466e-a86b-652d7db71c93"
        }
      }
    },
    {
      "cell_type": "markdown",
      "source": [
        "With a successful test run completed, let's now perform hyperparameter tuning on the model. We will use [hyperopt](https://docs.databricks.com/applications/machine-learning/automl-hyperparam-tuning/index.html#hyperparameter-tuning-with-hyperopt) to ensure this work is distributed in a manner that allows us to manage the total time required for this operation.\n",
        "\n",
        "Regarding the hyperparameters, we will play with the number of hidden units as well as the drop-out rate for the deep neural-network portion of the model.  While we will have the option to tune the number of epochs and the batch size for training, we will leave those set to fixed values at this time:"
      ],
      "metadata": {
        "application/vnd.databricks.v1+cell": {
          "title": "",
          "showTitle": false,
          "inputWidgets": {},
          "nuid": "351d461d-c37f-4ead-bd2b-54ca0e10bdfd"
        }
      }
    },
    {
      "cell_type": "code",
      "source": [
        "# Define Hyperparameter Search Space\n",
        "search_space = {\n",
        "  'hidden_layers': hp.quniform('hidden_layers', 1, 5, 1)  # determines number of hidden layers\n",
        "  ,'hidden_layer_nodes_initial_count': hp.quniform('hidden_layer_nodes_initial', 50, 201, 10)  # determines number of nodes in first hidden layer\n",
        "  ,'hidden_layer_nodes_count_decline_rate': hp.quniform('hidden_layer_nodes_count_decline_rate', 0.0, 0.51, 0.05) # determines how number of nodes decline in layers below first hidden layer\n",
        "  ,'dropout_rate': hp.quniform('dropout_rate', 0.0, 0.51, 0.05)\n",
        "  ,'epochs': hp.quniform('epochs', 3, 4, 1) # fixed value for now\n",
        "  ,'batch_size': hp.quniform('batch_size', 128, 129, 1) # fixed value for now\n",
        "  }"
      ],
      "outputs": [
        {
          "output_type": "display_data",
          "data": {
            "application/vnd.livy.statement-meta+json": {
              "spark_pool": "CPUPool",
              "session_id": 16,
              "statement_id": 15,
              "state": "finished",
              "livy_statement_state": "available",
              "queued_time": "2022-07-12T02:54:44.5621619Z",
              "session_start_time": null,
              "execution_start_time": "2022-07-12T03:05:56.0394244Z",
              "execution_finish_time": "2022-07-12T03:05:56.2114256Z"
            },
            "text/plain": "StatementMeta(CPUPool, 16, 15, Finished, Available)"
          },
          "metadata": {}
        }
      ],
      "execution_count": 15,
      "metadata": {
        "application/vnd.databricks.v1+cell": {
          "title": "Define Hyperparameter Search Space",
          "showTitle": true,
          "inputWidgets": {},
          "nuid": "90b01c02-ed1b-4843-b286-c142c1d8d433"
        }
      }
    },
    {
      "cell_type": "code",
      "source": [
        "# Perform Hyperparameter Search\n",
        "argmin = fmin(\n",
        "  fn=train_and_evaluate_model,\n",
        "  space=search_space,\n",
        "  algo=tpe.suggest,\n",
        "  max_evals=100,\n",
        "  trials=SparkTrials(parallelism=sc.defaultParallelism) # set to the number of executors for CPU-based clusters OR number of workers for GPU-based clusters\n",
        "  )"
      ],
      "outputs": [
        {
          "output_type": "display_data",
          "data": {
            "application/vnd.livy.statement-meta+json": {
              "spark_pool": "CPUPool",
              "session_id": 16,
              "statement_id": 16,
              "state": "finished",
              "livy_statement_state": "available",
              "queued_time": "2022-07-12T02:54:45.4928977Z",
              "session_start_time": null,
              "execution_start_time": "2022-07-12T03:05:57.252035Z",
              "execution_finish_time": "2022-07-12T05:08:39.4209944Z"
            },
            "text/plain": "StatementMeta(CPUPool, 16, 16, Finished, Available)"
          },
          "metadata": {}
        },
        {
          "output_type": "stream",
          "name": "stdout",
          "text": [
            "100%|██████████| 100/100 [2:02:41<00:00, 73.61s/trial, best loss: 0.2978660464286804]   \nTotal Trials: 100: 100 succeeded, 0 failed, 0 cancelled.\n"
          ]
        }
      ],
      "execution_count": 16,
      "metadata": {
        "application/vnd.databricks.v1+cell": {
          "title": "Perform Hyperparameter Search",
          "showTitle": true,
          "inputWidgets": {},
          "nuid": "96254ebc-bb9a-4f7d-83df-20f503681f35"
        }
      }
    },
    {
      "cell_type": "code",
      "source": [
        "# Show Optimized Hyperparameters\r\n",
        "space_eval(search_space, argmin)"
      ],
      "outputs": [
        {
          "output_type": "display_data",
          "data": {
            "application/vnd.livy.statement-meta+json": {
              "spark_pool": "CPUPool",
              "session_id": 16,
              "statement_id": 17,
              "state": "finished",
              "livy_statement_state": "available",
              "queued_time": "2022-07-12T02:54:46.4097194Z",
              "session_start_time": null,
              "execution_start_time": "2022-07-12T05:08:39.5378164Z",
              "execution_finish_time": "2022-07-12T05:08:39.6793209Z"
            },
            "text/plain": "StatementMeta(CPUPool, 16, 17, Finished, Available)"
          },
          "metadata": {}
        },
        {
          "output_type": "execute_result",
          "execution_count": 37,
          "data": {
            "text/plain": "{'batch_size': 129.0,\n 'dropout_rate': 0.0,\n 'epochs': 4.0,\n 'hidden_layer_nodes_count_decline_rate': 0.45,\n 'hidden_layer_nodes_initial_count': 90.0,\n 'hidden_layers': 4.0}"
          },
          "metadata": {}
        }
      ],
      "execution_count": 17,
      "metadata": {
        "application/vnd.databricks.v1+cell": {
          "title": "Show Optimized Hyperparameters",
          "showTitle": true,
          "inputWidgets": {},
          "nuid": "b6db2d06-d4e3-4e03-b74c-701f985e4f6b"
        }
      }
    },
    {
      "cell_type": "markdown",
      "source": [
        "## Step 4: Evaluate the Model\n",
        "\n",
        "Based on our optimized parameters, we can now train a final version of our model and explore the metrics associated with it:"
      ],
      "metadata": {
        "application/vnd.databricks.v1+cell": {
          "title": "",
          "showTitle": false,
          "inputWidgets": {},
          "nuid": "0e0c5c2e-7352-46c8-a933-c9af8539a22d"
        }
      }
    },
    {
      "cell_type": "code",
      "source": [
        "hparams = space_eval(search_space, argmin)\n",
        "\n",
        "model = get_model(\n",
        "    hparams['hidden_layers'], \n",
        "    hparams['hidden_layer_nodes_initial_count'], \n",
        "    hparams['hidden_layer_nodes_count_decline_rate'], \n",
        "    hparams['dropout_rate']\n",
        "    )\n",
        "model = tf.estimator.add_metrics(model, map_custom_metric)\n",
        "\n",
        "#train_spec, eval_spec = get_data_specs(hparams['epochs'],hparams['batch_size'])\n",
        "\n",
        "train_spec, eval_spec = get_data_specs( int(hparams['epochs']), int(hparams['batch_size']))\n",
        "\n",
        "results = tf.estimator.train_and_evaluate(model, train_spec, eval_spec)"
      ],
      "outputs": [
        {
          "output_type": "display_data",
          "data": {
            "application/vnd.livy.statement-meta+json": {
              "spark_pool": "CPUPool",
              "session_id": 16,
              "statement_id": 18,
              "state": "finished",
              "livy_statement_state": "available",
              "queued_time": "2022-07-12T02:54:47.050497Z",
              "session_start_time": null,
              "execution_start_time": "2022-07-12T05:08:39.7728083Z",
              "execution_finish_time": "2022-07-12T05:21:34.6693471Z"
            },
            "text/plain": "StatementMeta(CPUPool, 16, 18, Finished, Available)"
          },
          "metadata": {}
        },
        {
          "output_type": "stream",
          "name": "stdout",
          "text": [
            "Using temporary folder as model directory: /tmp/tmpu3f56yav\nIt seems that global step (tf.train.get_global_step) has not been increased. Current value (could be stable): 22609 vs previous value: 22609. You could increase the global step by passing tf.train.get_global_step() to Optimizer.apply_gradients or Optimizer.minimize.\nUnclosed client session\nclient_session: <aiohttp.client.ClientSession object at 0x7f41b7e250a0>\n"
          ]
        }
      ],
      "execution_count": 18,
      "metadata": {
        "application/vnd.databricks.v1+cell": {
          "title": "Train Optimized Model",
          "showTitle": true,
          "inputWidgets": {},
          "nuid": "1222fd74-ce65-4537-9f5d-2ced586d5fdf"
        }
      }
    },
    {
      "cell_type": "code",
      "source": [
        "results[0]"
      ],
      "outputs": [
        {
          "output_type": "display_data",
          "data": {
            "application/vnd.livy.statement-meta+json": {
              "spark_pool": "CPUPool",
              "session_id": 16,
              "statement_id": 19,
              "state": "finished",
              "livy_statement_state": "available",
              "queued_time": "2022-07-12T02:54:47.3699841Z",
              "session_start_time": null,
              "execution_start_time": "2022-07-12T05:21:34.8836756Z",
              "execution_finish_time": "2022-07-12T05:21:35.0220144Z"
            },
            "text/plain": "StatementMeta(CPUPool, 16, 19, Finished, Available)"
          },
          "metadata": {}
        },
        {
          "output_type": "execute_result",
          "execution_count": 41,
          "data": {
            "text/plain": "{'accuracy': 0.899375,\n 'accuracy_baseline': 0.899375,\n 'auc': 0.68152326,\n 'auc_precision_recall': 0.18358128,\n 'average_loss': 0.307229,\n 'label/mean': 0.100625,\n 'loss': 0.307229,\n 'map@k': 1.0,\n 'precision': 0.0,\n 'prediction/mean': 0.10303449,\n 'recall': 0.0,\n 'global_step': 257846}"
          },
          "metadata": {}
        }
      ],
      "execution_count": 19,
      "metadata": {
        "application/vnd.databricks.v1+cell": {
          "title": "Review Validation Results",
          "showTitle": true,
          "inputWidgets": {},
          "nuid": "6a4ca070-260c-49cb-b1ac-81b2044d3e9d"
        }
      }
    },
    {
      "cell_type": "markdown",
      "source": [
        "Using our test data, which the model did not see during hyperparameter tuning, we can better assess model performance.  Our test data, also stored in Petastorm, requires access to a function to re-organize it for evaluation.  In addition, we need to explicitly define the number of data steps over which the data should be evaluated (or the evaluation step will run indefinitely):"
      ],
      "metadata": {
        "application/vnd.databricks.v1+cell": {
          "title": "",
          "showTitle": false,
          "inputWidgets": {},
          "nuid": "bbd77839-67f9-4472-8bde-88b4e4bc253e"
        }
      }
    },
    {
      "cell_type": "code",
      "source": [
        "# Borrowed from get_data_specs() (defined above)\n",
        "# ---------------------------------------------------------\n",
        "# define functions to transform data into req'ed format\n",
        "def get_input_fn(dataset_context_manager):\n",
        "\n",
        "  def _to_tuple(row): # re-structure a row as ({features}, label)\n",
        "    features = {}\n",
        "    for col in cat_features + num_features:\n",
        "      features[col] = getattr(row, col)\n",
        "    return features, getattr(row, label_col)\n",
        "\n",
        "  def fn(): # called by estimator to perform row structure conversion\n",
        "    return dataset_context_manager.__enter__().map(_to_tuple)\n",
        "\n",
        "  return fn\n",
        "# ---------------------------------------------------------\n",
        "\n",
        "# define batch size and number of steps\n",
        "batch_size = 128\n",
        "steps = int(test_pstorm.dataset_size/batch_size)\n",
        "\n",
        "# retrieve test data\n",
        "test_ds = test_pstorm.make_tf_dataset(batch_size=batch_size)\n",
        "\n",
        "# evaulate against test data\n",
        "results = model.evaluate(get_input_fn(test_ds), steps=steps)"
      ],
      "outputs": [
        {
          "output_type": "display_data",
          "data": {
            "application/vnd.livy.statement-meta+json": {
              "spark_pool": "CPUPool",
              "session_id": 16,
              "statement_id": 20,
              "state": "finished",
              "livy_statement_state": "available",
              "queued_time": "2022-07-12T02:54:47.6081496Z",
              "session_start_time": null,
              "execution_start_time": "2022-07-12T05:21:35.1200176Z",
              "execution_finish_time": "2022-07-12T05:22:53.4117818Z"
            },
            "text/plain": "StatementMeta(CPUPool, 16, 20, Finished, Available)"
          },
          "metadata": {}
        }
      ],
      "execution_count": 20,
      "metadata": {
        "application/vnd.databricks.v1+cell": {
          "title": "Evaluate Using Test Data",
          "showTitle": true,
          "inputWidgets": {},
          "nuid": "333b38bb-5406-4d6e-bcf8-5177866036dd"
        }
      }
    },
    {
      "cell_type": "code",
      "source": [
        "# show results\n",
        "results"
      ],
      "outputs": [
        {
          "output_type": "display_data",
          "data": {
            "application/vnd.livy.statement-meta+json": {
              "spark_pool": "CPUPool",
              "session_id": 16,
              "statement_id": 21,
              "state": "finished",
              "livy_statement_state": "available",
              "queued_time": "2022-07-12T02:54:47.8974219Z",
              "session_start_time": null,
              "execution_start_time": "2022-07-12T05:22:53.5103173Z",
              "execution_finish_time": "2022-07-12T05:22:53.6652525Z"
            },
            "text/plain": "StatementMeta(CPUPool, 16, 21, Finished, Available)"
          },
          "metadata": {}
        },
        {
          "output_type": "execute_result",
          "execution_count": 45,
          "data": {
            "text/plain": "{'accuracy': 0.9001098,\n 'accuracy_baseline': 0.90010875,\n 'auc': 0.68144107,\n 'auc_precision_recall': 0.18812457,\n 'average_loss': 0.30603984,\n 'label/mean': 0.09989122,\n 'loss': 0.30603984,\n 'map@k': 0.9998661255879108,\n 'precision': 1.0,\n 'prediction/mean': 0.10357017,\n 'recall': 1.083142e-05,\n 'global_step': 257846}"
          },
          "metadata": {}
        }
      ],
      "execution_count": 21,
      "metadata": {
        "application/vnd.databricks.v1+cell": {
          "title": "Review Test Results",
          "showTitle": true,
          "inputWidgets": {},
          "nuid": "6bcf36ab-35dc-478a-940b-f249e032ef46"
        }
      }
    },
    {
      "cell_type": "markdown",
      "source": [
        "Our model appears to produce similar results for the testing holdout.  We should feel confident moving it into the application infrastructure for live testing.\r\n",
        "As a next step, with our model trained and evaluated, we may need to move it into our application infrastructure. To do this, we will need to persist the model in a manner that enables deployment. For this, we can make use of MLflow, for example. "
      ],
      "metadata": {
        "application/vnd.databricks.v1+cell": {
          "title": "",
          "showTitle": false,
          "inputWidgets": {},
          "nuid": "e71cc28b-7e85-45a4-a9a3-12a414a26187"
        }
      }
    }
  ],
  "metadata": {
    "kernelspec": {
      "name": "synapse_pyspark",
      "language": "Python",
      "display_name": "Synapse PySpark"
    },
    "language_info": {
      "name": "python"
    },
    "kernel_info": {
      "name": "synapse_pyspark"
    },
    "description": null,
    "save_output": true,
    "synapse_widget": {
      "version": "0.1",
      "state": {
        "9c543449-07ae-40f7-9b4d-2f7abf2c73bd": {
          "type": "Synapse.DataFrame",
          "sync_state": {
            "table": {
              "rows": [
                {
                  "0": "204522",
                  "1": "47626",
                  "2": "0",
                  "3": "1262720385024",
                  "4": "24",
                  "5": "4",
                  "6": "0.09312396646121168",
                  "7": "0.057270314554375756",
                  "8": "0.7578010065814944",
                  "9": "0.2103108981664234",
                  "10": "0.051935659220102424",
                  "11": "0.7125411030882403",
                  "12": "0.2249853304171981",
                  "13": "0.04752751846001432",
                  "14": "0.6973340509037449",
                  "15": "3",
                  "16": "20",
                  "17": "26",
                  "18": "40",
                  "19": "95",
                  "20": "117",
                  "21": "10",
                  "22": "14",
                  "23": "14",
                  "24": "21",
                  "25": "39",
                  "26": "41",
                  "27": "15",
                  "28": "7.0",
                  "29": "0.8",
                  "30": "0.8216783216783217",
                  "31": "0.6961038961038961"
                },
                {
                  "0": "24631",
                  "1": "39375",
                  "2": "0",
                  "3": "1262720385025",
                  "4": "72",
                  "5": "13",
                  "6": "9.213952834260386E-4",
                  "7": "4.3900589553876886E-4",
                  "8": "0.2474747474747475",
                  "9": "0.003671032787123743",
                  "10": "3.807276960692616E-4",
                  "11": "0.1745664739884393",
                  "12": "0.004771857678374853",
                  "13": "3.6714154881953233E-4",
                  "14": "0.16567544604927784",
                  "15": "7",
                  "16": "39",
                  "17": "68",
                  "18": "62",
                  "19": "191",
                  "20": "282",
                  "21": "12",
                  "22": "17",
                  "23": "17",
                  "24": "33",
                  "25": "58",
                  "26": "68",
                  "27": "14",
                  "28": "5.0",
                  "29": "0.8924731182795699",
                  "30": "0.8175559380378657",
                  "31": "0.7227138643067846"
                },
                {
                  "0": "153376",
                  "1": "7500",
                  "2": "0",
                  "3": "1262720385026",
                  "4": "17",
                  "5": "13",
                  "6": "0.005926026507087469",
                  "7": "0.002831366306075797",
                  "8": "0.27956147220046984",
                  "9": "0.02673501156593553",
                  "10": "0.0028882487186202253",
                  "11": "0.25891496494971045",
                  "12": "0.034736602185161655",
                  "13": "0.0029371323905562586",
                  "14": "0.24086661002548854",
                  "15": "2",
                  "16": "14",
                  "17": "29",
                  "18": "33",
                  "19": "95",
                  "20": "136",
                  "21": "12",
                  "22": "16",
                  "23": "16",
                  "24": "21",
                  "25": "43",
                  "26": "52",
                  "27": "11",
                  "28": "9.0",
                  "29": "0.5882352941176471",
                  "30": "0.6818181818181818",
                  "31": "0.5828220858895705"
                },
                {
                  "0": "158789",
                  "1": "23991",
                  "2": "0",
                  "3": "1262720385027",
                  "4": "92",
                  "5": "18",
                  "6": "3.1521417590890796E-4",
                  "7": "1.8402772388746372E-4",
                  "8": "0.4939759036144578",
                  "9": "0.0013142006410971393",
                  "10": "1.7781964070749329E-4",
                  "11": "0.37376237623762376",
                  "12": "0.0018621883622926255",
                  "13": "2.0805727532933563E-4",
                  "14": "0.424287856071964",
                  "15": "3",
                  "16": "22",
                  "17": "52",
                  "18": "21",
                  "19": "130",
                  "20": "199",
                  "21": "6",
                  "22": "11",
                  "23": "15",
                  "24": "10",
                  "25": "38",
                  "26": "50",
                  "27": "12",
                  "28": "6.0",
                  "29": "0.9",
                  "30": "0.7422680412371134",
                  "31": "0.7106446776611695"
                },
                {
                  "0": "162759",
                  "1": "27625",
                  "2": "0",
                  "3": "1262720385028",
                  "4": "24",
                  "5": "4",
                  "6": "0.0017506510385094734",
                  "7": "0.0010531707089945213",
                  "8": "0.4378947368421053",
                  "9": "0.0035934416053615506",
                  "10": "5.202544933570719E-4",
                  "11": "0.40609137055837563",
                  "12": "0.004223869957179367",
                  "13": "4.476194754086906E-4",
                  "14": "0.39372822299651566",
                  "15": "7",
                  "16": "18",
                  "17": "35",
                  "18": "64",
                  "19": "128",
                  "20": "186",
                  "21": "13",
                  "22": "16",
                  "23": "16",
                  "24": "34",
                  "25": "50",
                  "26": "58",
                  "27": "17",
                  "28": "7.0",
                  "29": "0.822429906542056",
                  "30": "0.7153558052434457",
                  "31": "0.667262969588551"
                },
                {
                  "0": "3120",
                  "1": "41690",
                  "2": "0",
                  "3": "1262720385029",
                  "4": "83",
                  "5": "4",
                  "6": "0.0032491307362918203",
                  "7": "0.0017493719776772154",
                  "8": "0.5171102661596958",
                  "9": "0.011415602616762605",
                  "10": "0.0017689533069391475",
                  "11": "0.47947250559840754",
                  "12": "0.013418424995999205",
                  "13": "0.001579925186721267",
                  "14": "0.4537018756169793",
                  "15": "1",
                  "16": "21",
                  "17": "31",
                  "18": "9",
                  "19": "86",
                  "20": "109",
                  "21": "4",
                  "22": "11",
                  "23": "12",
                  "24": "5",
                  "25": "34",
                  "26": "39",
                  "27": "8",
                  "28": "7.0",
                  "29": "0.7777777777777778",
                  "30": "0.6785714285714286",
                  "31": "0.605072463768116"
                },
                {
                  "0": "174745",
                  "1": "36655",
                  "2": "0",
                  "3": "1262720385030",
                  "4": "107",
                  "5": "19",
                  "6": "5.8193386321644545E-5",
                  "7": "5.099563433026103E-5",
                  "8": "0.6956521739130435",
                  "9": "1.2123622150342613E-4",
                  "10": "2.552856227978864E-5",
                  "11": "0.5862068965517241",
                  "12": "1.2608567036356317E-4",
                  "13": "1.9027726829219602E-5",
                  "14": "0.5737704918032787",
                  "15": "1",
                  "16": "8",
                  "17": "8",
                  "18": "3",
                  "19": "44",
                  "20": "44",
                  "21": "2",
                  "22": "11",
                  "23": "11",
                  "24": "3",
                  "25": "21",
                  "26": "21",
                  "27": "7",
                  "28": "10.0",
                  "29": "1.0",
                  "30": "0.22807017543859648",
                  "31": "0.22807017543859648"
                },
                {
                  "0": "7061",
                  "1": "17691",
                  "2": "0",
                  "3": "1262720385031",
                  "4": "120",
                  "5": "16",
                  "6": "4.6554709057315636E-4",
                  "7": "2.9488779851846595E-4",
                  "8": "0.7293233082706767",
                  "9": "0.001168717175293028",
                  "10": "2.570462132999408E-4",
                  "11": "0.6746575342465754",
                  "12": "0.0014693830046215248",
                  "13": "2.7325063446551425E-4",
                  "14": "0.656392694063927",
                  "15": "1",
                  "16": "4",
                  "17": "4",
                  "18": "22",
                  "19": "60",
                  "20": "60",
                  "21": "9",
                  "22": "13",
                  "23": "13",
                  "24": "15",
                  "25": "34",
                  "26": "34",
                  "27": "14",
                  "28": "15.0",
                  "29": "0.09090909090909091",
                  "30": "0.16666666666666666",
                  "31": "0.16666666666666666"
                },
                {
                  "0": "183287",
                  "1": "42097",
                  "2": "0",
                  "3": "1262720385032",
                  "4": "25",
                  "5": "11",
                  "6": "3.5885921565014135E-4",
                  "7": "1.685073134391234E-4",
                  "8": "0.40789473684210525",
                  "9": "0.0014548346580411137",
                  "10": "1.764991978309525E-4",
                  "11": "0.3865336658354115",
                  "12": "0.001799145527110844",
                  "13": "1.762404206312963E-4",
                  "14": "0.3433628318584071",
                  "15": "7",
                  "16": "19",
                  "17": "19",
                  "18": "57",
                  "19": "90",
                  "20": "90",
                  "21": "14",
                  "22": "15",
                  "23": "15",
                  "24": "27",
                  "25": "33",
                  "26": "33",
                  "27": "14",
                  "28": "4.0",
                  "29": "0.7474747474747475",
                  "30": "0.6785714285714286",
                  "31": "0.6785714285714286"
                },
                {
                  "0": "102268",
                  "1": "39469",
                  "2": "0",
                  "3": "1262720385033",
                  "4": "103",
                  "5": "19",
                  "6": "6.740733915590494E-4",
                  "7": "3.214942164299065E-4",
                  "8": "0.2206896551724138",
                  "9": "0.002676895770795649",
                  "10": "2.926981709665422E-4",
                  "11": "0.23308270676691728",
                  "12": "0.0035691943610608656",
                  "13": "2.8978292171057395E-4",
                  "14": "0.20882669537136705",
                  "15": "5",
                  "16": "23",
                  "17": "34",
                  "18": "57",
                  "19": "118",
                  "20": "129",
                  "21": "12",
                  "22": "16",
                  "23": "16",
                  "24": "26",
                  "25": "51",
                  "26": "53",
                  "27": "20",
                  "28": "7.0",
                  "29": "0.8613138686131386",
                  "30": "0.8273809523809523",
                  "31": "0.7993779160186625"
                }
              ],
              "schema": [
                {
                  "key": "0",
                  "name": "user_id",
                  "type": "int"
                },
                {
                  "key": "1",
                  "name": "product_id",
                  "type": "int"
                },
                {
                  "key": "2",
                  "name": "label",
                  "type": "int"
                },
                {
                  "key": "3",
                  "name": "id",
                  "type": "bigint"
                },
                {
                  "key": "4",
                  "name": "aisle_id",
                  "type": "int"
                },
                {
                  "key": "5",
                  "name": "department_id",
                  "type": "int"
                },
                {
                  "key": "6",
                  "name": "product_shr_distinct_users_last_30_days",
                  "type": "double"
                },
                {
                  "key": "7",
                  "name": "product_shr_distinct_orders_last_30_days",
                  "type": "double"
                },
                {
                  "key": "8",
                  "name": "product_shr_reordered_last_30_days",
                  "type": "double"
                },
                {
                  "key": "9",
                  "name": "product_shr_distinct_users_last_180_days",
                  "type": "double"
                },
                {
                  "key": "10",
                  "name": "product_shr_distinct_orders_last_180_days",
                  "type": "double"
                },
                {
                  "key": "11",
                  "name": "product_shr_reordered_last_180_days",
                  "type": "double"
                },
                {
                  "key": "12",
                  "name": "product_shr_distinct_users_last_360_days",
                  "type": "double"
                },
                {
                  "key": "13",
                  "name": "product_shr_distinct_orders_last_360_days",
                  "type": "double"
                },
                {
                  "key": "14",
                  "name": "product_shr_reordered_last_360_days",
                  "type": "double"
                },
                {
                  "key": "15",
                  "name": "user_cnt_distinct_order_id_last_30_days",
                  "type": "bigint"
                },
                {
                  "key": "16",
                  "name": "user_cnt_distinct_order_id_last_180_days",
                  "type": "bigint"
                },
                {
                  "key": "17",
                  "name": "user_cnt_distinct_order_id_last_360_days",
                  "type": "bigint"
                },
                {
                  "key": "18",
                  "name": "user_cnt_distinct_product_id_last_30_days",
                  "type": "bigint"
                },
                {
                  "key": "19",
                  "name": "user_cnt_distinct_product_id_last_180_days",
                  "type": "bigint"
                },
                {
                  "key": "20",
                  "name": "user_cnt_distinct_product_id_last_360_days",
                  "type": "bigint"
                },
                {
                  "key": "21",
                  "name": "user_cnt_distinct_department_id_last_30_days",
                  "type": "bigint"
                },
                {
                  "key": "22",
                  "name": "user_cnt_distinct_department_id_last_180_days",
                  "type": "bigint"
                },
                {
                  "key": "23",
                  "name": "user_cnt_distinct_department_id_last_360_days",
                  "type": "bigint"
                },
                {
                  "key": "24",
                  "name": "user_cnt_distinct_aisle_id_last_30_days",
                  "type": "bigint"
                },
                {
                  "key": "25",
                  "name": "user_cnt_distinct_aisle_id_last_180_days",
                  "type": "bigint"
                },
                {
                  "key": "26",
                  "name": "user_cnt_distinct_aisle_id_last_360_days",
                  "type": "bigint"
                },
                {
                  "key": "27",
                  "name": "user_med_lines_per_order",
                  "type": "bigint"
                },
                {
                  "key": "28",
                  "name": "user_med_days_since_prior_order",
                  "type": "float"
                },
                {
                  "key": "29",
                  "name": "user_shr_reordered_last_30_days",
                  "type": "double"
                },
                {
                  "key": "30",
                  "name": "user_shr_reordered_last_180_days",
                  "type": "double"
                },
                {
                  "key": "31",
                  "name": "user_shr_reordered_last_360_days",
                  "type": "double"
                }
              ],
              "truncated": false
            },
            "isSummary": false,
            "language": "scala"
          },
          "persist_state": {
            "view": {
              "type": "details",
              "tableOptions": {},
              "chartOptions": {
                "chartType": "bar",
                "aggregationType": "sum",
                "categoryFieldKeys": [
                  "1"
                ],
                "seriesFieldKeys": [
                  "0"
                ],
                "isStacked": false
              }
            }
          }
        }
      }
    }
  },
  "nbformat": 4,
  "nbformat_minor": 2
}