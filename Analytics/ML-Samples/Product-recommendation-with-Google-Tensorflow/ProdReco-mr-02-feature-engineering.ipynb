{
  "cells": [
    {
      "cell_type": "markdown",
      "source": [
        "# Product recommendation with Google Tensorflow \n",
        "#### Dataset download > \n",
        "* #### [Instacart](https://www.kaggle.com/c/instacart-market-basket-analysis)\n",
        "\n",
        "#### Concepts, tools, libraries used >\n",
        "* #### [Wide & Deep](https://ai.googleblog.com/2016/06/wide-deep-learning-better-together-with.html)\n",
        "* #### [Tensorflow](https://www.tensorflow.org/)\n",
        "* #### [Petastorm](https://github.com/uber/petastorm)\n",
        "* #### [Hyperopt](https://github.com/hyperopt/hyperopt)\n",
        "* #### [MLFlow](https://mlflow.org/)\n",
        "\n",
        "This is a series of three notebooks. This is notebook #2. The purpose of this notebook is to engineer the features we will use to build a \"Wide & Deep\" collaborative filter recommender.  \n",
        "This notebook was run on Azure Synapse."
      ],
      "metadata": {
        "application/vnd.databricks.v1+cell": {
          "title": "",
          "showTitle": false,
          "inputWidgets": {},
          "nuid": "070afccc-d2d5-4955-8388-5abfa9119d71"
        }
      }
    },
    {
      "cell_type": "code",
      "source": [
        "from pyspark.sql import functions as f"
      ],
      "outputs": [
        {
          "output_type": "display_data",
          "data": {
            "application/vnd.livy.statement-meta+json": {
              "spark_pool": "SparkGPU",
              "session_id": 2,
              "statement_id": 1,
              "state": "finished",
              "livy_statement_state": "available",
              "queued_time": "2022-06-23T04:51:25.2767802Z",
              "session_start_time": "2022-06-23T04:51:25.3207826Z",
              "execution_start_time": "2022-06-23T04:52:26.6770834Z",
              "execution_finish_time": "2022-06-23T04:52:26.820848Z"
            },
            "text/plain": "StatementMeta(SparkGPU, 2, 1, Finished, Available)"
          },
          "metadata": {}
        }
      ],
      "execution_count": 2,
      "metadata": {
        "application/vnd.databricks.v1+cell": {
          "title": "Import Required Libraries",
          "showTitle": true,
          "inputWidgets": {},
          "nuid": "1ef0bd13-1617-48c7-ba9a-b9b0d3e26297"
        }
      }
    },
    {
      "cell_type": "markdown",
      "source": [
        "## Step 1: Calculate Base Metrics\n",
        "\n",
        "Model-based collaborative filters use user and product features to predict a future purchase or interaction.  The [wide-and-deep model](https://arxiv.org/abs/1606.07792) does this recognizing that a customer's future purchases are likely to be a result of prior user-product interactions as well as general patterns surrounding user-product preferences. In this regard, it balances a specific user's preference for particular products with more generalized preferences that would influence the purchase of new, *i.e.* previously unpurchased, items.  \n",
        "\n",
        "For the wide-part of the model, the features are straightforward: we make use of the user and the product IDs to *memorize* preferences.  For the deep-part of the model, we need a variety of features that describe the user and the products to enable *generalization*.  These features are derived from metrics extracted from our historical data, labeled here as the *prior* evaluation set:"
      ],
      "metadata": {
        "application/vnd.databricks.v1+cell": {
          "title": "",
          "showTitle": false,
          "inputWidgets": {},
          "nuid": "45fe605a-054f-4c33-85d3-e228eab0336b"
        }
      }
    },
    {
      "cell_type": "code",
      "source": [
        "order_details_ = spark.table('instacart.order_details').cache()\n",
        "prior_order_details = order_details_.filter(f.expr(\"eval_set='prior'\"))"
      ],
      "outputs": [
        {
          "output_type": "display_data",
          "data": {
            "application/vnd.livy.statement-meta+json": {
              "spark_pool": "SparkGPU",
              "session_id": 2,
              "statement_id": 2,
              "state": "finished",
              "livy_statement_state": "available",
              "queued_time": "2022-06-23T04:52:55.7243857Z",
              "session_start_time": null,
              "execution_start_time": "2022-06-23T04:52:55.8249177Z",
              "execution_finish_time": "2022-06-23T04:53:37.2107126Z"
            },
            "text/plain": "StatementMeta(SparkGPU, 2, 2, Finished, Available)"
          },
          "metadata": {}
        }
      ],
      "execution_count": 3,
      "metadata": {
        "application/vnd.databricks.v1+cell": {
          "title": "Retrieve Prior Orders",
          "showTitle": true,
          "inputWidgets": {},
          "nuid": "036e63df-1e96-412a-85e5-2f92f1b31ffe"
        }
      }
    },
    {
      "cell_type": "markdown",
      "source": [
        "Many of our deep-features will be calculated based on orders place a fixed number of days prior to the last order placed.  We will arbitrarily set these intervals as 30-days, 180-days and 360-days prior:"
      ],
      "metadata": {
        "application/vnd.databricks.v1+cell": {
          "title": "",
          "showTitle": false,
          "inputWidgets": {},
          "nuid": "985567ac-b73f-4acb-8fda-d5be35f7b438"
        }
      }
    },
    {
      "cell_type": "code",
      "source": [
        "prior_days = [30, 180, 360]"
      ],
      "outputs": [
        {
          "output_type": "display_data",
          "data": {
            "application/vnd.livy.statement-meta+json": {
              "spark_pool": "SparkGPU",
              "session_id": 2,
              "statement_id": 3,
              "state": "finished",
              "livy_statement_state": "available",
              "queued_time": "2022-06-23T04:53:49.0105794Z",
              "session_start_time": null,
              "execution_start_time": "2022-06-23T04:53:49.1208526Z",
              "execution_finish_time": "2022-06-23T04:53:49.273106Z"
            },
            "text/plain": "StatementMeta(SparkGPU, 2, 3, Finished, Available)"
          },
          "metadata": {}
        }
      ],
      "execution_count": 4,
      "metadata": {
        "application/vnd.databricks.v1+cell": {
          "title": "Set Days-Prior Boundaries",
          "showTitle": true,
          "inputWidgets": {},
          "nuid": "935328ab-2847-4503-bf06-42850ba64246"
        }
      }
    },
    {
      "cell_type": "markdown",
      "source": [
        "We can now calculate counts for various distinct elements observed within these prior windows.  These global metrics will be used to convert totals derived below into ratios in later steps. Because of the redundant nature of the metric definitions, we will iteratively construct these metrics before asking Spark to resolve them for us:"
      ],
      "metadata": {
        "application/vnd.databricks.v1+cell": {
          "title": "",
          "showTitle": false,
          "inputWidgets": {},
          "nuid": "30d50ded-ee1e-4e24-b3ce-ea5c53aed510"
        }
      }
    },
    {
      "cell_type": "code",
      "source": [
        "# calculate metrics for the following fields and time intervals\n",
        "aggregations = []\n",
        "for column in ['order_id', 'user_id', 'product_id', 'department_id', 'aisle_id']:\n",
        "  for prior_day in prior_days:\n",
        "    \n",
        "    # count distinct instances in the field during this time-range\n",
        "    aggregations += [\n",
        "      f.countDistinct(\n",
        "        f.expr(\n",
        "          'CASE WHEN (days_prior_to_last_order <= {0}) THEN {1} ELSE NULL END'.format(prior_day, column))\n",
        "        ).alias('global_cnt_distinct_{1}_last_{0}_days'.format(prior_day, column))]\n",
        "    \n",
        "# execute metric definitions\n",
        "global_metrics = (\n",
        "  prior_order_details\n",
        "  ).agg(*aggregations)\n",
        "\n",
        "# show results\n",
        "display(global_metrics)"
      ],
      "outputs": [
        {
          "output_type": "display_data",
          "data": {
            "application/vnd.livy.statement-meta+json": {
              "spark_pool": "SparkGPU",
              "session_id": 2,
              "statement_id": 4,
              "state": "finished",
              "livy_statement_state": "available",
              "queued_time": "2022-06-23T04:53:55.8127014Z",
              "session_start_time": null,
              "execution_start_time": "2022-06-23T04:53:55.9102212Z",
              "execution_finish_time": "2022-06-23T04:54:46.5085764Z"
            },
            "text/plain": "StatementMeta(SparkGPU, 2, 4, Finished, Available)"
          },
          "metadata": {}
        },
        {
          "output_type": "display_data",
          "data": {
            "application/vnd.synapse.widget-view+json": {
              "widget_id": "129270e7-91de-4c81-9b5b-c01f11788224",
              "widget_type": "Synapse.DataFrame"
            },
            "text/plain": "SynapseWidget(Synapse.DataFrame, 129270e7-91de-4c81-9b5b-c01f11788224)"
          },
          "metadata": {}
        }
      ],
      "execution_count": 5,
      "metadata": {
        "application/vnd.databricks.v1+cell": {
          "title": "Calculate Global Metrics",
          "showTitle": true,
          "inputWidgets": {},
          "nuid": "b0a4e229-896f-4a5c-8b50-e637eb9940e0"
        },
        "collapsed": false
      }
    },
    {
      "cell_type": "markdown",
      "source": [
        "We now calculate product-specific metrics:"
      ],
      "metadata": {
        "application/vnd.databricks.v1+cell": {
          "title": "",
          "showTitle": false,
          "inputWidgets": {},
          "nuid": "f33e9207-2a6c-4f7a-9b39-f2166e857a5d"
        }
      }
    },
    {
      "cell_type": "code",
      "source": [
        "# calculate metrics for the following fields and time intervals\n",
        "aggregations = []\n",
        "\n",
        "# distinct count metrics\n",
        "for column in ['order_id', 'user_id']:\n",
        "  for prior_day in prior_days:\n",
        "    \n",
        "    aggregations += [\n",
        "      f.countDistinct(\n",
        "        f.expr(\n",
        "          'CASE WHEN (days_prior_to_last_order <= {0}) THEN {1} ELSE NULL END'.format(prior_day, column))\n",
        "        ).alias('product_cnt_distinct_{1}_last_{0}_days'.format(prior_day, column))]\n",
        "\n",
        "# occurrence count metrics\n",
        "for column in ['reordered', 1]:\n",
        "  for prior_day in prior_days:\n",
        "    \n",
        "    aggregations += [\n",
        "      f.sum(\n",
        "        f.expr(\n",
        "          'CASE WHEN (days_prior_to_last_order <= {0}) THEN {1} ELSE NULL END'.format(prior_day, column))\n",
        "        ).alias('product_sum_{1}_last_{0}_days'.format(prior_day, column))]\n",
        "    \n",
        "# get last assigned department & aisle for each product\n",
        "  product_cat = (\n",
        "    prior_order_details\n",
        "      .select('product_id','aisle_id','department_id','order_id')\n",
        "      .withColumn('aisle_id', f.expr('LAST(aisle_id) OVER(PARTITION BY product_id ORDER BY order_id)'))\n",
        "      .withColumn('department_id', f.expr('LAST(department_id) OVER(PARTITION BY product_id ORDER BY order_id)'))\n",
        "      .select('product_id','aisle_id','department_id')\n",
        "      .distinct()\n",
        "    )\n",
        "\n",
        "# execute metric definitions\n",
        "product_metrics = (\n",
        "  prior_order_details\n",
        "    .groupBy('product_id')\n",
        "      .agg(*aggregations)\n",
        "    .join(product_cat, on='product_id')\n",
        "  )\n",
        "\n",
        "# show results\n",
        "display(product_metrics.limit(10))"
      ],
      "outputs": [
        {
          "output_type": "display_data",
          "data": {
            "application/vnd.livy.statement-meta+json": {
              "spark_pool": "SparkGPU",
              "session_id": 2,
              "statement_id": 5,
              "state": "finished",
              "livy_statement_state": "available",
              "queued_time": "2022-06-23T04:55:23.502196Z",
              "session_start_time": null,
              "execution_start_time": "2022-06-23T04:55:23.6006493Z",
              "execution_finish_time": "2022-06-23T04:55:39.5751933Z"
            },
            "text/plain": "StatementMeta(SparkGPU, 2, 5, Finished, Available)"
          },
          "metadata": {}
        },
        {
          "output_type": "display_data",
          "data": {
            "application/vnd.synapse.widget-view+json": {
              "widget_id": "84b96166-4242-4104-bbdd-b7775f5ff838",
              "widget_type": "Synapse.DataFrame"
            },
            "text/plain": "SynapseWidget(Synapse.DataFrame, 84b96166-4242-4104-bbdd-b7775f5ff838)"
          },
          "metadata": {}
        }
      ],
      "execution_count": 6,
      "metadata": {
        "application/vnd.databricks.v1+cell": {
          "title": "Calculate Product Metrics",
          "showTitle": true,
          "inputWidgets": {},
          "nuid": "97cf66d3-7d72-4169-88f0-0a379d04a174"
        },
        "collapsed": false
      }
    },
    {
      "cell_type": "markdown",
      "source": [
        "And now we calculate user-specific metrics:"
      ],
      "metadata": {
        "application/vnd.databricks.v1+cell": {
          "title": "",
          "showTitle": false,
          "inputWidgets": {},
          "nuid": "d6a8ddf7-2666-4085-a572-95277242b033"
        }
      }
    },
    {
      "cell_type": "code",
      "source": [
        "# calculate metrics for the following fields and time intervals\n",
        "aggregations = []\n",
        "\n",
        "# distinct count metrics\n",
        "for column in ['order_id', 'product_id', 'department_id', 'aisle_id']:\n",
        "  for prior_day in prior_days:\n",
        "    \n",
        "    aggregations += [\n",
        "      f.countDistinct(\n",
        "        f.expr(\n",
        "          'CASE WHEN (days_prior_to_last_order <= {0}) THEN {1} ELSE NULL END'.format(prior_day, column))\n",
        "        ).alias('user_cnt_distinct_{1}_last_{0}_days'.format(prior_day, column))]    \n",
        "\n",
        "# occurrence count metrics\n",
        "for column in ['reordered', 1]:\n",
        "  for prior_day in prior_days:\n",
        "    \n",
        "    aggregations += [\n",
        "      f.sum(\n",
        "        f.expr(\n",
        "          'CASE WHEN (days_prior_to_last_order <= {0}) THEN {1} ELSE NULL END'.format(prior_day, column))\n",
        "        ).alias('user_sum_{1}_last_{0}_days'.format(prior_day, column))]\n",
        "    \n",
        "# execute metric definitions  \n",
        "user_metrics = (\n",
        "  prior_order_details\n",
        "    .groupBy('user_id')\n",
        "      .agg(*aggregations)\n",
        "  )\n",
        "\n",
        "# show results\n",
        "display(user_metrics.limit(10))"
      ],
      "outputs": [
        {
          "output_type": "display_data",
          "data": {
            "application/vnd.livy.statement-meta+json": {
              "spark_pool": "SparkGPU",
              "session_id": 2,
              "statement_id": 6,
              "state": "finished",
              "livy_statement_state": "available",
              "queued_time": "2022-06-23T04:55:23.6198128Z",
              "session_start_time": null,
              "execution_start_time": "2022-06-23T04:55:39.6670073Z",
              "execution_finish_time": "2022-06-23T04:55:48.2954269Z"
            },
            "text/plain": "StatementMeta(SparkGPU, 2, 6, Finished, Available)"
          },
          "metadata": {}
        },
        {
          "output_type": "display_data",
          "data": {
            "application/vnd.synapse.widget-view+json": {
              "widget_id": "dfa0e0a2-533d-4ad1-ae47-efe673a55db8",
              "widget_type": "Synapse.DataFrame"
            },
            "text/plain": "SynapseWidget(Synapse.DataFrame, dfa0e0a2-533d-4ad1-ae47-efe673a55db8)"
          },
          "metadata": {}
        }
      ],
      "execution_count": 7,
      "metadata": {
        "application/vnd.databricks.v1+cell": {
          "title": "Calculate User Metrics ",
          "showTitle": true,
          "inputWidgets": {},
          "nuid": "efbb7702-c51a-4fe4-bed1-0f4dac99dfd0"
        },
        "collapsed": false
      }
    },
    {
      "cell_type": "markdown",
      "source": [
        "## Step 2: Calculate Features\n",
        "\n",
        "With our metrics calculated, we can now use these to generate product-specific features.  We will persist our product-specific features separately from user-features to enable easier data assembly later:"
      ],
      "metadata": {
        "application/vnd.databricks.v1+cell": {
          "title": "",
          "showTitle": false,
          "inputWidgets": {},
          "nuid": "cb7f6078-319b-4080-89a3-d0c87f3118da"
        }
      }
    },
    {
      "cell_type": "code",
      "source": [
        "# calculate product specific features\n",
        "product_feature_definitions = []\n",
        "for prior_day in prior_days:\n",
        "  \n",
        "  # distinct users associated with a product within some number of prior days\n",
        "  product_feature_definitions += [f.expr('product_cnt_distinct_user_id_last_{0}_days/global_cnt_distinct_user_id_last_{0}_days as product_shr_distinct_users_last_{0}_days'.format(prior_day))]\n",
        "  \n",
        "  # distinct orders associated with a product within some number of prior days\n",
        "  product_feature_definitions += [f.expr('product_cnt_distinct_order_id_last_{0}_days/global_cnt_distinct_order_id_last_{0}_days as product_shr_distinct_orders_last_{0}_days'.format(prior_day))]\n",
        "  \n",
        "  # product reorders within some number of prior days\n",
        "  product_feature_definitions += [f.expr('product_sum_reordered_last_{0}_days/product_sum_1_last_{0}_days as product_shr_reordered_last_{0}_days'.format(prior_day))]\n",
        "  \n",
        "# execute features\n",
        "product_features = (\n",
        "  product_metrics\n",
        "    .join(global_metrics) # cross join to a single row\n",
        "    .select(\n",
        "      'product_id',\n",
        "      'aisle_id',\n",
        "      'department_id',\n",
        "      *product_feature_definitions\n",
        "      )\n",
        "  ).na.fill(0) # fill any missing values with 0s\n",
        "\n",
        "# persist data\n",
        "(\n",
        "product_features\n",
        "  .write\n",
        "  .format('delta')\n",
        "  .mode('overwrite')\n",
        "  .option('overwriteSchema','true')\n",
        "  .saveAsTable('instacart.product_features')\n",
        ")\n",
        "\n",
        "# show results\n",
        "display(spark.table('instacart.product_features').limit(10))"
      ],
      "outputs": [
        {
          "output_type": "display_data",
          "data": {
            "application/vnd.livy.statement-meta+json": {
              "spark_pool": "SparkGPU",
              "session_id": 2,
              "statement_id": 7,
              "state": "finished",
              "livy_statement_state": "available",
              "queued_time": "2022-06-23T04:55:23.7789311Z",
              "session_start_time": null,
              "execution_start_time": "2022-06-23T04:55:48.3901925Z",
              "execution_finish_time": "2022-06-23T04:56:37.5504824Z"
            },
            "text/plain": "StatementMeta(SparkGPU, 2, 7, Finished, Available)"
          },
          "metadata": {}
        },
        {
          "output_type": "display_data",
          "data": {
            "application/vnd.synapse.widget-view+json": {
              "widget_id": "2dbd00a1-05e0-4f8e-8a61-3f692be73d43",
              "widget_type": "Synapse.DataFrame"
            },
            "text/plain": "SynapseWidget(Synapse.DataFrame, 2dbd00a1-05e0-4f8e-8a61-3f692be73d43)"
          },
          "metadata": {}
        }
      ],
      "execution_count": 8,
      "metadata": {
        "application/vnd.databricks.v1+cell": {
          "title": "Product-Specific Features",
          "showTitle": true,
          "inputWidgets": {},
          "nuid": "cd4507f9-0f0d-4d50-ae43-4c6d35913189"
        },
        "collapsed": false
      }
    },
    {
      "cell_type": "markdown",
      "source": [
        "Similarly, we can calculate user-specific features and persist these for later use:"
      ],
      "metadata": {
        "application/vnd.databricks.v1+cell": {
          "title": "",
          "showTitle": false,
          "inputWidgets": {},
          "nuid": "bb81d8ee-543d-4b1a-97d0-020bae86bc94"
        }
      }
    },
    {
      "cell_type": "code",
      "source": [
        "# calculate user-specific order metrics\n",
        "median_cols = ['lines_per_order', 'days_since_prior_order']\n",
        "approx_median_stmt = [f.expr(f'percentile_approx({col}, 0.5)').alias(f'user_med_{col}') for col in median_cols]\n",
        "\n",
        "user_order_features = (\n",
        "  prior_order_details\n",
        "    .groupBy('user_id','order_id')  # get order-specific details for each user\n",
        "      .agg(\n",
        "        f.first('days_since_prior_order').alias('days_since_prior_order'),\n",
        "        f.count('*').alias('lines_per_order')        \n",
        "        )\n",
        "    .groupBy('user_id') # get median values across user orders\n",
        "      .agg(*approx_median_stmt)\n",
        "  ).na.fill(0)\n",
        "\n",
        "# calculate user overall features\n",
        "user_feature_definitions = []\n",
        "user_drop_columns = []\n",
        "\n",
        "for prior_day in prior_days:\n",
        "  user_feature_definitions += [f.expr('user_sum_reordered_last_{0}_days/user_sum_1_last_{0}_days as user_shr_reordered_last_{0}_days'.format(prior_day))]\n",
        "  user_drop_columns += ['user_sum_reordered_last_{0}_days'.format(prior_day)]\n",
        "  user_drop_columns += ['user_sum_1_last_{0}_days'.format(prior_day)]\n",
        "  \n",
        "# assemble final set of user features\n",
        "user_features = (\n",
        "  user_metrics\n",
        "    .join(user_order_features, on=['user_id'])\n",
        "    .select(\n",
        "      f.expr('*'),\n",
        "      *user_feature_definitions\n",
        "      )\n",
        "    .drop(*user_drop_columns)\n",
        "  ).na.fill(0)\n",
        "\n",
        "# persist data\n",
        "(\n",
        "user_features\n",
        "  .write\n",
        "  .format('delta')\n",
        "  .mode('overwrite')\n",
        "  .option('overwriteSchema','true')\n",
        "  .saveAsTable('instacart.user_features')\n",
        ")\n",
        "\n",
        "# show user features\n",
        "display(spark.table('instacart.user_features').limit(10))"
      ],
      "outputs": [
        {
          "output_type": "display_data",
          "data": {
            "application/vnd.livy.statement-meta+json": {
              "spark_pool": "SparkGPU",
              "session_id": 2,
              "statement_id": 8,
              "state": "finished",
              "livy_statement_state": "available",
              "queued_time": "2022-06-23T04:55:24.1272159Z",
              "session_start_time": null,
              "execution_start_time": "2022-06-23T04:56:37.6533328Z",
              "execution_finish_time": "2022-06-23T04:57:25.956355Z"
            },
            "text/plain": "StatementMeta(SparkGPU, 2, 8, Finished, Available)"
          },
          "metadata": {}
        },
        {
          "output_type": "display_data",
          "data": {
            "application/vnd.synapse.widget-view+json": {
              "widget_id": "e78d9e4f-fe4c-4514-81c1-615fb68cea0a",
              "widget_type": "Synapse.DataFrame"
            },
            "text/plain": "SynapseWidget(Synapse.DataFrame, e78d9e4f-fe4c-4514-81c1-615fb68cea0a)"
          },
          "metadata": {}
        }
      ],
      "execution_count": 9,
      "metadata": {
        "application/vnd.databricks.v1+cell": {
          "title": "User-Specific Features",
          "showTitle": true,
          "inputWidgets": {},
          "nuid": "6c161b36-fc81-4ef2-90b3-65df0d89431f"
        },
        "collapsed": false
      }
    },
    {
      "cell_type": "markdown",
      "source": [
        "# Step 3: Generate Labels\n",
        "\n",
        "Now we need to label each user-product pair observed across the dataset.  We will identify each user-product entry with a 1 if that record is something bought by the customer in his or her last purchase, *i.e.* during the *training* period, and a 0 if not:\n",
        "\n",
        "**NOTE** We elected not to examine every user-product combination and instead limited our dataset to those combinations which occurred in the prior or training periods.  This is a choice that others may wish to revisit for their datasets."
      ],
      "metadata": {
        "application/vnd.databricks.v1+cell": {
          "title": "",
          "showTitle": false,
          "inputWidgets": {},
          "nuid": "fa54e4d7-6358-4e4c-bd25-f4038520394f"
        }
      }
    },
    {
      "cell_type": "code",
      "source": [
        "train_labels = (\n",
        "  order_details_\n",
        "    .filter(f.expr(\"eval_set='train'\"))\n",
        "    .select('user_id', 'product_id')\n",
        "    .distinct()\n",
        "    .withColumn('label', f.lit(1))\n",
        "     )\n",
        "\n",
        "labels = (\n",
        "  prior_order_details\n",
        "    .select('user_id','product_id')\n",
        "    .distinct()\n",
        "    .join(train_labels, on=['user_id','product_id'], how='fullouter') # preserve all user-product combinations observed in either period\n",
        "    .withColumn('label',f.expr('coalesce(label,0)'))\n",
        "    .select('user_id','product_id','label')\n",
        "    .withColumn('id', f.monotonically_increasing_id())\n",
        "  )\n",
        "  \n",
        "(\n",
        "  labels\n",
        "    .write\n",
        "    .format('delta')\n",
        "    .mode('overwrite')\n",
        "    .option('overwriteSchema','true')\n",
        "    .saveAsTable('instacart.labels')\n",
        "  )\n",
        "  \n",
        "display(spark.table('instacart.labels').limit(10))"
      ],
      "outputs": [
        {
          "output_type": "display_data",
          "data": {
            "application/vnd.livy.statement-meta+json": {
              "spark_pool": "SparkGPU",
              "session_id": 2,
              "statement_id": 9,
              "state": "finished",
              "livy_statement_state": "available",
              "queued_time": "2022-06-23T04:55:24.2650687Z",
              "session_start_time": null,
              "execution_start_time": "2022-06-23T04:57:26.0543996Z",
              "execution_finish_time": "2022-06-23T04:58:14.0039242Z"
            },
            "text/plain": "StatementMeta(SparkGPU, 2, 9, Finished, Available)"
          },
          "metadata": {}
        },
        {
          "output_type": "display_data",
          "data": {
            "application/vnd.synapse.widget-view+json": {
              "widget_id": "ce1079c2-730f-4714-83cc-f8ed30e75451",
              "widget_type": "Synapse.DataFrame"
            },
            "text/plain": "SynapseWidget(Synapse.DataFrame, ce1079c2-730f-4714-83cc-f8ed30e75451)"
          },
          "metadata": {}
        }
      ],
      "execution_count": 10,
      "metadata": {
        "application/vnd.databricks.v1+cell": {
          "title": "Identify User-Product Combinations in Last Purchase",
          "showTitle": true,
          "inputWidgets": {},
          "nuid": "b37a2c6f-2ced-4289-9f07-b36009a0e7eb"
        },
        "collapsed": false
      }
    }
  ],
  "metadata": {
    "kernelspec": {
      "name": "synapse_pyspark",
      "display_name": "Synapse PySpark"
    },
    "language_info": {
      "name": "python"
    },
    "description": null,
    "save_output": true,
    "synapse_widget": {
      "version": "0.1",
      "state": {
        "129270e7-91de-4c81-9b5b-c01f11788224": {
          "type": "Synapse.DataFrame",
          "sync_state": {
            "table": {
              "rows": [
                {
                  "0": "451019",
                  "1": "2271965",
                  "2": "3205848",
                  "3": "206209",
                  "4": "206209",
                  "5": "206209",
                  "6": "46121",
                  "7": "49591",
                  "8": "49677",
                  "9": "21",
                  "10": "21",
                  "11": "21",
                  "12": "134",
                  "13": "134",
                  "14": "134"
                }
              ],
              "schema": [
                {
                  "key": "0",
                  "name": "global_cnt_distinct_order_id_last_30_days",
                  "type": "bigint"
                },
                {
                  "key": "1",
                  "name": "global_cnt_distinct_order_id_last_180_days",
                  "type": "bigint"
                },
                {
                  "key": "2",
                  "name": "global_cnt_distinct_order_id_last_360_days",
                  "type": "bigint"
                },
                {
                  "key": "3",
                  "name": "global_cnt_distinct_user_id_last_30_days",
                  "type": "bigint"
                },
                {
                  "key": "4",
                  "name": "global_cnt_distinct_user_id_last_180_days",
                  "type": "bigint"
                },
                {
                  "key": "5",
                  "name": "global_cnt_distinct_user_id_last_360_days",
                  "type": "bigint"
                },
                {
                  "key": "6",
                  "name": "global_cnt_distinct_product_id_last_30_days",
                  "type": "bigint"
                },
                {
                  "key": "7",
                  "name": "global_cnt_distinct_product_id_last_180_days",
                  "type": "bigint"
                },
                {
                  "key": "8",
                  "name": "global_cnt_distinct_product_id_last_360_days",
                  "type": "bigint"
                },
                {
                  "key": "9",
                  "name": "global_cnt_distinct_department_id_last_30_days",
                  "type": "bigint"
                },
                {
                  "key": "10",
                  "name": "global_cnt_distinct_department_id_last_180_days",
                  "type": "bigint"
                },
                {
                  "key": "11",
                  "name": "global_cnt_distinct_department_id_last_360_days",
                  "type": "bigint"
                },
                {
                  "key": "12",
                  "name": "global_cnt_distinct_aisle_id_last_30_days",
                  "type": "bigint"
                },
                {
                  "key": "13",
                  "name": "global_cnt_distinct_aisle_id_last_180_days",
                  "type": "bigint"
                },
                {
                  "key": "14",
                  "name": "global_cnt_distinct_aisle_id_last_360_days",
                  "type": "bigint"
                }
              ],
              "truncated": false
            },
            "isSummary": false,
            "language": "scala"
          },
          "persist_state": {
            "view": {
              "type": "details",
              "tableOptions": {},
              "chartOptions": {
                "chartType": "bar",
                "aggregationType": "sum",
                "categoryFieldKeys": [
                  "1"
                ],
                "seriesFieldKeys": [
                  "0"
                ],
                "isStacked": false
              }
            }
          }
        },
        "84b96166-4242-4104-bbdd-b7775f5ff838": {
          "type": "Synapse.DataFrame",
          "sync_state": {
            "table": {
              "rows": [
                {
                  "0": "37006",
                  "1": "26",
                  "2": "130",
                  "3": "159",
                  "4": "20",
                  "5": "59",
                  "6": "69",
                  "7": "17",
                  "8": "77",
                  "9": "90",
                  "10": "26",
                  "11": "130",
                  "12": "159",
                  "13": "93",
                  "14": "3"
                },
                {
                  "0": "37355",
                  "1": "196",
                  "2": "948",
                  "3": "1437",
                  "4": "181",
                  "5": "660",
                  "6": "906",
                  "7": "84",
                  "8": "380",
                  "9": "533",
                  "10": "196",
                  "11": "948",
                  "12": "1437",
                  "13": "19",
                  "14": "13"
                },
                {
                  "0": "37409",
                  "1": "18",
                  "2": "109",
                  "3": "160",
                  "4": "17",
                  "5": "91",
                  "6": "122",
                  "7": "7",
                  "8": "27",
                  "9": "38",
                  "10": "18",
                  "11": "109",
                  "12": "160",
                  "13": "69",
                  "14": "15"
                },
                {
                  "0": "37593",
                  "1": "0",
                  "2": "2",
                  "3": "4",
                  "4": "0",
                  "5": "2",
                  "6": "4",
                  "8": "0",
                  "9": "0",
                  "11": "2",
                  "12": "4",
                  "13": "118",
                  "14": "11"
                },
                {
                  "0": "37657",
                  "1": "12",
                  "2": "54",
                  "3": "90",
                  "4": "9",
                  "5": "12",
                  "6": "15",
                  "7": "11",
                  "8": "47",
                  "9": "75",
                  "10": "12",
                  "11": "54",
                  "12": "90",
                  "13": "54",
                  "14": "17"
                },
                {
                  "0": "37768",
                  "1": "32",
                  "2": "106",
                  "3": "135",
                  "4": "30",
                  "5": "76",
                  "6": "93",
                  "7": "10",
                  "8": "39",
                  "9": "42",
                  "10": "32",
                  "11": "106",
                  "12": "135",
                  "13": "88",
                  "14": "13"
                },
                {
                  "0": "37818",
                  "1": "52",
                  "2": "254",
                  "3": "348",
                  "4": "45",
                  "5": "133",
                  "6": "166",
                  "7": "23",
                  "8": "132",
                  "9": "182",
                  "10": "52",
                  "11": "254",
                  "12": "348",
                  "13": "52",
                  "14": "1"
                },
                {
                  "0": "38146",
                  "1": "7",
                  "2": "73",
                  "3": "132",
                  "4": "6",
                  "5": "28",
                  "6": "37",
                  "7": "4",
                  "8": "52",
                  "9": "95",
                  "10": "7",
                  "11": "73",
                  "12": "132",
                  "13": "120",
                  "14": "16"
                },
                {
                  "0": "38152",
                  "1": "22",
                  "2": "76",
                  "3": "85",
                  "4": "15",
                  "5": "39",
                  "6": "46",
                  "7": "14",
                  "8": "38",
                  "9": "39",
                  "10": "22",
                  "11": "76",
                  "12": "85",
                  "13": "8",
                  "14": "3"
                },
                {
                  "0": "38270",
                  "1": "0",
                  "2": "3",
                  "3": "5",
                  "4": "0",
                  "5": "3",
                  "6": "5",
                  "8": "0",
                  "9": "0",
                  "11": "3",
                  "12": "5",
                  "13": "6",
                  "14": "2"
                }
              ],
              "schema": [
                {
                  "key": "0",
                  "name": "product_id",
                  "type": "int"
                },
                {
                  "key": "1",
                  "name": "product_cnt_distinct_order_id_last_30_days",
                  "type": "bigint"
                },
                {
                  "key": "2",
                  "name": "product_cnt_distinct_order_id_last_180_days",
                  "type": "bigint"
                },
                {
                  "key": "3",
                  "name": "product_cnt_distinct_order_id_last_360_days",
                  "type": "bigint"
                },
                {
                  "key": "4",
                  "name": "product_cnt_distinct_user_id_last_30_days",
                  "type": "bigint"
                },
                {
                  "key": "5",
                  "name": "product_cnt_distinct_user_id_last_180_days",
                  "type": "bigint"
                },
                {
                  "key": "6",
                  "name": "product_cnt_distinct_user_id_last_360_days",
                  "type": "bigint"
                },
                {
                  "key": "7",
                  "name": "product_sum_reordered_last_30_days",
                  "type": "bigint"
                },
                {
                  "key": "8",
                  "name": "product_sum_reordered_last_180_days",
                  "type": "bigint"
                },
                {
                  "key": "9",
                  "name": "product_sum_reordered_last_360_days",
                  "type": "bigint"
                },
                {
                  "key": "10",
                  "name": "product_sum_1_last_30_days",
                  "type": "bigint"
                },
                {
                  "key": "11",
                  "name": "product_sum_1_last_180_days",
                  "type": "bigint"
                },
                {
                  "key": "12",
                  "name": "product_sum_1_last_360_days",
                  "type": "bigint"
                },
                {
                  "key": "13",
                  "name": "aisle_id",
                  "type": "int"
                },
                {
                  "key": "14",
                  "name": "department_id",
                  "type": "int"
                }
              ],
              "truncated": false
            },
            "isSummary": false,
            "language": "scala"
          },
          "persist_state": {
            "view": {
              "type": "details",
              "tableOptions": {},
              "chartOptions": {
                "chartType": "bar",
                "aggregationType": "sum",
                "categoryFieldKeys": [
                  "1"
                ],
                "seriesFieldKeys": [
                  "0"
                ],
                "isStacked": false
              }
            }
          }
        },
        "dfa0e0a2-533d-4ad1-ae47-efe673a55db8": {
          "type": "Synapse.DataFrame",
          "sync_state": {
            "table": {
              "rows": [
                {
                  "0": "31",
                  "1": "5",
                  "2": "20",
                  "3": "20",
                  "4": "91",
                  "5": "190",
                  "6": "190",
                  "7": "14",
                  "8": "15",
                  "9": "15",
                  "10": "31",
                  "11": "48",
                  "12": "48",
                  "13": "47",
                  "14": "109",
                  "15": "109",
                  "16": "99",
                  "17": "299",
                  "18": "299"
                },
                {
                  "0": "516",
                  "1": "9",
                  "2": "43",
                  "3": "91",
                  "4": "41",
                  "5": "108",
                  "6": "162",
                  "7": "11",
                  "8": "15",
                  "9": "15",
                  "10": "22",
                  "11": "41",
                  "12": "44",
                  "13": "78",
                  "14": "349",
                  "15": "733",
                  "16": "89",
                  "17": "399",
                  "18": "869"
                },
                {
                  "0": "1139",
                  "1": "1",
                  "2": "14",
                  "3": "28",
                  "4": "22",
                  "5": "159",
                  "6": "249",
                  "7": "9",
                  "8": "16",
                  "9": "18",
                  "10": "14",
                  "11": "68",
                  "12": "87",
                  "13": "19",
                  "14": "143",
                  "15": "332",
                  "16": "22",
                  "17": "267",
                  "18": "571"
                },
                {
                  "0": "1143",
                  "1": "1",
                  "2": "3",
                  "3": "3",
                  "4": "13",
                  "5": "17",
                  "6": "17",
                  "7": "5",
                  "8": "5",
                  "9": "5",
                  "10": "8",
                  "11": "8",
                  "12": "8",
                  "13": "3",
                  "14": "4",
                  "15": "4",
                  "16": "13",
                  "17": "21",
                  "18": "21"
                },
                {
                  "0": "1270",
                  "1": "1",
                  "2": "10",
                  "3": "12",
                  "4": "8",
                  "5": "46",
                  "6": "59",
                  "7": "4",
                  "8": "12",
                  "9": "12",
                  "10": "6",
                  "11": "29",
                  "12": "35",
                  "13": "2",
                  "14": "17",
                  "15": "17",
                  "16": "8",
                  "17": "63",
                  "18": "76"
                },
                {
                  "0": "1303",
                  "1": "1",
                  "2": "6",
                  "3": "6",
                  "4": "22",
                  "5": "65",
                  "6": "65",
                  "7": "10",
                  "8": "13",
                  "9": "13",
                  "10": "18",
                  "11": "33",
                  "12": "33",
                  "13": "15",
                  "14": "48",
                  "15": "48",
                  "16": "22",
                  "17": "113",
                  "18": "113"
                },
                {
                  "0": "1322",
                  "1": "1",
                  "2": "4",
                  "3": "4",
                  "4": "3",
                  "5": "15",
                  "6": "15",
                  "7": "2",
                  "8": "4",
                  "9": "4",
                  "10": "3",
                  "11": "11",
                  "12": "11",
                  "13": "0",
                  "14": "2",
                  "15": "2",
                  "16": "3",
                  "17": "17",
                  "18": "17"
                },
                {
                  "0": "1339",
                  "1": "1",
                  "2": "7",
                  "3": "7",
                  "4": "12",
                  "5": "60",
                  "6": "60",
                  "7": "6",
                  "8": "10",
                  "9": "10",
                  "10": "10",
                  "11": "29",
                  "12": "29",
                  "13": "9",
                  "14": "60",
                  "15": "60",
                  "16": "12",
                  "17": "120",
                  "18": "120"
                },
                {
                  "0": "1352",
                  "1": "1",
                  "2": "17",
                  "3": "29",
                  "4": "7",
                  "5": "117",
                  "6": "171",
                  "7": "4",
                  "8": "15",
                  "9": "15",
                  "10": "6",
                  "11": "48",
                  "12": "58",
                  "13": "5",
                  "14": "104",
                  "15": "162",
                  "16": "7",
                  "17": "195",
                  "18": "333"
                },
                {
                  "0": "1618",
                  "1": "1",
                  "2": "4",
                  "3": "4",
                  "4": "10",
                  "5": "41",
                  "6": "41",
                  "7": "5",
                  "8": "10",
                  "9": "10",
                  "10": "7",
                  "11": "22",
                  "12": "22",
                  "13": "8",
                  "14": "21",
                  "15": "21",
                  "16": "10",
                  "17": "62",
                  "18": "62"
                }
              ],
              "schema": [
                {
                  "key": "0",
                  "name": "user_id",
                  "type": "int"
                },
                {
                  "key": "1",
                  "name": "user_cnt_distinct_order_id_last_30_days",
                  "type": "bigint"
                },
                {
                  "key": "2",
                  "name": "user_cnt_distinct_order_id_last_180_days",
                  "type": "bigint"
                },
                {
                  "key": "3",
                  "name": "user_cnt_distinct_order_id_last_360_days",
                  "type": "bigint"
                },
                {
                  "key": "4",
                  "name": "user_cnt_distinct_product_id_last_30_days",
                  "type": "bigint"
                },
                {
                  "key": "5",
                  "name": "user_cnt_distinct_product_id_last_180_days",
                  "type": "bigint"
                },
                {
                  "key": "6",
                  "name": "user_cnt_distinct_product_id_last_360_days",
                  "type": "bigint"
                },
                {
                  "key": "7",
                  "name": "user_cnt_distinct_department_id_last_30_days",
                  "type": "bigint"
                },
                {
                  "key": "8",
                  "name": "user_cnt_distinct_department_id_last_180_days",
                  "type": "bigint"
                },
                {
                  "key": "9",
                  "name": "user_cnt_distinct_department_id_last_360_days",
                  "type": "bigint"
                },
                {
                  "key": "10",
                  "name": "user_cnt_distinct_aisle_id_last_30_days",
                  "type": "bigint"
                },
                {
                  "key": "11",
                  "name": "user_cnt_distinct_aisle_id_last_180_days",
                  "type": "bigint"
                },
                {
                  "key": "12",
                  "name": "user_cnt_distinct_aisle_id_last_360_days",
                  "type": "bigint"
                },
                {
                  "key": "13",
                  "name": "user_sum_reordered_last_30_days",
                  "type": "bigint"
                },
                {
                  "key": "14",
                  "name": "user_sum_reordered_last_180_days",
                  "type": "bigint"
                },
                {
                  "key": "15",
                  "name": "user_sum_reordered_last_360_days",
                  "type": "bigint"
                },
                {
                  "key": "16",
                  "name": "user_sum_1_last_30_days",
                  "type": "bigint"
                },
                {
                  "key": "17",
                  "name": "user_sum_1_last_180_days",
                  "type": "bigint"
                },
                {
                  "key": "18",
                  "name": "user_sum_1_last_360_days",
                  "type": "bigint"
                }
              ],
              "truncated": false
            },
            "isSummary": false,
            "language": "scala"
          },
          "persist_state": {
            "view": {
              "type": "details",
              "tableOptions": {},
              "chartOptions": {
                "chartType": "bar",
                "aggregationType": "sum",
                "categoryFieldKeys": [
                  "1"
                ],
                "seriesFieldKeys": [
                  "0"
                ],
                "isStacked": false
              }
            }
          }
        },
        "2dbd00a1-05e0-4f8e-8a61-3f692be73d43": {
          "type": "Synapse.DataFrame",
          "sync_state": {
            "table": {
              "rows": [
                {
                  "0": "16565",
                  "1": "21",
                  "2": "16",
                  "3": "8.729007948246682E-5",
                  "4": "4.4344029852400893E-5",
                  "5": "0.15",
                  "6": "2.909669316082227E-4",
                  "7": "3.25709242880062E-5",
                  "8": "0.2702702702702703",
                  "9": "3.5400976679000434E-4",
                  "10": "3.1192994801999344E-5",
                  "11": "0.28"
                },
                {
                  "0": "16706",
                  "1": "108",
                  "2": "16",
                  "3": "1.4548346580411136E-5",
                  "4": "6.651604477860135E-6",
                  "5": "0.0",
                  "6": "1.5518236352438545E-4",
                  "7": "1.5405166892975906E-5",
                  "8": "0.11428571428571428",
                  "9": "1.9882740326561887E-4",
                  "10": "1.4660707556939693E-5",
                  "11": "0.1276595744680851"
                },
                {
                  "0": "16999",
                  "1": "17",
                  "2": "13",
                  "3": "9.69889772027409E-6",
                  "4": "4.434402985240089E-6",
                  "5": "0.0",
                  "6": "3.394614202095932E-5",
                  "7": "3.521181004108778E-6",
                  "8": "0.125",
                  "9": "3.394614202095932E-5",
                  "10": "2.4954395841599477E-6",
                  "11": "0.125"
                },
                {
                  "0": "17113",
                  "1": "40",
                  "2": "8",
                  "3": "0.0",
                  "4": "0.0",
                  "5": "0.0",
                  "6": "4.849448860137045E-6",
                  "7": "4.4014762551359726E-7",
                  "8": "0.0",
                  "9": "9.69889772027409E-6",
                  "10": "6.238598960399869E-7",
                  "11": "0.0"
                },
                {
                  "0": "17154",
                  "1": "31",
                  "2": "7",
                  "3": "4.073537042515118E-4",
                  "4": "2.1285134329152432E-4",
                  "5": "0.4270833333333333",
                  "6": "0.0012802544990761799",
                  "7": "1.7429845970338452E-4",
                  "8": "0.3888888888888889",
                  "9": "0.0016197159192857732",
                  "10": "1.7748814042337627E-4",
                  "11": "0.4165202108963093"
                },
                {
                  "0": "17190",
                  "1": "17",
                  "2": "13",
                  "3": "4.849448860137046E-5",
                  "4": "2.4389216418820493E-5",
                  "5": "0.5454545454545454",
                  "6": "2.618702384474004E-4",
                  "7": "3.0370186160438212E-5",
                  "8": "0.2463768115942029",
                  "9": "3.055152781886339E-4",
                  "10": "2.5578255737639464E-5",
                  "11": "0.23170731707317074"
                },
                {
                  "0": "17836",
                  "1": "127",
                  "2": "11",
                  "3": "7.904601642023385E-4",
                  "4": "3.9909626867160806E-4",
                  "5": "0.4444444444444444",
                  "6": "0.002468369469809756",
                  "7": "3.2835012863314356E-4",
                  "8": "0.40884718498659517",
                  "9": "0.002972712151264009",
                  "10": "3.106822282279135E-4",
                  "11": "0.38755020080321284"
                },
                {
                  "0": "17950",
                  "1": "52",
                  "2": "1",
                  "3": "4.364503974123341E-5",
                  "4": "3.104082089668063E-5",
                  "5": "0.9285714285714286",
                  "6": "1.7458015896493364E-4",
                  "7": "3.521181004108778E-5",
                  "8": "0.6",
                  "9": "2.1337574984603E-4",
                  "10": "3.400036433417929E-5",
                  "11": "0.6146788990825688"
                },
                {
                  "0": "18328",
                  "1": "98",
                  "2": "7",
                  "3": "1.4548346580411136E-5",
                  "4": "6.651604477860135E-6",
                  "5": "1.0",
                  "6": "3.879559088109636E-5",
                  "7": "1.4084724016435112E-5",
                  "8": "0.78125",
                  "9": "3.879559088109636E-5",
                  "10": "1.1229478128719765E-5",
                  "11": "0.7777777777777778"
                },
                {
                  "0": "18334",
                  "1": "102",
                  "2": "18",
                  "3": "1.3578456808383728E-4",
                  "4": "6.208164179336126E-5",
                  "5": "0.35714285714285715",
                  "6": "5.722349654961713E-4",
                  "7": "6.734258670358038E-5",
                  "8": "0.32679738562091504",
                  "9": "6.789228404191864E-4",
                  "10": "6.425756929211866E-5",
                  "11": "0.32038834951456313"
                }
              ],
              "schema": [
                {
                  "key": "0",
                  "name": "product_id",
                  "type": "int"
                },
                {
                  "key": "1",
                  "name": "aisle_id",
                  "type": "int"
                },
                {
                  "key": "2",
                  "name": "department_id",
                  "type": "int"
                },
                {
                  "key": "3",
                  "name": "product_shr_distinct_users_last_30_days",
                  "type": "double"
                },
                {
                  "key": "4",
                  "name": "product_shr_distinct_orders_last_30_days",
                  "type": "double"
                },
                {
                  "key": "5",
                  "name": "product_shr_reordered_last_30_days",
                  "type": "double"
                },
                {
                  "key": "6",
                  "name": "product_shr_distinct_users_last_180_days",
                  "type": "double"
                },
                {
                  "key": "7",
                  "name": "product_shr_distinct_orders_last_180_days",
                  "type": "double"
                },
                {
                  "key": "8",
                  "name": "product_shr_reordered_last_180_days",
                  "type": "double"
                },
                {
                  "key": "9",
                  "name": "product_shr_distinct_users_last_360_days",
                  "type": "double"
                },
                {
                  "key": "10",
                  "name": "product_shr_distinct_orders_last_360_days",
                  "type": "double"
                },
                {
                  "key": "11",
                  "name": "product_shr_reordered_last_360_days",
                  "type": "double"
                }
              ],
              "truncated": false
            },
            "isSummary": false,
            "language": "scala"
          },
          "persist_state": {
            "view": {
              "type": "details",
              "tableOptions": {},
              "chartOptions": {
                "chartType": "bar",
                "aggregationType": "sum",
                "categoryFieldKeys": [
                  "1"
                ],
                "seriesFieldKeys": [
                  "0"
                ],
                "isStacked": false
              }
            }
          }
        },
        "e78d9e4f-fe4c-4514-81c1-615fb68cea0a": {
          "type": "Synapse.DataFrame",
          "sync_state": {
            "table": {
              "rows": [
                {
                  "0": "206085",
                  "1": "2",
                  "2": "5",
                  "3": "5",
                  "4": "11",
                  "5": "44",
                  "6": "44",
                  "7": "7",
                  "8": "13",
                  "9": "13",
                  "10": "10",
                  "11": "26",
                  "12": "26",
                  "13": "9",
                  "14": "21.0",
                  "15": "0.08333333333333333",
                  "16": "0.06382978723404255",
                  "17": "0.06382978723404255"
                },
                {
                  "0": "206204",
                  "1": "1",
                  "2": "4",
                  "3": "4",
                  "4": "17",
                  "5": "43",
                  "6": "43",
                  "7": "7",
                  "8": "12",
                  "9": "12",
                  "10": "11",
                  "11": "29",
                  "12": "29",
                  "13": "10",
                  "14": "11.0",
                  "15": "0.29411764705882354",
                  "16": "0.2037037037037037",
                  "17": "0.2037037037037037"
                },
                {
                  "0": "49025",
                  "1": "1",
                  "2": "7",
                  "3": "8",
                  "4": "10",
                  "5": "51",
                  "6": "51",
                  "7": "3",
                  "8": "12",
                  "9": "12",
                  "10": "6",
                  "11": "21",
                  "12": "21",
                  "13": "12",
                  "14": "22.0",
                  "15": "0.9",
                  "16": "0.48863636363636365",
                  "17": "0.4574468085106383"
                },
                {
                  "0": "49681",
                  "1": "1",
                  "2": "6",
                  "3": "6",
                  "4": "1",
                  "5": "5",
                  "6": "5",
                  "7": "1",
                  "8": "2",
                  "9": "2",
                  "10": "1",
                  "11": "3",
                  "12": "3",
                  "13": "2",
                  "14": "13.0",
                  "15": "1.0",
                  "16": "0.5454545454545454",
                  "17": "0.5454545454545454"
                },
                {
                  "0": "50333",
                  "1": "1",
                  "2": "3",
                  "3": "3",
                  "4": "13",
                  "5": "32",
                  "6": "32",
                  "7": "4",
                  "8": "6",
                  "9": "6",
                  "10": "8",
                  "11": "14",
                  "12": "14",
                  "13": "13",
                  "14": "30.0",
                  "15": "0.46153846153846156",
                  "16": "0.21951219512195122",
                  "17": "0.21951219512195122"
                },
                {
                  "0": "50386",
                  "1": "4",
                  "2": "15",
                  "3": "19",
                  "4": "26",
                  "5": "67",
                  "6": "74",
                  "7": "11",
                  "8": "14",
                  "9": "15",
                  "10": "21",
                  "11": "38",
                  "12": "40",
                  "13": "7",
                  "14": "12.0",
                  "15": "0.32142857142857145",
                  "16": "0.4392523364485981",
                  "17": "0.3983739837398374"
                },
                {
                  "0": "50434",
                  "1": "1",
                  "2": "11",
                  "3": "14",
                  "4": "8",
                  "5": "64",
                  "6": "81",
                  "7": "4",
                  "8": "13",
                  "9": "13",
                  "10": "7",
                  "11": "23",
                  "12": "29",
                  "13": "8",
                  "14": "12.0",
                  "15": "0.375",
                  "16": "0.43434343434343436",
                  "17": "0.38636363636363635"
                },
                {
                  "0": "50505",
                  "1": "1",
                  "2": "5",
                  "3": "5",
                  "4": "28",
                  "5": "71",
                  "6": "71",
                  "7": "10",
                  "8": "14",
                  "9": "14",
                  "10": "21",
                  "11": "41",
                  "12": "41",
                  "13": "20",
                  "14": "30.0",
                  "15": "0.32142857142857145",
                  "16": "0.2111111111111111",
                  "17": "0.2111111111111111"
                },
                {
                  "0": "50547",
                  "1": "5",
                  "2": "5",
                  "3": "5",
                  "4": "18",
                  "5": "18",
                  "6": "18",
                  "7": "10",
                  "8": "10",
                  "9": "10",
                  "10": "12",
                  "11": "12",
                  "12": "12",
                  "13": "7",
                  "14": "5.0",
                  "15": "0.3793103448275862",
                  "16": "0.3793103448275862",
                  "17": "0.3793103448275862"
                },
                {
                  "0": "50724",
                  "1": "3",
                  "2": "18",
                  "3": "24",
                  "4": "11",
                  "5": "20",
                  "6": "26",
                  "7": "4",
                  "8": "7",
                  "9": "7",
                  "10": "8",
                  "11": "12",
                  "12": "14",
                  "13": "4",
                  "14": "8.0",
                  "15": "1.0",
                  "16": "0.8673469387755102",
                  "17": "0.7796610169491526"
                }
              ],
              "schema": [
                {
                  "key": "0",
                  "name": "user_id",
                  "type": "int"
                },
                {
                  "key": "1",
                  "name": "user_cnt_distinct_order_id_last_30_days",
                  "type": "bigint"
                },
                {
                  "key": "2",
                  "name": "user_cnt_distinct_order_id_last_180_days",
                  "type": "bigint"
                },
                {
                  "key": "3",
                  "name": "user_cnt_distinct_order_id_last_360_days",
                  "type": "bigint"
                },
                {
                  "key": "4",
                  "name": "user_cnt_distinct_product_id_last_30_days",
                  "type": "bigint"
                },
                {
                  "key": "5",
                  "name": "user_cnt_distinct_product_id_last_180_days",
                  "type": "bigint"
                },
                {
                  "key": "6",
                  "name": "user_cnt_distinct_product_id_last_360_days",
                  "type": "bigint"
                },
                {
                  "key": "7",
                  "name": "user_cnt_distinct_department_id_last_30_days",
                  "type": "bigint"
                },
                {
                  "key": "8",
                  "name": "user_cnt_distinct_department_id_last_180_days",
                  "type": "bigint"
                },
                {
                  "key": "9",
                  "name": "user_cnt_distinct_department_id_last_360_days",
                  "type": "bigint"
                },
                {
                  "key": "10",
                  "name": "user_cnt_distinct_aisle_id_last_30_days",
                  "type": "bigint"
                },
                {
                  "key": "11",
                  "name": "user_cnt_distinct_aisle_id_last_180_days",
                  "type": "bigint"
                },
                {
                  "key": "12",
                  "name": "user_cnt_distinct_aisle_id_last_360_days",
                  "type": "bigint"
                },
                {
                  "key": "13",
                  "name": "user_med_lines_per_order",
                  "type": "bigint"
                },
                {
                  "key": "14",
                  "name": "user_med_days_since_prior_order",
                  "type": "float"
                },
                {
                  "key": "15",
                  "name": "user_shr_reordered_last_30_days",
                  "type": "double"
                },
                {
                  "key": "16",
                  "name": "user_shr_reordered_last_180_days",
                  "type": "double"
                },
                {
                  "key": "17",
                  "name": "user_shr_reordered_last_360_days",
                  "type": "double"
                }
              ],
              "truncated": false
            },
            "isSummary": false,
            "language": "scala"
          },
          "persist_state": {
            "view": {
              "type": "details",
              "tableOptions": {},
              "chartOptions": {
                "chartType": "bar",
                "aggregationType": "sum",
                "categoryFieldKeys": [
                  "1"
                ],
                "seriesFieldKeys": [
                  "0"
                ],
                "isStacked": false
              }
            }
          }
        },
        "ce1079c2-730f-4714-83cc-f8ed30e75451": {
          "type": "Synapse.DataFrame",
          "sync_state": {
            "table": {
              "rows": [
                {
                  "0": "5927",
                  "1": "4071",
                  "2": "0",
                  "3": "721554505728"
                },
                {
                  "0": "171743",
                  "1": "4920",
                  "2": "0",
                  "3": "721554505729"
                },
                {
                  "0": "28446",
                  "1": "48600",
                  "2": "0",
                  "3": "721554505730"
                },
                {
                  "0": "109206",
                  "1": "19048",
                  "2": "0",
                  "3": "721554505731"
                },
                {
                  "0": "174219",
                  "1": "3529",
                  "2": "0",
                  "3": "721554505732"
                },
                {
                  "0": "120200",
                  "1": "4799",
                  "2": "0",
                  "3": "721554505733"
                },
                {
                  "0": "184824",
                  "1": "12452",
                  "2": "0",
                  "3": "721554505734"
                },
                {
                  "0": "7136",
                  "1": "8193",
                  "2": "0",
                  "3": "721554505735"
                },
                {
                  "0": "91950",
                  "1": "27730",
                  "2": "0",
                  "3": "721554505736"
                },
                {
                  "0": "59652",
                  "1": "38490",
                  "2": "0",
                  "3": "721554505737"
                }
              ],
              "schema": [
                {
                  "key": "0",
                  "name": "user_id",
                  "type": "int"
                },
                {
                  "key": "1",
                  "name": "product_id",
                  "type": "int"
                },
                {
                  "key": "2",
                  "name": "label",
                  "type": "int"
                },
                {
                  "key": "3",
                  "name": "id",
                  "type": "bigint"
                }
              ],
              "truncated": false
            },
            "isSummary": false,
            "language": "scala"
          },
          "persist_state": {
            "view": {
              "type": "details",
              "tableOptions": {},
              "chartOptions": {
                "chartType": "bar",
                "aggregationType": "sum",
                "categoryFieldKeys": [
                  "1"
                ],
                "seriesFieldKeys": [
                  "0"
                ],
                "isStacked": false
              }
            }
          }
        }
      }
    }
  },
  "nbformat": 4,
  "nbformat_minor": 2
}